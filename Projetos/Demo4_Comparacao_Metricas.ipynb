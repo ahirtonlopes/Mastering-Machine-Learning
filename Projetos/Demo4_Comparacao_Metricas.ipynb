{
  "nbformat": 4,
  "nbformat_minor": 0,
  "metadata": {
    "colab": {
      "provenance": []
    },
    "kernelspec": {
      "name": "python3",
      "display_name": "Python 3"
    },
    "language_info": {
      "name": "python"
    }
  },
  "cells": [
    {
      "cell_type": "markdown",
      "metadata": {
        "id": "qGJhelAPu2uO"
      },
      "source": [
        "# Aula 3 - Machine Learning\n",
        "\n",
        "# Demo 4 - Métricas para Avaliação de Modelos\n",
        "\n",
        "### Prof. Dr. Ahirton Lopes (profahirton.lopes@fiap.com.br)\n",
        "\n",
        "Ref. https://scikit-learn.org/stable/modules/generated/sklearn.datasets.load_diabetes.html\n"
      ]
    },
    {
      "cell_type": "markdown",
      "metadata": {
        "id": "E40i-GxmvTQA"
      },
      "source": [
        "Nossos imports serão o pandas, o datasets, nosso modelo linear e train_test_split do sckitlearn bem como o matplotlib:"
      ]
    },
    {
      "cell_type": "code",
      "metadata": {
        "id": "mkI2RiVEbWeJ"
      },
      "source": [
        "import pandas as pd\n",
        "from sklearn import datasets, linear_model\n",
        "from sklearn.model_selection import train_test_split\n",
        "from matplotlib import pyplot as plt"
      ],
      "execution_count": 12,
      "outputs": []
    },
    {
      "cell_type": "markdown",
      "metadata": {
        "id": "27n7WAvWvvni"
      },
      "source": [
        "Vamos analisar rapidamente as bibliotecas que importamos:\n",
        "\n",
        "Pandas - para carregar o arquivo de dados como um dataframe do Pandas e analisar os dados;\n",
        "\n",
        "No Sklearn, importamos o módulo de conjuntos de dados (databases) para carregar uma base de amostra e o linear_model para executar uma regressão linear;\n",
        "\n",
        "No Sklearn, com a sub-biblioteca model_selection, importamos então train_test_split para que possamos dividir corretamente nossos dados em conjuntos de treinamento e teste;\n",
        "\n",
        "Do Matplotlib, importamos o pyplot para plotar gráficos dos dados."
      ]
    },
    {
      "cell_type": "code",
      "metadata": {
        "id": "ZR4AqD3qbYWZ"
      },
      "source": [
        "# Carregando o dataset 'diabetes'\n",
        "\n",
        "# Declarando os nomes de nossas colunas\n",
        "columns = 'age sex bmi map tc ldl hdl tch ltg glu'.split()\n",
        "\n",
        "# Carregando o dataset 'diabetes'do sklearn\n",
        "diabetes = datasets.load_diabetes()\n",
        "\n",
        "# Carregando o dataset como um pandas dataframe\n",
        "df = pd.DataFrame(diabetes.data, columns=columns)\n",
        "\n",
        "#Definindo nossa variável 'alvo' (dependente) como y\n",
        "y = diabetes.target"
      ],
      "execution_count": 13,
      "outputs": []
    },
    {
      "cell_type": "code",
      "metadata": {
        "id": "icbaDJW3bgMj",
        "colab": {
          "base_uri": "https://localhost:8080/"
        },
        "outputId": "e5952709-7407-41ec-91f8-b76d8bdbe73c"
      },
      "source": [
        "# Criando nossos sets de treinamento e teste (Lembre-se, comumente será em uma proporçao de 70/30 ou 80/20)\n",
        "X_train, X_test, y_train, y_test = train_test_split(df, y, test_size=0.2)\n",
        "print (X_train.shape, y_train.shape)\n",
        "print (X_test.shape, y_test.shape)"
      ],
      "execution_count": 14,
      "outputs": [
        {
          "output_type": "stream",
          "name": "stdout",
          "text": [
            "(353, 10) (353,)\n",
            "(89, 10) (89,)\n"
          ]
        }
      ]
    },
    {
      "cell_type": "markdown",
      "metadata": {
        "id": "Qb6OeiHQxLsJ"
      },
      "source": [
        "Agora, ajustaremos o modelo aos dados de treinamento (model fitting):"
      ]
    },
    {
      "cell_type": "code",
      "metadata": {
        "id": "RjJSF5NXblu2"
      },
      "source": [
        "# Model fitting\n",
        "lm = linear_model.LinearRegression()\n",
        "model = lm.fit(X_train, y_train)\n",
        "predictions = lm.predict(X_test)"
      ],
      "execution_count": 15,
      "outputs": []
    },
    {
      "cell_type": "markdown",
      "metadata": {
        "id": "Zj2V4riiyo3y"
      },
      "source": [
        "Como você pode ver, estamos ajustando o modelo nos dados de treinamento e tentando prever os dados de teste.\n",
        "\n",
        "Vamos ver algumas das previsões:\n"
      ]
    },
    {
      "cell_type": "code",
      "metadata": {
        "id": "s3DkSFRkbp6d",
        "colab": {
          "base_uri": "https://localhost:8080/"
        },
        "outputId": "0af777b9-1429-4e2b-b0d5-de6aba69e6d9"
      },
      "source": [
        "predictions[0:5]"
      ],
      "execution_count": 16,
      "outputs": [
        {
          "output_type": "execute_result",
          "data": {
            "text/plain": [
              "array([231.95899172, 120.9724566 ,  94.40616084, 215.70356294,\n",
              "       118.36611156])"
            ]
          },
          "metadata": {},
          "execution_count": 16
        }
      ]
    },
    {
      "cell_type": "markdown",
      "metadata": {
        "id": "h0mtNLRny3Qg"
      },
      "source": [
        "Obs: como usamos [0: 5] após as previsões, mostra-se então apenas os cinco primeiros valores previstos.\n",
        "\n",
        "Remover o [0: 5] faria com que fossem imprimidos todos os valores previstos que nosso modelo criou.\n",
        "\n",
        "Agora vamos plotar nosso modelo de regressão linear:"
      ]
    },
    {
      "cell_type": "code",
      "metadata": {
        "id": "iVUOAEu5bul0",
        "colab": {
          "base_uri": "https://localhost:8080/",
          "height": 466
        },
        "outputId": "bf458ab2-f036-41a0-d8c2-fe9ddca76d31"
      },
      "source": [
        "## Modelo de regressao linear\n",
        "plt.scatter(y_test, predictions)\n",
        "plt.xlabel('Valores Verdadeiros')\n",
        "plt.ylabel('Predicoes')"
      ],
      "execution_count": 17,
      "outputs": [
        {
          "output_type": "execute_result",
          "data": {
            "text/plain": [
              "Text(0, 0.5, 'Predicoes')"
            ]
          },
          "metadata": {},
          "execution_count": 17
        },
        {
          "output_type": "display_data",
          "data": {
            "text/plain": [
              "<Figure size 640x480 with 1 Axes>"
            ],
            "image/png": "[encoded data removed]"
          },
          "metadata": {}
        }
      ]
    },
    {
      "cell_type": "markdown",
      "metadata": {
        "id": "gUKdi517zl55"
      },
      "source": [
        "Score de acurácia para nosso modelo:"
      ]
    },
    {
      "cell_type": "code",
      "metadata": {
        "id": "dVTdKdIRb3cL",
        "colab": {
          "base_uri": "https://localhost:8080/"
        },
        "outputId": "79c24471-53dd-464d-d850-1001913d74b8"
      },
      "source": [
        "print ('Score:', model.score(X_test, y_test))"
      ],
      "execution_count": 18,
      "outputs": [
        {
          "output_type": "stream",
          "name": "stdout",
          "text": [
            "Score: 0.38179985213327483\n"
          ]
        }
      ]
    },
    {
      "cell_type": "markdown",
      "metadata": {
        "id": "Qhf4tnhWzwJp"
      },
      "source": [
        "## Exercício de fixação e Desafio - Validação Cruzada, K-Pastas e Leave One Out"
      ]
    },
    {
      "cell_type": "markdown",
      "metadata": {
        "id": "sUQb0Sz9z5U0"
      },
      "source": [
        "\n",
        "**[Desafio]** Como desafio, atentem para a utilização do mesmo exemplo mas dessa vez com a utilização de validação via validação cruzada via K-Pastas (K-Folds Cross Validation)  e, a posteriori, façam o mesmo exemplo dessa vez com validação via Método Leave One Out (como visto em aula).\n",
        "\n",
        "Referências:\n",
        "\n",
        "https://scikit-learn.org/stable/modules/generated/sklearn.model_selection.KFold.html\n",
        "\n",
        "https://scikit-learn.org/stable/modules/generated/sklearn.model_selection.LeaveOneOut.html"
      ]
    },
    {
      "cell_type": "code",
      "metadata": {
        "id": "wUY502_rcB7R"
      },
      "source": [
        "# Imports necessários\n",
        "\n",
        "from sklearn.model_selection import cross_val_score, cross_val_predict\n",
        "from sklearn import metrics"
      ],
      "execution_count": 19,
      "outputs": []
    },
    {
      "cell_type": "code",
      "metadata": {
        "id": "rP7iujKvcOjY",
        "colab": {
          "base_uri": "https://localhost:8080/"
        },
        "outputId": "b4b7f862-0d5f-4af1-ec75-a63032127fc9"
      },
      "source": [
        "# Fazendo nossa validação cruzada em 8 k-pastas\n",
        "\n",
        "scores = cross_val_score(model, df, y, cv=8)\n",
        "print ('Scores com Validação Cruzada:', scores)"
      ],
      "execution_count": 20,
      "outputs": [
        {
          "output_type": "stream",
          "name": "stdout",
          "text": [
            "Scores com Validação Cruzada: [0.50283895 0.18991137 0.56539742 0.36996399 0.6004718  0.33262207\n",
            " 0.41403457 0.68713432]\n"
          ]
        }
      ]
    },
    {
      "cell_type": "code",
      "metadata": {
        "id": "ria6Q_0DcjHV",
        "colab": {
          "base_uri": "https://localhost:8080/",
          "height": 447
        },
        "outputId": "ce412087-c502-464b-be79-26e76b33ad64"
      },
      "source": [
        "# Fazendo predições com nossa validação cruzada\n",
        "\n",
        "predictions = cross_val_predict(model, df, y, cv=6)\n",
        "plt.scatter(y, predictions)"
      ],
      "execution_count": 21,
      "outputs": [
        {
          "output_type": "execute_result",
          "data": {
            "text/plain": [
              "<matplotlib.collections.PathCollection at 0x7b3cf95fd010>"
            ]
          },
          "metadata": {},
          "execution_count": 21
        },
        {
          "output_type": "display_data",
          "data": {
            "text/plain": [
              "<Figure size 640x480 with 1 Axes>"
            ],
            "image/png": "[encoded data removed]"
          },
          "metadata": {}
        }
      ]
    },
    {
      "cell_type": "markdown",
      "metadata": {
        "id": "dPYdDCE03t-6"
      },
      "source": [
        "Podemos ver que nosso plot é bem diferente do original, de nosso exemplo anterior. São oito vezes mais pontos que o gráfico original pois usamos cv = 8.\n",
        "\n",
        "Por fim, vamos verificar a pontuação R² do modelo.\n",
        "\n",
        "R² é um \"número que indica a proporção da variação na variável dependente que é previsível a partir da (s) variável (s) independente (s)\".\n",
        "\n",
        "Basicamente, quão preciso é o nosso modelo:\n"
      ]
    },
    {
      "cell_type": "code",
      "metadata": {
        "id": "PoIPN13_cni0",
        "colab": {
          "base_uri": "https://localhost:8080/"
        },
        "outputId": "c5e8104c-b5f4-46f2-a114-f499989bfdc1"
      },
      "source": [
        "accuracy = metrics.r2_score(y, predictions)\n",
        "print ('Acurácia via Predição Cruzada:', accuracy)"
      ],
      "execution_count": 22,
      "outputs": [
        {
          "output_type": "stream",
          "name": "stdout",
          "text": [
            "Acurácia via Predição Cruzada: 0.49080495389383993\n"
          ]
        }
      ]
    },
    {
      "cell_type": "markdown",
      "metadata": {
        "id": "K9POWIPR35rf"
      },
      "source": [
        "Para mais informações sobre outros scores/métricas favor consultar:\n",
        "\n",
        "Ref. https://towardsdatascience.com/machine-learning-cheat-sheet-model-evaluation-and-validation-b67565df6075"
      ]
    }
  ]
}