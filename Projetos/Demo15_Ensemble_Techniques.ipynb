{
  "metadata": {
    "kernelspec": {
      "language": "python",
      "display_name": "Python 3",
      "name": "python3"
    },
    "language_info": {
      "pygments_lexer": "ipython3",
      "nbconvert_exporter": "python",
      "version": "3.6.4",
      "file_extension": ".py",
      "codemirror_mode": {
        "name": "ipython",
        "version": 3
      },
      "name": "python",
      "mimetype": "text/x-python"
    },
    "colab": {
      "provenance": []
    }
  },
  "nbformat_minor": 0,
  "nbformat": 4,
  "cells": [
    {
      "cell_type": "markdown",
      "source": [
        "# Aula 7 - Machine Learning\n",
        "\n",
        "# Demo 15 - Técnicas de Ensembles"
      ],
      "metadata": {
        "id": "EZgyqEfpcURN"
      }
    },
    {
      "cell_type": "markdown",
      "source": [
        "\n",
        "1. [Introdução](#1)\n",
        "    \n",
        "1. [**Técnicas de Ensemble**](#2)\n",
        "    \n",
        "    2.1 [**Max Voting / Voting Classifier**](#21)\n",
        "    \n",
        "    2.2 [**Averaging**](#22)\n",
        "    \n",
        "    2.3 [**Weighted Averaging**](#23)\n",
        "    \n",
        "    2.4 [**Stacking**](#24)\n",
        "    \n",
        "    2.5 [**Blending**](#25)\n",
        "    \n",
        "    2.6 [**Bagging**](#26)\n",
        "    \n",
        "    2.7 [**Boosting**](#27)\n",
        "\n",
        "1. [Referências](#3)  \n",
        "\n",
        "1. [Conclusão](#4)  \n",
        "\n",
        "    \n",
        "# 1. Introdução <a id=\"1\"></a> <br>\n",
        "    \n",
        "**Modelos de Ensemble** têm por. ideia principal melhorar os resultados advindos de algoritmos em ML ao combinar vários modelos de modo a melhor a performance preditiva quando comparado a um modelo único.  \n",
        "\n",
        "![](https://i.imgur.com/L2Jaqm8.png)\n",
        "    \n",
        "# 2. Ensemble Techniques <a id=\"2\"></a> <br>\n",
        "\n",
        "## 2.1 Max Voting / Voting Classifier <a id=\"2.1\"></a> <br>\n",
        "\n",
        "Vamos usar o dataset IRIS para demonstrar um voting classifier."
      ],
      "metadata": {
        "_kg_hide-input": true,
        "id": "QLP0hSAkWVU8"
      }
    },
    {
      "cell_type": "code",
      "source": [
        "# imports\n",
        "from sklearn.ensemble import VotingClassifier ,BaggingClassifier, ExtraTreesClassifier, RandomForestClassifier\n",
        "from sklearn.ensemble import AdaBoostClassifier,GradientBoostingClassifier\n",
        "from sklearn.metrics import accuracy_score\n",
        "from numpy import mean,std\n",
        "from sklearn.datasets import make_classification\n",
        "from sklearn.model_selection import cross_val_score,RepeatedStratifiedKFold,train_test_split\n",
        "from sklearn.linear_model import LogisticRegression,RidgeClassifier\n",
        "from sklearn.neighbors import KNeighborsClassifier\n",
        "from sklearn.tree import DecisionTreeClassifier\n",
        "from sklearn.svm import SVC\n",
        "from sklearn.naive_bayes import GaussianNB\n",
        "from matplotlib import pyplot\n",
        "from sklearn.datasets import load_wine,load_iris\n",
        "from matplotlib.pyplot import figure\n",
        "figure(num=2, figsize=(16, 12), dpi=80, facecolor='w', edgecolor='k')\n",
        "import xgboost as xgb\n",
        "from sklearn.feature_selection import SelectKBest,f_regression\n",
        "from sklearn.linear_model import LinearRegression,BayesianRidge,ElasticNet,Lasso,SGDRegressor,Ridge\n",
        "from sklearn.kernel_ridge import KernelRidge\n",
        "from sklearn.preprocessing import LabelEncoder,OneHotEncoder,RobustScaler,StandardScaler\n",
        "from sklearn.pipeline import make_pipeline,Pipeline\n",
        "from sklearn.metrics import mean_squared_error\n",
        "from sklearn.decomposition import PCA,KernelPCA\n",
        "from sklearn.ensemble import ExtraTreesRegressor,GradientBoostingRegressor,RandomForestRegressor,VotingClassifier\n",
        "from sklearn.model_selection import cross_val_score,KFold,GridSearchCV,RandomizedSearchCV,StratifiedKFold,train_test_split\n",
        "from sklearn.base import BaseEstimator,clone,TransformerMixin,RegressorMixin\n",
        "from sklearn.svm import LinearSVR,SVR\n",
        "#import xgboost\n",
        "from xgboost import XGBRegressor\n",
        "#Import pandas\n",
        "import pandas as pd\n",
        "import numpy as np\n",
        "import matplotlib.pyplot as plt\n",
        "import matplotlib\n",
        "import seaborn as sns\n",
        "import warnings\n",
        "warnings.filterwarnings('ignore')\n",
        "from scipy.stats import skew\n",
        "from scipy.stats.stats import pearsonr\n",
        "%matplotlib inline\n",
        "seed = 1075\n",
        "np.random.seed(seed)"
      ],
      "metadata": {
        "_kg_hide-input": true,
        "trusted": true,
        "colab": {
          "base_uri": "https://localhost:8080/",
          "height": 34
        },
        "id": "XL2cwdvFWVVC",
        "outputId": "77609973-44d4-4673-caaf-edea05e4891f"
      },
      "execution_count": 1,
      "outputs": [
        {
          "output_type": "display_data",
          "data": {
            "text/plain": [
              "<Figure size 1280x960 with 0 Axes>"
            ]
          },
          "metadata": {}
        }
      ]
    },
    {
      "cell_type": "code",
      "source": [
        "# carregando o iris dataset\n",
        "iris = load_iris()\n",
        "X = iris.data[:, :4]\n",
        "Y = iris.target"
      ],
      "metadata": {
        "trusted": true,
        "id": "iircK8x8WVVD"
      },
      "execution_count": 2,
      "outputs": []
    },
    {
      "cell_type": "code",
      "source": [
        "X_train, X_test, y_train, y_test = train_test_split(X,Y,test_size = 0.20,random_state = 42)"
      ],
      "metadata": {
        "trusted": true,
        "id": "4uC9FbcNWVVE"
      },
      "execution_count": 3,
      "outputs": []
    },
    {
      "cell_type": "code",
      "source": [
        "# Ensemble de modelos\n",
        "estimator = []\n",
        "estimator.append(('LR',LogisticRegression(solver ='lbfgs',multi_class ='multinomial',max_iter = 200)))\n",
        "estimator.append(('SVC', SVC(gamma ='auto', probability = True)))\n",
        "estimator.append(('DTC', DecisionTreeClassifier()))"
      ],
      "metadata": {
        "trusted": true,
        "id": "0MERdZCmWVVE"
      },
      "execution_count": 4,
      "outputs": []
    },
    {
      "cell_type": "markdown",
      "source": [
        "**Voting Classifier** suporta dois tipos de \"voto\"\n",
        "\n",
        "**Hard Voting:**\n",
        "![](https://image.slidesharecdn.com/7-180514114334/95/ensemble-learning-and-random-forests-12-638.jpg?cb=1527755412)"
      ],
      "metadata": {
        "id": "fwAq_HHZWVVF"
      }
    },
    {
      "cell_type": "code",
      "source": [
        "# Voting Classifier com hard voting\n",
        "hard_voting = VotingClassifier(estimators = estimator, voting ='hard')\n",
        "hard_voting.fit(X_train, y_train)\n",
        "y_pred = hard_voting.predict(X_test)"
      ],
      "metadata": {
        "trusted": true,
        "id": "Y5HB7Qy5WVVF"
      },
      "execution_count": 5,
      "outputs": []
    },
    {
      "cell_type": "code",
      "source": [
        "# accuracy_score metric de modo a predizer Accuracy\n",
        "score = accuracy_score(y_test, y_pred)\n",
        "print(\"Hard Voting Score % d\" % score)"
      ],
      "metadata": {
        "trusted": true,
        "colab": {
          "base_uri": "https://localhost:8080/"
        },
        "id": "ZpAxD6CrWVVG",
        "outputId": "c0d7245a-8c68-40cc-b230-a17ef87024e1"
      },
      "execution_count": 6,
      "outputs": [
        {
          "output_type": "stream",
          "name": "stdout",
          "text": [
            "Hard Voting Score  1\n"
          ]
        }
      ]
    },
    {
      "cell_type": "markdown",
      "source": [
        "**Soft Voting:**"
      ],
      "metadata": {
        "id": "GYYURHtNWVVG"
      }
    },
    {
      "cell_type": "code",
      "source": [
        "# Voting Classifier com soft voting\n",
        "soft_voting = VotingClassifier(estimators = estimator, voting ='soft')\n",
        "soft_voting.fit(X_train, y_train)\n",
        "y_pred = soft_voting.predict(X_test)"
      ],
      "metadata": {
        "trusted": true,
        "id": "mWwwYMLxWVVG"
      },
      "execution_count": 7,
      "outputs": []
    },
    {
      "cell_type": "code",
      "source": [
        "# Usando accuracy_score\n",
        "score = accuracy_score(y_test, y_pred)\n",
        "print(\"Soft Voting Score % d\" % score)"
      ],
      "metadata": {
        "trusted": true,
        "colab": {
          "base_uri": "https://localhost:8080/"
        },
        "id": "Vl4y3iZwWVVH",
        "outputId": "0632a514-f9bc-4659-aaf3-2e2bde281db2"
      },
      "execution_count": 8,
      "outputs": [
        {
          "output_type": "stream",
          "name": "stdout",
          "text": [
            "Soft Voting Score  1\n"
          ]
        }
      ]
    },
    {
      "cell_type": "markdown",
      "source": [
        "## 2.2 Averaging <a id=\"2.2\"></a> <br>\n"
      ],
      "metadata": {
        "id": "hZaMt1TyWVVH"
      }
    },
    {
      "cell_type": "code",
      "source": [
        "from sklearn.datasets import make_blobs\n",
        "from matplotlib import pyplot\n",
        "from pandas import DataFrame"
      ],
      "metadata": {
        "trusted": true,
        "id": "n4PTG0E8WVVH"
      },
      "execution_count": 9,
      "outputs": []
    },
    {
      "cell_type": "code",
      "source": [
        "# gerando um dataset de classificacao 2d\n",
        "X, y = make_blobs(n_samples=500, centers=3, n_features=2, cluster_std=2, random_state=2)"
      ],
      "metadata": {
        "trusted": true,
        "id": "a4ag57l9WVVH"
      },
      "execution_count": 10,
      "outputs": []
    },
    {
      "cell_type": "code",
      "source": [
        "# scatter plot\n",
        "df = DataFrame(dict(x=X[:,0], y=X[:,1], label=y))\n",
        "colors = {0:'red', 1:'blue', 2:'green'}\n",
        "fig, ax = pyplot.subplots()\n",
        "grouped = df.groupby('label')\n",
        "for key, group in grouped:\n",
        "    group.plot(ax=ax, kind='scatter', x='x', y='y', label=key, color=colors[key])\n",
        "pyplot.show()"
      ],
      "metadata": {
        "trusted": true,
        "colab": {
          "base_uri": "https://localhost:8080/",
          "height": 449
        },
        "id": "WeAwscWUWVVI",
        "outputId": "34cb52fc-f5b5-4347-c0ac-64ecb8655bf6"
      },
      "execution_count": 11,
      "outputs": [
        {
          "output_type": "display_data",
          "data": {
            "text/plain": [
              "<Figure size 640x480 with 1 Axes>"
            ],
            "image/png": "[encoded data removed]"
          },
          "metadata": {}
        }
      ]
    },
    {
      "cell_type": "markdown",
      "source": [
        "## 2.3 Weighted Averaging <a id=\"2.3\"></a> <br>\n",
        "\n",
        "![](https://www.analyticsvidhya.com/wp-content/uploads/2015/08/Screen-Shot-2015-08-22-at-6.40.37-pm.png)"
      ],
      "metadata": {
        "id": "1ivmEiACWVVI"
      }
    },
    {
      "cell_type": "code",
      "source": [
        "train_dataset = \"https://raw.githubusercontent.com/ahirtonlopes/Mastering-Machine-Learning/main/Projetos/train.csv\"\n",
        "test_dataset = \"https://raw.githubusercontent.com/ahirtonlopes/Mastering-Machine-Learning/main/Projetos/test.csv\""
      ],
      "metadata": {
        "id": "YBGyCkmSXzXI"
      },
      "execution_count": 12,
      "outputs": []
    },
    {
      "cell_type": "code",
      "source": [
        "train = pd.read_csv(train_dataset,na_values = '#NAME?')\n",
        "test = pd.read_csv(test_dataset,na_values = '#NAME?')"
      ],
      "metadata": {
        "trusted": true,
        "id": "gRerakzSWVVI"
      },
      "execution_count": 13,
      "outputs": []
    },
    {
      "cell_type": "markdown",
      "source": [
        "Baseado na distribuição dos dados, vamos remover alguns outliers"
      ],
      "metadata": {
        "id": "gtw1J4FiWVVI"
      }
    },
    {
      "cell_type": "code",
      "source": [
        "train.drop(train[(train['GrLivArea'] >4000) & (train['SalePrice']<300000)].index,inplace = True)"
      ],
      "metadata": {
        "trusted": true,
        "id": "4rCKekotWVVI"
      },
      "execution_count": 14,
      "outputs": []
    },
    {
      "cell_type": "code",
      "source": [
        "full = pd.concat([train,test],ignore_index=True)\n",
        "full.drop('Id',axis = 1,inplace = True)\n",
        "full.shape"
      ],
      "metadata": {
        "trusted": true,
        "colab": {
          "base_uri": "https://localhost:8080/"
        },
        "id": "oA8kmnIzWVVJ",
        "outputId": "844fae23-abb2-4e76-bdfc-34a8fae169c0"
      },
      "execution_count": 15,
      "outputs": [
        {
          "output_type": "execute_result",
          "data": {
            "text/plain": [
              "(2917, 80)"
            ]
          },
          "metadata": {},
          "execution_count": 15
        }
      ]
    },
    {
      "cell_type": "markdown",
      "source": [
        "Tratamento de valores faltantes"
      ],
      "metadata": {
        "id": "cxxYFZkIWVVJ"
      }
    },
    {
      "cell_type": "code",
      "source": [
        "missing_values = full.isnull().sum()\n",
        "missing_values[missing_values>0].sort_values(ascending = False)"
      ],
      "metadata": {
        "trusted": true,
        "colab": {
          "base_uri": "https://localhost:8080/"
        },
        "id": "yDZ8bXh1WVVJ",
        "outputId": "0f18d5ff-f2f5-4552-902f-3b65e087fffe"
      },
      "execution_count": 16,
      "outputs": [
        {
          "output_type": "execute_result",
          "data": {
            "text/plain": [
              "PoolQC          2908\n",
              "MiscFeature     2812\n",
              "Alley           2719\n",
              "Fence           2346\n",
              "SalePrice       1459\n",
              "FireplaceQu     1420\n",
              "LotFrontage      486\n",
              "GarageCond       159\n",
              "GarageYrBlt      159\n",
              "GarageFinish     159\n",
              "GarageQual       159\n",
              "GarageType       157\n",
              "BsmtExposure      82\n",
              "BsmtCond          82\n",
              "BsmtQual          81\n",
              "BsmtFinType2      80\n",
              "BsmtFinType1      79\n",
              "MasVnrType        24\n",
              "MasVnrArea        23\n",
              "MSZoning           4\n",
              "Functional         2\n",
              "BsmtHalfBath       2\n",
              "BsmtFullBath       2\n",
              "Utilities          2\n",
              "KitchenQual        1\n",
              "TotalBsmtSF        1\n",
              "BsmtUnfSF          1\n",
              "GarageCars         1\n",
              "GarageArea         1\n",
              "BsmtFinSF2         1\n",
              "BsmtFinSF1         1\n",
              "Exterior2nd        1\n",
              "Exterior1st        1\n",
              "SaleType           1\n",
              "Electrical         1\n",
              "dtype: int64"
            ]
          },
          "metadata": {},
          "execution_count": 16
        }
      ]
    },
    {
      "cell_type": "code",
      "source": [
        "full.groupby(['Neighborhood'])[['LotFrontage']].agg(['mean','median','count'])"
      ],
      "metadata": {
        "trusted": true,
        "colab": {
          "base_uri": "https://localhost:8080/",
          "height": 896
        },
        "id": "22F87KlPWVVJ",
        "outputId": "29c311bb-7141-4bd7-fb2d-61881f3992ff"
      },
      "execution_count": 17,
      "outputs": [
        {
          "output_type": "execute_result",
          "data": {
            "text/plain": [
              "             LotFrontage             \n",
              "                    mean median count\n",
              "Neighborhood                         \n",
              "Blmngtn        46.900000   43.0    20\n",
              "Blueste        27.300000   24.0    10\n",
              "BrDale         21.500000   21.0    30\n",
              "BrkSide        55.789474   51.0    95\n",
              "ClearCr        88.150000   80.5    20\n",
              "CollgCr        71.336364   70.0   220\n",
              "Crawfor        69.951807   70.0    83\n",
              "Edwards        65.153409   64.5   176\n",
              "Gilbert        74.207207   64.0   111\n",
              "IDOTRR         62.241379   60.0    87\n",
              "MeadowV        25.606061   21.0    33\n",
              "Mitchel        75.144444   74.0    90\n",
              "NAmes          75.210667   73.0   375\n",
              "NPkVill        28.142857   24.0    21\n",
              "NWAmes         81.517647   80.0    85\n",
              "NoRidge        91.629630   89.0    54\n",
              "NridgHt        84.184049   92.0   163\n",
              "OldTown        61.777293   60.0   229\n",
              "SWISU          59.068182   60.0    44\n",
              "Sawyer         74.551020   72.0    98\n",
              "SawyerW        70.669811   67.0   106\n",
              "Somerst        64.549383   72.5   162\n",
              "StoneBr        62.173913   60.0    46\n",
              "Timber         81.157895   82.0    57\n",
              "Veenker        72.000000   80.0    16"
            ],
            "text/html": [
              "\n",
              "  <div id=\"df-2b8615bd-876e-4d0a-9bea-69711534a6da\" class=\"colab-df-container\">\n",
              "    <div>\n",
              "<style scoped>\n",
              "    .dataframe tbody tr th:only-of-type {\n",
              "        vertical-align: middle;\n",
              "    }\n",
              "\n",
              "    .dataframe tbody tr th {\n",
              "        vertical-align: top;\n",
              "    }\n",
              "\n",
              "    .dataframe thead tr th {\n",
              "        text-align: left;\n",
              "    }\n",
              "\n",
              "    .dataframe thead tr:last-of-type th {\n",
              "        text-align: right;\n",
              "    }\n",
              "</style>\n",
              "<table border=\"1\" class=\"dataframe\">\n",
              "  <thead>\n",
              "    <tr>\n",
              "      <th></th>\n",
              "      <th colspan=\"3\" halign=\"left\">LotFrontage</th>\n",
              "    </tr>\n",
              "    <tr>\n",
              "      <th></th>\n",
              "      <th>mean</th>\n",
              "      <th>median</th>\n",
              "      <th>count</th>\n",
              "    </tr>\n",
              "    <tr>\n",
              "      <th>Neighborhood</th>\n",
              "      <th></th>\n",
              "      <th></th>\n",
              "      <th></th>\n",
              "    </tr>\n",
              "  </thead>\n",
              "  <tbody>\n",
              "    <tr>\n",
              "      <th>Blmngtn</th>\n",
              "      <td>46.900000</td>\n",
              "      <td>43.0</td>\n",
              "      <td>20</td>\n",
              "    </tr>\n",
              "    <tr>\n",
              "      <th>Blueste</th>\n",
              "      <td>27.300000</td>\n",
              "      <td>24.0</td>\n",
              "      <td>10</td>\n",
              "    </tr>\n",
              "    <tr>\n",
              "      <th>BrDale</th>\n",
              "      <td>21.500000</td>\n",
              "      <td>21.0</td>\n",
              "      <td>30</td>\n",
              "    </tr>\n",
              "    <tr>\n",
              "      <th>BrkSide</th>\n",
              "      <td>55.789474</td>\n",
              "      <td>51.0</td>\n",
              "      <td>95</td>\n",
              "    </tr>\n",
              "    <tr>\n",
              "      <th>ClearCr</th>\n",
              "      <td>88.150000</td>\n",
              "      <td>80.5</td>\n",
              "      <td>20</td>\n",
              "    </tr>\n",
              "    <tr>\n",
              "      <th>CollgCr</th>\n",
              "      <td>71.336364</td>\n",
              "      <td>70.0</td>\n",
              "      <td>220</td>\n",
              "    </tr>\n",
              "    <tr>\n",
              "      <th>Crawfor</th>\n",
              "      <td>69.951807</td>\n",
              "      <td>70.0</td>\n",
              "      <td>83</td>\n",
              "    </tr>\n",
              "    <tr>\n",
              "      <th>Edwards</th>\n",
              "      <td>65.153409</td>\n",
              "      <td>64.5</td>\n",
              "      <td>176</td>\n",
              "    </tr>\n",
              "    <tr>\n",
              "      <th>Gilbert</th>\n",
              "      <td>74.207207</td>\n",
              "      <td>64.0</td>\n",
              "      <td>111</td>\n",
              "    </tr>\n",
              "    <tr>\n",
              "      <th>IDOTRR</th>\n",
              "      <td>62.241379</td>\n",
              "      <td>60.0</td>\n",
              "      <td>87</td>\n",
              "    </tr>\n",
              "    <tr>\n",
              "      <th>MeadowV</th>\n",
              "      <td>25.606061</td>\n",
              "      <td>21.0</td>\n",
              "      <td>33</td>\n",
              "    </tr>\n",
              "    <tr>\n",
              "      <th>Mitchel</th>\n",
              "      <td>75.144444</td>\n",
              "      <td>74.0</td>\n",
              "      <td>90</td>\n",
              "    </tr>\n",
              "    <tr>\n",
              "      <th>NAmes</th>\n",
              "      <td>75.210667</td>\n",
              "      <td>73.0</td>\n",
              "      <td>375</td>\n",
              "    </tr>\n",
              "    <tr>\n",
              "      <th>NPkVill</th>\n",
              "      <td>28.142857</td>\n",
              "      <td>24.0</td>\n",
              "      <td>21</td>\n",
              "    </tr>\n",
              "    <tr>\n",
              "      <th>NWAmes</th>\n",
              "      <td>81.517647</td>\n",
              "      <td>80.0</td>\n",
              "      <td>85</td>\n",
              "    </tr>\n",
              "    <tr>\n",
              "      <th>NoRidge</th>\n",
              "      <td>91.629630</td>\n",
              "      <td>89.0</td>\n",
              "      <td>54</td>\n",
              "    </tr>\n",
              "    <tr>\n",
              "      <th>NridgHt</th>\n",
              "      <td>84.184049</td>\n",
              "      <td>92.0</td>\n",
              "      <td>163</td>\n",
              "    </tr>\n",
              "    <tr>\n",
              "      <th>OldTown</th>\n",
              "      <td>61.777293</td>\n",
              "      <td>60.0</td>\n",
              "      <td>229</td>\n",
              "    </tr>\n",
              "    <tr>\n",
              "      <th>SWISU</th>\n",
              "      <td>59.068182</td>\n",
              "      <td>60.0</td>\n",
              "      <td>44</td>\n",
              "    </tr>\n",
              "    <tr>\n",
              "      <th>Sawyer</th>\n",
              "      <td>74.551020</td>\n",
              "      <td>72.0</td>\n",
              "      <td>98</td>\n",
              "    </tr>\n",
              "    <tr>\n",
              "      <th>SawyerW</th>\n",
              "      <td>70.669811</td>\n",
              "      <td>67.0</td>\n",
              "      <td>106</td>\n",
              "    </tr>\n",
              "    <tr>\n",
              "      <th>Somerst</th>\n",
              "      <td>64.549383</td>\n",
              "      <td>72.5</td>\n",
              "      <td>162</td>\n",
              "    </tr>\n",
              "    <tr>\n",
              "      <th>StoneBr</th>\n",
              "      <td>62.173913</td>\n",
              "      <td>60.0</td>\n",
              "      <td>46</td>\n",
              "    </tr>\n",
              "    <tr>\n",
              "      <th>Timber</th>\n",
              "      <td>81.157895</td>\n",
              "      <td>82.0</td>\n",
              "      <td>57</td>\n",
              "    </tr>\n",
              "    <tr>\n",
              "      <th>Veenker</th>\n",
              "      <td>72.000000</td>\n",
              "      <td>80.0</td>\n",
              "      <td>16</td>\n",
              "    </tr>\n",
              "  </tbody>\n",
              "</table>\n",
              "</div>\n",
              "    <div class=\"colab-df-buttons\">\n",
              "\n",
              "  <div class=\"colab-df-container\">\n",
              "    <button class=\"colab-df-convert\" onclick=\"convertToInteractive('df-2b8615bd-876e-4d0a-9bea-69711534a6da')\"\n",
              "            title=\"Convert this dataframe to an interactive table.\"\n",
              "            style=\"display:none;\">\n",
              "\n",
              "  <svg xmlns=\"http://www.w3.org/2000/svg\" height=\"24px\" viewBox=\"0 -960 960 960\">\n",
              "    <path d=\"M120-120v-720h720v720H120Zm60-500h600v-160H180v160Zm220 220h160v-160H400v160Zm0 220h160v-160H400v160ZM180-400h160v-160H180v160Zm440 0h160v-160H620v160ZM180-180h160v-160H180v160Zm440 0h160v-160H620v160Z\"/>\n",
              "  </svg>\n",
              "    </button>\n",
              "\n",
              "  <style>\n",
              "    .colab-df-container {\n",
              "      display:flex;\n",
              "      gap: 12px;\n",
              "    }\n",
              "\n",
              "    .colab-df-convert {\n",
              "      background-color: #E8F0FE;\n",
              "      border: none;\n",
              "      border-radius: 50%;\n",
              "      cursor: pointer;\n",
              "      display: none;\n",
              "      fill: #1967D2;\n",
              "      height: 32px;\n",
              "      padding: 0 0 0 0;\n",
              "      width: 32px;\n",
              "    }\n",
              "\n",
              "    .colab-df-convert:hover {\n",
              "      background-color: #E2EBFA;\n",
              "      box-shadow: 0px 1px 2px rgba(60, 64, 67, 0.3), 0px 1px 3px 1px rgba(60, 64, 67, 0.15);\n",
              "      fill: #174EA6;\n",
              "    }\n",
              "\n",
              "    .colab-df-buttons div {\n",
              "      margin-bottom: 4px;\n",
              "    }\n",
              "\n",
              "    [theme=dark] .colab-df-convert {\n",
              "      background-color: #3B4455;\n",
              "      fill: #D2E3FC;\n",
              "    }\n",
              "\n",
              "    [theme=dark] .colab-df-convert:hover {\n",
              "      background-color: #434B5C;\n",
              "      box-shadow: 0px 1px 3px 1px rgba(0, 0, 0, 0.15);\n",
              "      filter: drop-shadow(0px 1px 2px rgba(0, 0, 0, 0.3));\n",
              "      fill: #FFFFFF;\n",
              "    }\n",
              "  </style>\n",
              "\n",
              "    <script>\n",
              "      const buttonEl =\n",
              "        document.querySelector('#df-2b8615bd-876e-4d0a-9bea-69711534a6da button.colab-df-convert');\n",
              "      buttonEl.style.display =\n",
              "        google.colab.kernel.accessAllowed ? 'block' : 'none';\n",
              "\n",
              "      async function convertToInteractive(key) {\n",
              "        const element = document.querySelector('#df-2b8615bd-876e-4d0a-9bea-69711534a6da');\n",
              "        const dataTable =\n",
              "          await google.colab.kernel.invokeFunction('convertToInteractive',\n",
              "                                                    [key], {});\n",
              "        if (!dataTable) return;\n",
              "\n",
              "        const docLinkHtml = 'Like what you see? Visit the ' +\n",
              "          '<a target=\"_blank\" href=https://colab.research.google.com/notebooks/data_table.ipynb>data table notebook</a>'\n",
              "          + ' to learn more about interactive tables.';\n",
              "        element.innerHTML = '';\n",
              "        dataTable['output_type'] = 'display_data';\n",
              "        await google.colab.output.renderOutput(dataTable, element);\n",
              "        const docLink = document.createElement('div');\n",
              "        docLink.innerHTML = docLinkHtml;\n",
              "        element.appendChild(docLink);\n",
              "      }\n",
              "    </script>\n",
              "  </div>\n",
              "\n",
              "\n",
              "<div id=\"df-14074432-a452-488e-bfd2-79c1b881de3d\">\n",
              "  <button class=\"colab-df-quickchart\" onclick=\"quickchart('df-14074432-a452-488e-bfd2-79c1b881de3d')\"\n",
              "            title=\"Suggest charts\"\n",
              "            style=\"display:none;\">\n",
              "\n",
              "<svg xmlns=\"http://www.w3.org/2000/svg\" height=\"24px\"viewBox=\"0 0 24 24\"\n",
              "     width=\"24px\">\n",
              "    <g>\n",
              "        <path d=\"M19 3H5c-1.1 0-2 .9-2 2v14c0 1.1.9 2 2 2h14c1.1 0 2-.9 2-2V5c0-1.1-.9-2-2-2zM9 17H7v-7h2v7zm4 0h-2V7h2v10zm4 0h-2v-4h2v4z\"/>\n",
              "    </g>\n",
              "</svg>\n",
              "  </button>\n",
              "\n",
              "<style>\n",
              "  .colab-df-quickchart {\n",
              "      --bg-color: #E8F0FE;\n",
              "      --fill-color: #1967D2;\n",
              "      --hover-bg-color: #E2EBFA;\n",
              "      --hover-fill-color: #174EA6;\n",
              "      --disabled-fill-color: #AAA;\n",
              "      --disabled-bg-color: #DDD;\n",
              "  }\n",
              "\n",
              "  [theme=dark] .colab-df-quickchart {\n",
              "      --bg-color: #3B4455;\n",
              "      --fill-color: #D2E3FC;\n",
              "      --hover-bg-color: #434B5C;\n",
              "      --hover-fill-color: #FFFFFF;\n",
              "      --disabled-bg-color: #3B4455;\n",
              "      --disabled-fill-color: #666;\n",
              "  }\n",
              "\n",
              "  .colab-df-quickchart {\n",
              "    background-color: var(--bg-color);\n",
              "    border: none;\n",
              "    border-radius: 50%;\n",
              "    cursor: pointer;\n",
              "    display: none;\n",
              "    fill: var(--fill-color);\n",
              "    height: 32px;\n",
              "    padding: 0;\n",
              "    width: 32px;\n",
              "  }\n",
              "\n",
              "  .colab-df-quickchart:hover {\n",
              "    background-color: var(--hover-bg-color);\n",
              "    box-shadow: 0 1px 2px rgba(60, 64, 67, 0.3), 0 1px 3px 1px rgba(60, 64, 67, 0.15);\n",
              "    fill: var(--button-hover-fill-color);\n",
              "  }\n",
              "\n",
              "  .colab-df-quickchart-complete:disabled,\n",
              "  .colab-df-quickchart-complete:disabled:hover {\n",
              "    background-color: var(--disabled-bg-color);\n",
              "    fill: var(--disabled-fill-color);\n",
              "    box-shadow: none;\n",
              "  }\n",
              "\n",
              "  .colab-df-spinner {\n",
              "    border: 2px solid var(--fill-color);\n",
              "    border-color: transparent;\n",
              "    border-bottom-color: var(--fill-color);\n",
              "    animation:\n",
              "      spin 1s steps(1) infinite;\n",
              "  }\n",
              "\n",
              "  @keyframes spin {\n",
              "    0% {\n",
              "      border-color: transparent;\n",
              "      border-bottom-color: var(--fill-color);\n",
              "      border-left-color: var(--fill-color);\n",
              "    }\n",
              "    20% {\n",
              "      border-color: transparent;\n",
              "      border-left-color: var(--fill-color);\n",
              "      border-top-color: var(--fill-color);\n",
              "    }\n",
              "    30% {\n",
              "      border-color: transparent;\n",
              "      border-left-color: var(--fill-color);\n",
              "      border-top-color: var(--fill-color);\n",
              "      border-right-color: var(--fill-color);\n",
              "    }\n",
              "    40% {\n",
              "      border-color: transparent;\n",
              "      border-right-color: var(--fill-color);\n",
              "      border-top-color: var(--fill-color);\n",
              "    }\n",
              "    60% {\n",
              "      border-color: transparent;\n",
              "      border-right-color: var(--fill-color);\n",
              "    }\n",
              "    80% {\n",
              "      border-color: transparent;\n",
              "      border-right-color: var(--fill-color);\n",
              "      border-bottom-color: var(--fill-color);\n",
              "    }\n",
              "    90% {\n",
              "      border-color: transparent;\n",
              "      border-bottom-color: var(--fill-color);\n",
              "    }\n",
              "  }\n",
              "</style>\n",
              "\n",
              "  <script>\n",
              "    async function quickchart(key) {\n",
              "      const quickchartButtonEl =\n",
              "        document.querySelector('#' + key + ' button');\n",
              "      quickchartButtonEl.disabled = true;  // To prevent multiple clicks.\n",
              "      quickchartButtonEl.classList.add('colab-df-spinner');\n",
              "      try {\n",
              "        const charts = await google.colab.kernel.invokeFunction(\n",
              "            'suggestCharts', [key], {});\n",
              "      } catch (error) {\n",
              "        console.error('Error during call to suggestCharts:', error);\n",
              "      }\n",
              "      quickchartButtonEl.classList.remove('colab-df-spinner');\n",
              "      quickchartButtonEl.classList.add('colab-df-quickchart-complete');\n",
              "    }\n",
              "    (() => {\n",
              "      let quickchartButtonEl =\n",
              "        document.querySelector('#df-14074432-a452-488e-bfd2-79c1b881de3d button');\n",
              "      quickchartButtonEl.style.display =\n",
              "        google.colab.kernel.accessAllowed ? 'block' : 'none';\n",
              "    })();\n",
              "  </script>\n",
              "</div>\n",
              "\n",
              "    </div>\n",
              "  </div>\n"
            ],
            "application/vnd.google.colaboratory.intrinsic+json": {
              "type": "dataframe",
              "summary": "{\n  \"name\": \"full\",\n  \"rows\": 25,\n  \"fields\": [\n    {\n      \"column\": [\n        \"Neighborhood\",\n        \"\"\n      ],\n      \"properties\": {\n        \"dtype\": \"string\",\n        \"num_unique_values\": 25,\n        \"samples\": [\n          \"Gilbert\",\n          \"NridgHt\",\n          \"Blmngtn\"\n        ],\n        \"semantic_type\": \"\",\n        \"description\": \"\"\n      }\n    },\n    {\n      \"column\": [\n        \"LotFrontage\",\n        \"mean\"\n      ],\n      \"properties\": {\n        \"dtype\": \"number\",\n        \"std\": 19.71087050208039,\n        \"min\": 21.5,\n        \"max\": 91.62962962962963,\n        \"num_unique_values\": 25,\n        \"samples\": [\n          74.2072072072072,\n          84.1840490797546,\n          46.9\n        ],\n        \"semantic_type\": \"\",\n        \"description\": \"\"\n      }\n    },\n    {\n      \"column\": [\n        \"LotFrontage\",\n        \"median\"\n      ],\n      \"properties\": {\n        \"dtype\": \"number\",\n        \"std\": 20.82160336445459,\n        \"min\": 21.0,\n        \"max\": 92.0,\n        \"num_unique_values\": 18,\n        \"samples\": [\n          43.0,\n          24.0,\n          60.0\n        ],\n        \"semantic_type\": \"\",\n        \"description\": \"\"\n      }\n    },\n    {\n      \"column\": [\n        \"LotFrontage\",\n        \"count\"\n      ],\n      \"properties\": {\n        \"dtype\": \"number\",\n        \"std\": 85,\n        \"min\": 10,\n        \"max\": 375,\n        \"num_unique_values\": 24,\n        \"samples\": [\n          87,\n          229,\n          20\n        ],\n        \"semantic_type\": \"\",\n        \"description\": \"\"\n      }\n    }\n  ]\n}"
            }
          },
          "metadata": {},
          "execution_count": 17
        }
      ]
    },
    {
      "cell_type": "code",
      "source": [
        "full['LotAreaCut'] = pd.qcut(full.LotArea,10)\n",
        "\n",
        "full.groupby([full['LotAreaCut']])[['LotFrontage']].agg(['mean','median','count'])"
      ],
      "metadata": {
        "trusted": true,
        "colab": {
          "base_uri": "https://localhost:8080/",
          "height": 426
        },
        "id": "Zyzsx0jQWVVJ",
        "outputId": "c809cfec-e124-4edd-f791-42ab1fe1d162"
      },
      "execution_count": 18,
      "outputs": [
        {
          "output_type": "execute_result",
          "data": {
            "text/plain": [
              "                    LotFrontage             \n",
              "                           mean median count\n",
              "LotAreaCut                                  \n",
              "(1299.999, 4921.8]    35.741036   34.0   251\n",
              "(4921.8, 7007.2]      55.460674   52.0   267\n",
              "(7007.2, 7949.0]      62.959839   62.0   249\n",
              "(7949.0, 8740.4]      67.113725   65.0   255\n",
              "(8740.4, 9452.0]      69.959184   70.0   245\n",
              "(9452.0, 10148.8]     73.988235   75.0   255\n",
              "(10148.8, 11000.0]    73.636364   75.0   253\n",
              "(11000.0, 12196.8]    83.371681   82.0   226\n",
              "(12196.8, 14285.8]    84.973684   85.0   228\n",
              "(14285.8, 215245.0]   92.846535   90.0   202"
            ],
            "text/html": [
              "\n",
              "  <div id=\"df-68066bfa-d633-4cda-b3e2-8c73a9113a81\" class=\"colab-df-container\">\n",
              "    <div>\n",
              "<style scoped>\n",
              "    .dataframe tbody tr th:only-of-type {\n",
              "        vertical-align: middle;\n",
              "    }\n",
              "\n",
              "    .dataframe tbody tr th {\n",
              "        vertical-align: top;\n",
              "    }\n",
              "\n",
              "    .dataframe thead tr th {\n",
              "        text-align: left;\n",
              "    }\n",
              "\n",
              "    .dataframe thead tr:last-of-type th {\n",
              "        text-align: right;\n",
              "    }\n",
              "</style>\n",
              "<table border=\"1\" class=\"dataframe\">\n",
              "  <thead>\n",
              "    <tr>\n",
              "      <th></th>\n",
              "      <th colspan=\"3\" halign=\"left\">LotFrontage</th>\n",
              "    </tr>\n",
              "    <tr>\n",
              "      <th></th>\n",
              "      <th>mean</th>\n",
              "      <th>median</th>\n",
              "      <th>count</th>\n",
              "    </tr>\n",
              "    <tr>\n",
              "      <th>LotAreaCut</th>\n",
              "      <th></th>\n",
              "      <th></th>\n",
              "      <th></th>\n",
              "    </tr>\n",
              "  </thead>\n",
              "  <tbody>\n",
              "    <tr>\n",
              "      <th>(1299.999, 4921.8]</th>\n",
              "      <td>35.741036</td>\n",
              "      <td>34.0</td>\n",
              "      <td>251</td>\n",
              "    </tr>\n",
              "    <tr>\n",
              "      <th>(4921.8, 7007.2]</th>\n",
              "      <td>55.460674</td>\n",
              "      <td>52.0</td>\n",
              "      <td>267</td>\n",
              "    </tr>\n",
              "    <tr>\n",
              "      <th>(7007.2, 7949.0]</th>\n",
              "      <td>62.959839</td>\n",
              "      <td>62.0</td>\n",
              "      <td>249</td>\n",
              "    </tr>\n",
              "    <tr>\n",
              "      <th>(7949.0, 8740.4]</th>\n",
              "      <td>67.113725</td>\n",
              "      <td>65.0</td>\n",
              "      <td>255</td>\n",
              "    </tr>\n",
              "    <tr>\n",
              "      <th>(8740.4, 9452.0]</th>\n",
              "      <td>69.959184</td>\n",
              "      <td>70.0</td>\n",
              "      <td>245</td>\n",
              "    </tr>\n",
              "    <tr>\n",
              "      <th>(9452.0, 10148.8]</th>\n",
              "      <td>73.988235</td>\n",
              "      <td>75.0</td>\n",
              "      <td>255</td>\n",
              "    </tr>\n",
              "    <tr>\n",
              "      <th>(10148.8, 11000.0]</th>\n",
              "      <td>73.636364</td>\n",
              "      <td>75.0</td>\n",
              "      <td>253</td>\n",
              "    </tr>\n",
              "    <tr>\n",
              "      <th>(11000.0, 12196.8]</th>\n",
              "      <td>83.371681</td>\n",
              "      <td>82.0</td>\n",
              "      <td>226</td>\n",
              "    </tr>\n",
              "    <tr>\n",
              "      <th>(12196.8, 14285.8]</th>\n",
              "      <td>84.973684</td>\n",
              "      <td>85.0</td>\n",
              "      <td>228</td>\n",
              "    </tr>\n",
              "    <tr>\n",
              "      <th>(14285.8, 215245.0]</th>\n",
              "      <td>92.846535</td>\n",
              "      <td>90.0</td>\n",
              "      <td>202</td>\n",
              "    </tr>\n",
              "  </tbody>\n",
              "</table>\n",
              "</div>\n",
              "    <div class=\"colab-df-buttons\">\n",
              "\n",
              "  <div class=\"colab-df-container\">\n",
              "    <button class=\"colab-df-convert\" onclick=\"convertToInteractive('df-68066bfa-d633-4cda-b3e2-8c73a9113a81')\"\n",
              "            title=\"Convert this dataframe to an interactive table.\"\n",
              "            style=\"display:none;\">\n",
              "\n",
              "  <svg xmlns=\"http://www.w3.org/2000/svg\" height=\"24px\" viewBox=\"0 -960 960 960\">\n",
              "    <path d=\"M120-120v-720h720v720H120Zm60-500h600v-160H180v160Zm220 220h160v-160H400v160Zm0 220h160v-160H400v160ZM180-400h160v-160H180v160Zm440 0h160v-160H620v160ZM180-180h160v-160H180v160Zm440 0h160v-160H620v160Z\"/>\n",
              "  </svg>\n",
              "    </button>\n",
              "\n",
              "  <style>\n",
              "    .colab-df-container {\n",
              "      display:flex;\n",
              "      gap: 12px;\n",
              "    }\n",
              "\n",
              "    .colab-df-convert {\n",
              "      background-color: #E8F0FE;\n",
              "      border: none;\n",
              "      border-radius: 50%;\n",
              "      cursor: pointer;\n",
              "      display: none;\n",
              "      fill: #1967D2;\n",
              "      height: 32px;\n",
              "      padding: 0 0 0 0;\n",
              "      width: 32px;\n",
              "    }\n",
              "\n",
              "    .colab-df-convert:hover {\n",
              "      background-color: #E2EBFA;\n",
              "      box-shadow: 0px 1px 2px rgba(60, 64, 67, 0.3), 0px 1px 3px 1px rgba(60, 64, 67, 0.15);\n",
              "      fill: #174EA6;\n",
              "    }\n",
              "\n",
              "    .colab-df-buttons div {\n",
              "      margin-bottom: 4px;\n",
              "    }\n",
              "\n",
              "    [theme=dark] .colab-df-convert {\n",
              "      background-color: #3B4455;\n",
              "      fill: #D2E3FC;\n",
              "    }\n",
              "\n",
              "    [theme=dark] .colab-df-convert:hover {\n",
              "      background-color: #434B5C;\n",
              "      box-shadow: 0px 1px 3px 1px rgba(0, 0, 0, 0.15);\n",
              "      filter: drop-shadow(0px 1px 2px rgba(0, 0, 0, 0.3));\n",
              "      fill: #FFFFFF;\n",
              "    }\n",
              "  </style>\n",
              "\n",
              "    <script>\n",
              "      const buttonEl =\n",
              "        document.querySelector('#df-68066bfa-d633-4cda-b3e2-8c73a9113a81 button.colab-df-convert');\n",
              "      buttonEl.style.display =\n",
              "        google.colab.kernel.accessAllowed ? 'block' : 'none';\n",
              "\n",
              "      async function convertToInteractive(key) {\n",
              "        const element = document.querySelector('#df-68066bfa-d633-4cda-b3e2-8c73a9113a81');\n",
              "        const dataTable =\n",
              "          await google.colab.kernel.invokeFunction('convertToInteractive',\n",
              "                                                    [key], {});\n",
              "        if (!dataTable) return;\n",
              "\n",
              "        const docLinkHtml = 'Like what you see? Visit the ' +\n",
              "          '<a target=\"_blank\" href=https://colab.research.google.com/notebooks/data_table.ipynb>data table notebook</a>'\n",
              "          + ' to learn more about interactive tables.';\n",
              "        element.innerHTML = '';\n",
              "        dataTable['output_type'] = 'display_data';\n",
              "        await google.colab.output.renderOutput(dataTable, element);\n",
              "        const docLink = document.createElement('div');\n",
              "        docLink.innerHTML = docLinkHtml;\n",
              "        element.appendChild(docLink);\n",
              "      }\n",
              "    </script>\n",
              "  </div>\n",
              "\n",
              "\n",
              "<div id=\"df-beaa0b1b-5ab5-4cfb-b90f-652b37a5c95c\">\n",
              "  <button class=\"colab-df-quickchart\" onclick=\"quickchart('df-beaa0b1b-5ab5-4cfb-b90f-652b37a5c95c')\"\n",
              "            title=\"Suggest charts\"\n",
              "            style=\"display:none;\">\n",
              "\n",
              "<svg xmlns=\"http://www.w3.org/2000/svg\" height=\"24px\"viewBox=\"0 0 24 24\"\n",
              "     width=\"24px\">\n",
              "    <g>\n",
              "        <path d=\"M19 3H5c-1.1 0-2 .9-2 2v14c0 1.1.9 2 2 2h14c1.1 0 2-.9 2-2V5c0-1.1-.9-2-2-2zM9 17H7v-7h2v7zm4 0h-2V7h2v10zm4 0h-2v-4h2v4z\"/>\n",
              "    </g>\n",
              "</svg>\n",
              "  </button>\n",
              "\n",
              "<style>\n",
              "  .colab-df-quickchart {\n",
              "      --bg-color: #E8F0FE;\n",
              "      --fill-color: #1967D2;\n",
              "      --hover-bg-color: #E2EBFA;\n",
              "      --hover-fill-color: #174EA6;\n",
              "      --disabled-fill-color: #AAA;\n",
              "      --disabled-bg-color: #DDD;\n",
              "  }\n",
              "\n",
              "  [theme=dark] .colab-df-quickchart {\n",
              "      --bg-color: #3B4455;\n",
              "      --fill-color: #D2E3FC;\n",
              "      --hover-bg-color: #434B5C;\n",
              "      --hover-fill-color: #FFFFFF;\n",
              "      --disabled-bg-color: #3B4455;\n",
              "      --disabled-fill-color: #666;\n",
              "  }\n",
              "\n",
              "  .colab-df-quickchart {\n",
              "    background-color: var(--bg-color);\n",
              "    border: none;\n",
              "    border-radius: 50%;\n",
              "    cursor: pointer;\n",
              "    display: none;\n",
              "    fill: var(--fill-color);\n",
              "    height: 32px;\n",
              "    padding: 0;\n",
              "    width: 32px;\n",
              "  }\n",
              "\n",
              "  .colab-df-quickchart:hover {\n",
              "    background-color: var(--hover-bg-color);\n",
              "    box-shadow: 0 1px 2px rgba(60, 64, 67, 0.3), 0 1px 3px 1px rgba(60, 64, 67, 0.15);\n",
              "    fill: var(--button-hover-fill-color);\n",
              "  }\n",
              "\n",
              "  .colab-df-quickchart-complete:disabled,\n",
              "  .colab-df-quickchart-complete:disabled:hover {\n",
              "    background-color: var(--disabled-bg-color);\n",
              "    fill: var(--disabled-fill-color);\n",
              "    box-shadow: none;\n",
              "  }\n",
              "\n",
              "  .colab-df-spinner {\n",
              "    border: 2px solid var(--fill-color);\n",
              "    border-color: transparent;\n",
              "    border-bottom-color: var(--fill-color);\n",
              "    animation:\n",
              "      spin 1s steps(1) infinite;\n",
              "  }\n",
              "\n",
              "  @keyframes spin {\n",
              "    0% {\n",
              "      border-color: transparent;\n",
              "      border-bottom-color: var(--fill-color);\n",
              "      border-left-color: var(--fill-color);\n",
              "    }\n",
              "    20% {\n",
              "      border-color: transparent;\n",
              "      border-left-color: var(--fill-color);\n",
              "      border-top-color: var(--fill-color);\n",
              "    }\n",
              "    30% {\n",
              "      border-color: transparent;\n",
              "      border-left-color: var(--fill-color);\n",
              "      border-top-color: var(--fill-color);\n",
              "      border-right-color: var(--fill-color);\n",
              "    }\n",
              "    40% {\n",
              "      border-color: transparent;\n",
              "      border-right-color: var(--fill-color);\n",
              "      border-top-color: var(--fill-color);\n",
              "    }\n",
              "    60% {\n",
              "      border-color: transparent;\n",
              "      border-right-color: var(--fill-color);\n",
              "    }\n",
              "    80% {\n",
              "      border-color: transparent;\n",
              "      border-right-color: var(--fill-color);\n",
              "      border-bottom-color: var(--fill-color);\n",
              "    }\n",
              "    90% {\n",
              "      border-color: transparent;\n",
              "      border-bottom-color: var(--fill-color);\n",
              "    }\n",
              "  }\n",
              "</style>\n",
              "\n",
              "  <script>\n",
              "    async function quickchart(key) {\n",
              "      const quickchartButtonEl =\n",
              "        document.querySelector('#' + key + ' button');\n",
              "      quickchartButtonEl.disabled = true;  // To prevent multiple clicks.\n",
              "      quickchartButtonEl.classList.add('colab-df-spinner');\n",
              "      try {\n",
              "        const charts = await google.colab.kernel.invokeFunction(\n",
              "            'suggestCharts', [key], {});\n",
              "      } catch (error) {\n",
              "        console.error('Error during call to suggestCharts:', error);\n",
              "      }\n",
              "      quickchartButtonEl.classList.remove('colab-df-spinner');\n",
              "      quickchartButtonEl.classList.add('colab-df-quickchart-complete');\n",
              "    }\n",
              "    (() => {\n",
              "      let quickchartButtonEl =\n",
              "        document.querySelector('#df-beaa0b1b-5ab5-4cfb-b90f-652b37a5c95c button');\n",
              "      quickchartButtonEl.style.display =\n",
              "        google.colab.kernel.accessAllowed ? 'block' : 'none';\n",
              "    })();\n",
              "  </script>\n",
              "</div>\n",
              "\n",
              "    </div>\n",
              "  </div>\n"
            ],
            "application/vnd.google.colaboratory.intrinsic+json": {
              "type": "dataframe",
              "summary": "{\n  \"name\": \"full\",\n  \"rows\": 10,\n  \"fields\": [\n    {\n      \"column\": [\n        \"LotAreaCut\",\n        \"\"\n      ],\n      \"properties\": {\n        \"dtype\": \"category\",\n        \"num_unique_values\": 10,\n        \"samples\": [\n          \"(12196.8, 14285.8]\",\n          \"(4921.8, 7007.2]\",\n          \"(9452.0, 10148.8]\"\n        ],\n        \"semantic_type\": \"\",\n        \"description\": \"\"\n      }\n    },\n    {\n      \"column\": [\n        \"LotFrontage\",\n        \"mean\"\n      ],\n      \"properties\": {\n        \"dtype\": \"number\",\n        \"std\": 16.31996343445632,\n        \"min\": 35.7410358565737,\n        \"max\": 92.84653465346534,\n        \"num_unique_values\": 10,\n        \"samples\": [\n          84.97368421052632,\n          55.46067415730337,\n          73.98823529411764\n        ],\n        \"semantic_type\": \"\",\n        \"description\": \"\"\n      }\n    },\n    {\n      \"column\": [\n        \"LotFrontage\",\n        \"median\"\n      ],\n      \"properties\": {\n        \"dtype\": \"number\",\n        \"std\": 16.726559053725836,\n        \"min\": 34.0,\n        \"max\": 90.0,\n        \"num_unique_values\": 9,\n        \"samples\": [\n          85.0,\n          52.0,\n          75.0\n        ],\n        \"semantic_type\": \"\",\n        \"description\": \"\"\n      }\n    },\n    {\n      \"column\": [\n        \"LotFrontage\",\n        \"count\"\n      ],\n      \"properties\": {\n        \"dtype\": \"number\",\n        \"std\": 19,\n        \"min\": 202,\n        \"max\": 267,\n        \"num_unique_values\": 9,\n        \"samples\": [\n          228,\n          267,\n          253\n        ],\n        \"semantic_type\": \"\",\n        \"description\": \"\"\n      }\n    }\n  ]\n}"
            }
          },
          "metadata": {},
          "execution_count": 18
        }
      ]
    },
    {
      "cell_type": "code",
      "source": [
        "full['LotFrontage']= full.groupby(['LotAreaCut','Neighborhood'])['LotFrontage'].transform(lambda x : x.fillna(x.median()))\n",
        "full['LotFrontage']= full.groupby(['LotAreaCut'])['LotFrontage'].transform(lambda x : x.fillna(x.median()))"
      ],
      "metadata": {
        "trusted": true,
        "id": "t0twDSJUWVVK"
      },
      "execution_count": 19,
      "outputs": []
    },
    {
      "cell_type": "code",
      "source": [
        "missing_values = full.isnull().sum()\n",
        "\n",
        "missing_values[missing_values>0].sort_values(ascending = False)"
      ],
      "metadata": {
        "trusted": true,
        "colab": {
          "base_uri": "https://localhost:8080/"
        },
        "id": "9L-1aVpEWVVK",
        "outputId": "527948bf-f59b-4cc8-afe7-60205a2db47d"
      },
      "execution_count": 20,
      "outputs": [
        {
          "output_type": "execute_result",
          "data": {
            "text/plain": [
              "PoolQC          2908\n",
              "MiscFeature     2812\n",
              "Alley           2719\n",
              "Fence           2346\n",
              "SalePrice       1459\n",
              "FireplaceQu     1420\n",
              "GarageCond       159\n",
              "GarageQual       159\n",
              "GarageFinish     159\n",
              "GarageYrBlt      159\n",
              "GarageType       157\n",
              "BsmtCond          82\n",
              "BsmtExposure      82\n",
              "BsmtQual          81\n",
              "BsmtFinType2      80\n",
              "BsmtFinType1      79\n",
              "MasVnrType        24\n",
              "MasVnrArea        23\n",
              "MSZoning           4\n",
              "Functional         2\n",
              "BsmtHalfBath       2\n",
              "Utilities          2\n",
              "BsmtFullBath       2\n",
              "KitchenQual        1\n",
              "Electrical         1\n",
              "TotalBsmtSF        1\n",
              "BsmtUnfSF          1\n",
              "GarageCars         1\n",
              "GarageArea         1\n",
              "BsmtFinSF2         1\n",
              "BsmtFinSF1         1\n",
              "Exterior2nd        1\n",
              "Exterior1st        1\n",
              "SaleType           1\n",
              "dtype: int64"
            ]
          },
          "metadata": {},
          "execution_count": 20
        }
      ]
    },
    {
      "cell_type": "code",
      "source": [
        "columns = [\"MasVnrArea\", \"BsmtUnfSF\", \"TotalBsmtSF\", \"GarageCars\", \"BsmtFinSF2\", \"BsmtFinSF1\", \"GarageArea\"]\n",
        "for col in columns:full[col].fillna(0,inplace= True)"
      ],
      "metadata": {
        "trusted": true,
        "id": "a4-toPE7WVVK"
      },
      "execution_count": 21,
      "outputs": []
    },
    {
      "cell_type": "code",
      "source": [
        "columns1 = [\"PoolQC\" , \"MiscFeature\", \"Alley\", \"Fence\", \"FireplaceQu\", \"GarageQual\", \"GarageCond\", \"GarageFinish\",\n",
        "\"GarageYrBlt\", \"GarageType\", \"BsmtExposure\", \"BsmtCond\", \"BsmtQual\", \"BsmtFinType2\", \"BsmtFinType1\", \"MasVnrType\"]\n",
        "for col1 in columns1:full[col1].fillna('None',inplace = True)"
      ],
      "metadata": {
        "trusted": true,
        "id": "FeticT81WVVK"
      },
      "execution_count": 22,
      "outputs": []
    },
    {
      "cell_type": "code",
      "source": [
        "columns2 = [\"MSZoning\", \"BsmtFullBath\", \"BsmtHalfBath\", \"Utilities\", \"Functional\",\n",
        "            \"Electrical\", \"KitchenQual\", \"SaleType\",\"Exterior1st\", \"Exterior2nd\"]\n",
        "\n",
        "for col2 in columns2:\n",
        "    full[col2].fillna(full[col2].mode()[0],inplace = True)"
      ],
      "metadata": {
        "trusted": true,
        "id": "cZCzzBinWVVK"
      },
      "execution_count": 23,
      "outputs": []
    },
    {
      "cell_type": "code",
      "source": [
        "full.isnull().sum()[full.isnull().sum()>0]"
      ],
      "metadata": {
        "trusted": true,
        "colab": {
          "base_uri": "https://localhost:8080/"
        },
        "id": "rBsRqeTVWVVL",
        "outputId": "c4d60604-9b7c-43db-9dd8-dbc4d2d91316"
      },
      "execution_count": 24,
      "outputs": [
        {
          "output_type": "execute_result",
          "data": {
            "text/plain": [
              "SalePrice    1459\n",
              "dtype: int64"
            ]
          },
          "metadata": {},
          "execution_count": 24
        }
      ]
    },
    {
      "cell_type": "code",
      "source": [
        "numeric_features = full.select_dtypes(include=[np.number])\n",
        "numeric_features.columns"
      ],
      "metadata": {
        "trusted": true,
        "colab": {
          "base_uri": "https://localhost:8080/"
        },
        "id": "HKCP695sWVVM",
        "outputId": "d4ae3394-a287-4002-ea0a-d7ed90eeb100"
      },
      "execution_count": 25,
      "outputs": [
        {
          "output_type": "execute_result",
          "data": {
            "text/plain": [
              "Index(['MSSubClass', 'LotFrontage', 'LotArea', 'OverallQual', 'OverallCond',\n",
              "       'YearBuilt', 'YearRemodAdd', 'MasVnrArea', 'BsmtFinSF1', 'BsmtFinSF2',\n",
              "       'BsmtUnfSF', 'TotalBsmtSF', '1stFlrSF', '2ndFlrSF', 'LowQualFinSF',\n",
              "       'GrLivArea', 'BsmtFullBath', 'BsmtHalfBath', 'FullBath', 'HalfBath',\n",
              "       'BedroomAbvGr', 'KitchenAbvGr', 'TotRmsAbvGrd', 'Fireplaces',\n",
              "       'GarageCars', 'GarageArea', 'WoodDeckSF', 'OpenPorchSF',\n",
              "       'EnclosedPorch', '3SsnPorch', 'ScreenPorch', 'PoolArea', 'MiscVal',\n",
              "       'MoSold', 'YrSold', 'SalePrice'],\n",
              "      dtype='object')"
            ]
          },
          "metadata": {},
          "execution_count": 25
        }
      ]
    },
    {
      "cell_type": "code",
      "source": [
        "Numstr = [\"MSSubClass\",\"BsmtFullBath\",\"BsmtHalfBath\",\"HalfBath\",\"BedroomAbvGr\",\"KitchenAbvGr\",\"MoSold\",\n",
        "          \"YrSold\",\"YearBuilt\",\"YearRemodAdd\",\"LowQualFinSF\",\"GarageYrBlt\"]\n",
        "\n",
        "for i in Numstr:\n",
        "    full[i]=full[i].astype(str)"
      ],
      "metadata": {
        "trusted": true,
        "id": "9RmE8a7GWVVM"
      },
      "execution_count": 26,
      "outputs": []
    },
    {
      "cell_type": "code",
      "source": [
        "full.groupby(['MSSubClass'])[['SalePrice']].agg(['mean','median','count'])"
      ],
      "metadata": {
        "trusted": true,
        "colab": {
          "base_uri": "https://localhost:8080/",
          "height": 614
        },
        "id": "EBbpFiWPWVVM",
        "outputId": "0abcb9ab-b686-4c2c-fa81-13ff71455352"
      },
      "execution_count": 27,
      "outputs": [
        {
          "output_type": "execute_result",
          "data": {
            "text/plain": [
              "                SalePrice                \n",
              "                     mean    median count\n",
              "MSSubClass                               \n",
              "120         200779.080460  192000.0    87\n",
              "150                   NaN       NaN     0\n",
              "160         138647.380952  146000.0    63\n",
              "180         102300.000000   88500.0    10\n",
              "190         129613.333333  128250.0    30\n",
              "20          185224.811567  159250.0   536\n",
              "30           95829.724638   99900.0    69\n",
              "40          156125.000000  142500.0     4\n",
              "45          108591.666667  107500.0    12\n",
              "50          143302.972222  132000.0   144\n",
              "60          240403.542088  216000.0   297\n",
              "70          166772.416667  156000.0    60\n",
              "75          192437.500000  163500.0    16\n",
              "80          169736.551724  166500.0    58\n",
              "85          147810.000000  140750.0    20\n",
              "90          133541.076923  135980.0    52"
            ],
            "text/html": [
              "\n",
              "  <div id=\"df-7ba75c03-f58a-4be8-aed2-580bd5400c4e\" class=\"colab-df-container\">\n",
              "    <div>\n",
              "<style scoped>\n",
              "    .dataframe tbody tr th:only-of-type {\n",
              "        vertical-align: middle;\n",
              "    }\n",
              "\n",
              "    .dataframe tbody tr th {\n",
              "        vertical-align: top;\n",
              "    }\n",
              "\n",
              "    .dataframe thead tr th {\n",
              "        text-align: left;\n",
              "    }\n",
              "\n",
              "    .dataframe thead tr:last-of-type th {\n",
              "        text-align: right;\n",
              "    }\n",
              "</style>\n",
              "<table border=\"1\" class=\"dataframe\">\n",
              "  <thead>\n",
              "    <tr>\n",
              "      <th></th>\n",
              "      <th colspan=\"3\" halign=\"left\">SalePrice</th>\n",
              "    </tr>\n",
              "    <tr>\n",
              "      <th></th>\n",
              "      <th>mean</th>\n",
              "      <th>median</th>\n",
              "      <th>count</th>\n",
              "    </tr>\n",
              "    <tr>\n",
              "      <th>MSSubClass</th>\n",
              "      <th></th>\n",
              "      <th></th>\n",
              "      <th></th>\n",
              "    </tr>\n",
              "  </thead>\n",
              "  <tbody>\n",
              "    <tr>\n",
              "      <th>120</th>\n",
              "      <td>200779.080460</td>\n",
              "      <td>192000.0</td>\n",
              "      <td>87</td>\n",
              "    </tr>\n",
              "    <tr>\n",
              "      <th>150</th>\n",
              "      <td>NaN</td>\n",
              "      <td>NaN</td>\n",
              "      <td>0</td>\n",
              "    </tr>\n",
              "    <tr>\n",
              "      <th>160</th>\n",
              "      <td>138647.380952</td>\n",
              "      <td>146000.0</td>\n",
              "      <td>63</td>\n",
              "    </tr>\n",
              "    <tr>\n",
              "      <th>180</th>\n",
              "      <td>102300.000000</td>\n",
              "      <td>88500.0</td>\n",
              "      <td>10</td>\n",
              "    </tr>\n",
              "    <tr>\n",
              "      <th>190</th>\n",
              "      <td>129613.333333</td>\n",
              "      <td>128250.0</td>\n",
              "      <td>30</td>\n",
              "    </tr>\n",
              "    <tr>\n",
              "      <th>20</th>\n",
              "      <td>185224.811567</td>\n",
              "      <td>159250.0</td>\n",
              "      <td>536</td>\n",
              "    </tr>\n",
              "    <tr>\n",
              "      <th>30</th>\n",
              "      <td>95829.724638</td>\n",
              "      <td>99900.0</td>\n",
              "      <td>69</td>\n",
              "    </tr>\n",
              "    <tr>\n",
              "      <th>40</th>\n",
              "      <td>156125.000000</td>\n",
              "      <td>142500.0</td>\n",
              "      <td>4</td>\n",
              "    </tr>\n",
              "    <tr>\n",
              "      <th>45</th>\n",
              "      <td>108591.666667</td>\n",
              "      <td>107500.0</td>\n",
              "      <td>12</td>\n",
              "    </tr>\n",
              "    <tr>\n",
              "      <th>50</th>\n",
              "      <td>143302.972222</td>\n",
              "      <td>132000.0</td>\n",
              "      <td>144</td>\n",
              "    </tr>\n",
              "    <tr>\n",
              "      <th>60</th>\n",
              "      <td>240403.542088</td>\n",
              "      <td>216000.0</td>\n",
              "      <td>297</td>\n",
              "    </tr>\n",
              "    <tr>\n",
              "      <th>70</th>\n",
              "      <td>166772.416667</td>\n",
              "      <td>156000.0</td>\n",
              "      <td>60</td>\n",
              "    </tr>\n",
              "    <tr>\n",
              "      <th>75</th>\n",
              "      <td>192437.500000</td>\n",
              "      <td>163500.0</td>\n",
              "      <td>16</td>\n",
              "    </tr>\n",
              "    <tr>\n",
              "      <th>80</th>\n",
              "      <td>169736.551724</td>\n",
              "      <td>166500.0</td>\n",
              "      <td>58</td>\n",
              "    </tr>\n",
              "    <tr>\n",
              "      <th>85</th>\n",
              "      <td>147810.000000</td>\n",
              "      <td>140750.0</td>\n",
              "      <td>20</td>\n",
              "    </tr>\n",
              "    <tr>\n",
              "      <th>90</th>\n",
              "      <td>133541.076923</td>\n",
              "      <td>135980.0</td>\n",
              "      <td>52</td>\n",
              "    </tr>\n",
              "  </tbody>\n",
              "</table>\n",
              "</div>\n",
              "    <div class=\"colab-df-buttons\">\n",
              "\n",
              "  <div class=\"colab-df-container\">\n",
              "    <button class=\"colab-df-convert\" onclick=\"convertToInteractive('df-7ba75c03-f58a-4be8-aed2-580bd5400c4e')\"\n",
              "            title=\"Convert this dataframe to an interactive table.\"\n",
              "            style=\"display:none;\">\n",
              "\n",
              "  <svg xmlns=\"http://www.w3.org/2000/svg\" height=\"24px\" viewBox=\"0 -960 960 960\">\n",
              "    <path d=\"M120-120v-720h720v720H120Zm60-500h600v-160H180v160Zm220 220h160v-160H400v160Zm0 220h160v-160H400v160ZM180-400h160v-160H180v160Zm440 0h160v-160H620v160ZM180-180h160v-160H180v160Zm440 0h160v-160H620v160Z\"/>\n",
              "  </svg>\n",
              "    </button>\n",
              "\n",
              "  <style>\n",
              "    .colab-df-container {\n",
              "      display:flex;\n",
              "      gap: 12px;\n",
              "    }\n",
              "\n",
              "    .colab-df-convert {\n",
              "      background-color: #E8F0FE;\n",
              "      border: none;\n",
              "      border-radius: 50%;\n",
              "      cursor: pointer;\n",
              "      display: none;\n",
              "      fill: #1967D2;\n",
              "      height: 32px;\n",
              "      padding: 0 0 0 0;\n",
              "      width: 32px;\n",
              "    }\n",
              "\n",
              "    .colab-df-convert:hover {\n",
              "      background-color: #E2EBFA;\n",
              "      box-shadow: 0px 1px 2px rgba(60, 64, 67, 0.3), 0px 1px 3px 1px rgba(60, 64, 67, 0.15);\n",
              "      fill: #174EA6;\n",
              "    }\n",
              "\n",
              "    .colab-df-buttons div {\n",
              "      margin-bottom: 4px;\n",
              "    }\n",
              "\n",
              "    [theme=dark] .colab-df-convert {\n",
              "      background-color: #3B4455;\n",
              "      fill: #D2E3FC;\n",
              "    }\n",
              "\n",
              "    [theme=dark] .colab-df-convert:hover {\n",
              "      background-color: #434B5C;\n",
              "      box-shadow: 0px 1px 3px 1px rgba(0, 0, 0, 0.15);\n",
              "      filter: drop-shadow(0px 1px 2px rgba(0, 0, 0, 0.3));\n",
              "      fill: #FFFFFF;\n",
              "    }\n",
              "  </style>\n",
              "\n",
              "    <script>\n",
              "      const buttonEl =\n",
              "        document.querySelector('#df-7ba75c03-f58a-4be8-aed2-580bd5400c4e button.colab-df-convert');\n",
              "      buttonEl.style.display =\n",
              "        google.colab.kernel.accessAllowed ? 'block' : 'none';\n",
              "\n",
              "      async function convertToInteractive(key) {\n",
              "        const element = document.querySelector('#df-7ba75c03-f58a-4be8-aed2-580bd5400c4e');\n",
              "        const dataTable =\n",
              "          await google.colab.kernel.invokeFunction('convertToInteractive',\n",
              "                                                    [key], {});\n",
              "        if (!dataTable) return;\n",
              "\n",
              "        const docLinkHtml = 'Like what you see? Visit the ' +\n",
              "          '<a target=\"_blank\" href=https://colab.research.google.com/notebooks/data_table.ipynb>data table notebook</a>'\n",
              "          + ' to learn more about interactive tables.';\n",
              "        element.innerHTML = '';\n",
              "        dataTable['output_type'] = 'display_data';\n",
              "        await google.colab.output.renderOutput(dataTable, element);\n",
              "        const docLink = document.createElement('div');\n",
              "        docLink.innerHTML = docLinkHtml;\n",
              "        element.appendChild(docLink);\n",
              "      }\n",
              "    </script>\n",
              "  </div>\n",
              "\n",
              "\n",
              "<div id=\"df-d246db68-8df3-4b85-84ba-c4a629a94099\">\n",
              "  <button class=\"colab-df-quickchart\" onclick=\"quickchart('df-d246db68-8df3-4b85-84ba-c4a629a94099')\"\n",
              "            title=\"Suggest charts\"\n",
              "            style=\"display:none;\">\n",
              "\n",
              "<svg xmlns=\"http://www.w3.org/2000/svg\" height=\"24px\"viewBox=\"0 0 24 24\"\n",
              "     width=\"24px\">\n",
              "    <g>\n",
              "        <path d=\"M19 3H5c-1.1 0-2 .9-2 2v14c0 1.1.9 2 2 2h14c1.1 0 2-.9 2-2V5c0-1.1-.9-2-2-2zM9 17H7v-7h2v7zm4 0h-2V7h2v10zm4 0h-2v-4h2v4z\"/>\n",
              "    </g>\n",
              "</svg>\n",
              "  </button>\n",
              "\n",
              "<style>\n",
              "  .colab-df-quickchart {\n",
              "      --bg-color: #E8F0FE;\n",
              "      --fill-color: #1967D2;\n",
              "      --hover-bg-color: #E2EBFA;\n",
              "      --hover-fill-color: #174EA6;\n",
              "      --disabled-fill-color: #AAA;\n",
              "      --disabled-bg-color: #DDD;\n",
              "  }\n",
              "\n",
              "  [theme=dark] .colab-df-quickchart {\n",
              "      --bg-color: #3B4455;\n",
              "      --fill-color: #D2E3FC;\n",
              "      --hover-bg-color: #434B5C;\n",
              "      --hover-fill-color: #FFFFFF;\n",
              "      --disabled-bg-color: #3B4455;\n",
              "      --disabled-fill-color: #666;\n",
              "  }\n",
              "\n",
              "  .colab-df-quickchart {\n",
              "    background-color: var(--bg-color);\n",
              "    border: none;\n",
              "    border-radius: 50%;\n",
              "    cursor: pointer;\n",
              "    display: none;\n",
              "    fill: var(--fill-color);\n",
              "    height: 32px;\n",
              "    padding: 0;\n",
              "    width: 32px;\n",
              "  }\n",
              "\n",
              "  .colab-df-quickchart:hover {\n",
              "    background-color: var(--hover-bg-color);\n",
              "    box-shadow: 0 1px 2px rgba(60, 64, 67, 0.3), 0 1px 3px 1px rgba(60, 64, 67, 0.15);\n",
              "    fill: var(--button-hover-fill-color);\n",
              "  }\n",
              "\n",
              "  .colab-df-quickchart-complete:disabled,\n",
              "  .colab-df-quickchart-complete:disabled:hover {\n",
              "    background-color: var(--disabled-bg-color);\n",
              "    fill: var(--disabled-fill-color);\n",
              "    box-shadow: none;\n",
              "  }\n",
              "\n",
              "  .colab-df-spinner {\n",
              "    border: 2px solid var(--fill-color);\n",
              "    border-color: transparent;\n",
              "    border-bottom-color: var(--fill-color);\n",
              "    animation:\n",
              "      spin 1s steps(1) infinite;\n",
              "  }\n",
              "\n",
              "  @keyframes spin {\n",
              "    0% {\n",
              "      border-color: transparent;\n",
              "      border-bottom-color: var(--fill-color);\n",
              "      border-left-color: var(--fill-color);\n",
              "    }\n",
              "    20% {\n",
              "      border-color: transparent;\n",
              "      border-left-color: var(--fill-color);\n",
              "      border-top-color: var(--fill-color);\n",
              "    }\n",
              "    30% {\n",
              "      border-color: transparent;\n",
              "      border-left-color: var(--fill-color);\n",
              "      border-top-color: var(--fill-color);\n",
              "      border-right-color: var(--fill-color);\n",
              "    }\n",
              "    40% {\n",
              "      border-color: transparent;\n",
              "      border-right-color: var(--fill-color);\n",
              "      border-top-color: var(--fill-color);\n",
              "    }\n",
              "    60% {\n",
              "      border-color: transparent;\n",
              "      border-right-color: var(--fill-color);\n",
              "    }\n",
              "    80% {\n",
              "      border-color: transparent;\n",
              "      border-right-color: var(--fill-color);\n",
              "      border-bottom-color: var(--fill-color);\n",
              "    }\n",
              "    90% {\n",
              "      border-color: transparent;\n",
              "      border-bottom-color: var(--fill-color);\n",
              "    }\n",
              "  }\n",
              "</style>\n",
              "\n",
              "  <script>\n",
              "    async function quickchart(key) {\n",
              "      const quickchartButtonEl =\n",
              "        document.querySelector('#' + key + ' button');\n",
              "      quickchartButtonEl.disabled = true;  // To prevent multiple clicks.\n",
              "      quickchartButtonEl.classList.add('colab-df-spinner');\n",
              "      try {\n",
              "        const charts = await google.colab.kernel.invokeFunction(\n",
              "            'suggestCharts', [key], {});\n",
              "      } catch (error) {\n",
              "        console.error('Error during call to suggestCharts:', error);\n",
              "      }\n",
              "      quickchartButtonEl.classList.remove('colab-df-spinner');\n",
              "      quickchartButtonEl.classList.add('colab-df-quickchart-complete');\n",
              "    }\n",
              "    (() => {\n",
              "      let quickchartButtonEl =\n",
              "        document.querySelector('#df-d246db68-8df3-4b85-84ba-c4a629a94099 button');\n",
              "      quickchartButtonEl.style.display =\n",
              "        google.colab.kernel.accessAllowed ? 'block' : 'none';\n",
              "    })();\n",
              "  </script>\n",
              "</div>\n",
              "\n",
              "    </div>\n",
              "  </div>\n"
            ],
            "application/vnd.google.colaboratory.intrinsic+json": {
              "type": "dataframe",
              "summary": "{\n  \"name\": \"full\",\n  \"rows\": 16,\n  \"fields\": [\n    {\n      \"column\": [\n        \"MSSubClass\",\n        \"\"\n      ],\n      \"properties\": {\n        \"dtype\": \"string\",\n        \"num_unique_values\": 16,\n        \"samples\": [\n          \"120\",\n          \"150\",\n          \"20\"\n        ],\n        \"semantic_type\": \"\",\n        \"description\": \"\"\n      }\n    },\n    {\n      \"column\": [\n        \"SalePrice\",\n        \"mean\"\n      ],\n      \"properties\": {\n        \"dtype\": \"number\",\n        \"std\": 39678.8908177748,\n        \"min\": 95829.72463768115,\n        \"max\": 240403.5420875421,\n        \"num_unique_values\": 15,\n        \"samples\": [\n          240403.5420875421,\n          192437.5,\n          200779.0804597701\n        ],\n        \"semantic_type\": \"\",\n        \"description\": \"\"\n      }\n    },\n    {\n      \"column\": [\n        \"SalePrice\",\n        \"median\"\n      ],\n      \"properties\": {\n        \"dtype\": \"number\",\n        \"std\": 33345.9129786688,\n        \"min\": 88500.0,\n        \"max\": 216000.0,\n        \"num_unique_values\": 15,\n        \"samples\": [\n          216000.0,\n          163500.0,\n          192000.0\n        ],\n        \"semantic_type\": \"\",\n        \"description\": \"\"\n      }\n    },\n    {\n      \"column\": [\n        \"SalePrice\",\n        \"count\"\n      ],\n      \"properties\": {\n        \"dtype\": \"number\",\n        \"std\": 139,\n        \"min\": 0,\n        \"max\": 536,\n        \"num_unique_values\": 16,\n        \"samples\": [\n          87,\n          0,\n          536\n        ],\n        \"semantic_type\": \"\",\n        \"description\": \"\"\n      }\n    }\n  ]\n}"
            }
          },
          "metadata": {},
          "execution_count": 27
        }
      ]
    },
    {
      "cell_type": "code",
      "source": [
        "def map_values():\n",
        "    full[\"oMSSubClass\"] = full.MSSubClass.map({'180':1,\n",
        "                                        '30':2, '45':2,\n",
        "                                        '190':3, '50':3, '90':3,\n",
        "                                        '85':4, '40':4, '160':4,\n",
        "                                        '70':5, '20':5, '75':5, '80':5, '150':5,\n",
        "                                        '120': 6, '60':6})\n",
        "\n",
        "    full[\"oMSZoning\"] = full.MSZoning.map({'C (all)':1, 'RH':2, 'RM':2, 'RL':3, 'FV':4})\n",
        "    full[\"oNeighborhood\"] = full.Neighborhood.map({'MeadowV':1,\n",
        "                                               'IDOTRR':2, 'BrDale':2,\n",
        "                                               'OldTown':3, 'Edwards':3, 'BrkSide':3,\n",
        "                                               'Sawyer':4, 'Blueste':4, 'SWISU':4, 'NAmes':4,\n",
        "                                               'NPkVill':5, 'Mitchel':5,\n",
        "                                               'SawyerW':6, 'Gilbert':6, 'NWAmes':6,\n",
        "                                               'Blmngtn':7, 'CollgCr':7, 'ClearCr':7, 'Crawfor':7,\n",
        "                                               'Veenker':8, 'Somerst':8, 'Timber':8,\n",
        "                                               'StoneBr':9,\n",
        "                                               'NoRidge':10, 'NridgHt':10})\n",
        "\n",
        "    full[\"oCondition1\"] = full.Condition1.map({'Artery':1,\n",
        "                                           'Feedr':2, 'RRAe':2,\n",
        "                                           'Norm':3, 'RRAn':3,\n",
        "                                           'PosN':4, 'RRNe':4,\n",
        "                                           'PosA':5 ,'RRNn':5})\n",
        "\n",
        "    full[\"oBldgType\"] = full.BldgType.map({'2fmCon':1, 'Duplex':1, 'Twnhs':1, '1Fam':2, 'TwnhsE':2})\n",
        "\n",
        "    full[\"oHouseStyle\"] = full.HouseStyle.map({'1.5Unf':1,\n",
        "                                           '1.5Fin':2, '2.5Unf':2, 'SFoyer':2,\n",
        "                                           '1Story':3, 'SLvl':3,\n",
        "                                           '2Story':4, '2.5Fin':4})\n",
        "\n",
        "    full[\"oExterior1st\"] = full.Exterior1st.map({'BrkComm':1,\n",
        "                                             'AsphShn':2, 'CBlock':2, 'AsbShng':2,\n",
        "                                             'WdShing':3, 'Wd Sdng':3, 'MetalSd':3, 'Stucco':3, 'HdBoard':3,\n",
        "                                             'BrkFace':4, 'Plywood':4,\n",
        "                                             'VinylSd':5,\n",
        "                                             'CemntBd':6,\n",
        "                                             'Stone':7, 'ImStucc':7})\n",
        "\n",
        "    full[\"oMasVnrType\"] = full.MasVnrType.map({'BrkCmn':1, 'None':1, 'BrkFace':2, 'Stone':3})\n",
        "\n",
        "    full[\"oExterQual\"] = full.ExterQual.map({'Fa':1, 'TA':2, 'Gd':3, 'Ex':4})\n",
        "\n",
        "    full[\"oFoundation\"] = full.Foundation.map({'Slab':1,\n",
        "                                           'BrkTil':2, 'CBlock':2, 'Stone':2,\n",
        "                                           'Wood':3, 'PConc':4})\n",
        "\n",
        "    full[\"oBsmtQual\"] = full.BsmtQual.map({'Fa':2, 'None':1, 'TA':3, 'Gd':4, 'Ex':5})\n",
        "\n",
        "    full[\"oBsmtExposure\"] = full.BsmtExposure.map({'None':1, 'No':2, 'Av':3, 'Mn':3, 'Gd':4})\n",
        "\n",
        "    full[\"oHeating\"] = full.Heating.map({'Floor':1, 'Grav':1, 'Wall':2, 'OthW':3, 'GasW':4, 'GasA':5})\n",
        "\n",
        "    full[\"oHeatingQC\"] = full.HeatingQC.map({'Po':1, 'Fa':2, 'TA':3, 'Gd':4, 'Ex':5})\n",
        "\n",
        "    full[\"oKitchenQual\"] = full.KitchenQual.map({'Fa':1, 'TA':2, 'Gd':3, 'Ex':4})\n",
        "\n",
        "    full[\"oFunctional\"] = full.Functional.map({'Maj2':1, 'Maj1':2, 'Min1':2, 'Min2':2, 'Mod':2, 'Sev':2, 'Typ':3})\n",
        "\n",
        "    full[\"oFireplaceQu\"] = full.FireplaceQu.map({'None':1, 'Po':1, 'Fa':2, 'TA':3, 'Gd':4, 'Ex':5})\n",
        "\n",
        "    full[\"oGarageType\"] = full.GarageType.map({'CarPort':1, 'None':1,\n",
        "                                           'Detchd':2,\n",
        "                                           '2Types':3, 'Basment':3,\n",
        "                                           'Attchd':4, 'BuiltIn':5})\n",
        "\n",
        "    full[\"oGarageFinish\"] = full.GarageFinish.map({'None':1, 'Unf':2, 'RFn':3, 'Fin':4})\n",
        "\n",
        "    full[\"oPavedDrive\"] = full.PavedDrive.map({'N':1, 'P':2, 'Y':3})\n",
        "\n",
        "    full[\"oSaleType\"] = full.SaleType.map({'COD':1, 'ConLD':1, 'ConLI':1, 'ConLw':1, 'Oth':1, 'WD':1,\n",
        "                                       'CWD':2, 'Con':3, 'New':3})\n",
        "\n",
        "    full[\"oSaleCondition\"] = full.SaleCondition.map({'AdjLand':1, 'Abnorml':2, 'Alloca':2, 'Family':2, 'Normal':3, 'Partial':4})\n",
        "\n",
        "\n",
        "\n",
        "\n",
        "    return \"Done!\"\n"
      ],
      "metadata": {
        "trusted": true,
        "id": "l65MUX-tWVVM"
      },
      "execution_count": 28,
      "outputs": []
    },
    {
      "cell_type": "code",
      "source": [
        "map_values()"
      ],
      "metadata": {
        "trusted": true,
        "colab": {
          "base_uri": "https://localhost:8080/",
          "height": 35
        },
        "id": "_-vgjhp6WVVM",
        "outputId": "5c2abf0a-9770-43da-bd65-933c22b2b85e"
      },
      "execution_count": 29,
      "outputs": [
        {
          "output_type": "execute_result",
          "data": {
            "text/plain": [
              "'Done!'"
            ],
            "application/vnd.google.colaboratory.intrinsic+json": {
              "type": "string"
            }
          },
          "metadata": {},
          "execution_count": 29
        }
      ]
    },
    {
      "cell_type": "code",
      "source": [
        "# dropando duas colunas desnecessárias\n",
        "full.drop(\"LotAreaCut\",axis=1,inplace=True)\n",
        "\n",
        "full.drop(['SalePrice'],axis=1,inplace=True)"
      ],
      "metadata": {
        "trusted": true,
        "id": "_gXrEZqlWVVN"
      },
      "execution_count": 30,
      "outputs": []
    },
    {
      "cell_type": "code",
      "source": [
        "full[['YearBuilt','YearRemodAdd','GarageYrBlt']].head()"
      ],
      "metadata": {
        "trusted": true,
        "colab": {
          "base_uri": "https://localhost:8080/",
          "height": 206
        },
        "id": "GELnVrqyWVVN",
        "outputId": "b653da8d-b7b3-4683-eb26-c36fa1c059f4"
      },
      "execution_count": 31,
      "outputs": [
        {
          "output_type": "execute_result",
          "data": {
            "text/plain": [
              "  YearBuilt YearRemodAdd GarageYrBlt\n",
              "0      2003         2003      2003.0\n",
              "1      1976         1976      1976.0\n",
              "2      2001         2002      2001.0\n",
              "3      1915         1970      1998.0\n",
              "4      2000         2000      2000.0"
            ],
            "text/html": [
              "\n",
              "  <div id=\"df-d73c8457-6dbe-4443-a2c1-1c8ee3c68324\" class=\"colab-df-container\">\n",
              "    <div>\n",
              "<style scoped>\n",
              "    .dataframe tbody tr th:only-of-type {\n",
              "        vertical-align: middle;\n",
              "    }\n",
              "\n",
              "    .dataframe tbody tr th {\n",
              "        vertical-align: top;\n",
              "    }\n",
              "\n",
              "    .dataframe thead th {\n",
              "        text-align: right;\n",
              "    }\n",
              "</style>\n",
              "<table border=\"1\" class=\"dataframe\">\n",
              "  <thead>\n",
              "    <tr style=\"text-align: right;\">\n",
              "      <th></th>\n",
              "      <th>YearBuilt</th>\n",
              "      <th>YearRemodAdd</th>\n",
              "      <th>GarageYrBlt</th>\n",
              "    </tr>\n",
              "  </thead>\n",
              "  <tbody>\n",
              "    <tr>\n",
              "      <th>0</th>\n",
              "      <td>2003</td>\n",
              "      <td>2003</td>\n",
              "      <td>2003.0</td>\n",
              "    </tr>\n",
              "    <tr>\n",
              "      <th>1</th>\n",
              "      <td>1976</td>\n",
              "      <td>1976</td>\n",
              "      <td>1976.0</td>\n",
              "    </tr>\n",
              "    <tr>\n",
              "      <th>2</th>\n",
              "      <td>2001</td>\n",
              "      <td>2002</td>\n",
              "      <td>2001.0</td>\n",
              "    </tr>\n",
              "    <tr>\n",
              "      <th>3</th>\n",
              "      <td>1915</td>\n",
              "      <td>1970</td>\n",
              "      <td>1998.0</td>\n",
              "    </tr>\n",
              "    <tr>\n",
              "      <th>4</th>\n",
              "      <td>2000</td>\n",
              "      <td>2000</td>\n",
              "      <td>2000.0</td>\n",
              "    </tr>\n",
              "  </tbody>\n",
              "</table>\n",
              "</div>\n",
              "    <div class=\"colab-df-buttons\">\n",
              "\n",
              "  <div class=\"colab-df-container\">\n",
              "    <button class=\"colab-df-convert\" onclick=\"convertToInteractive('df-d73c8457-6dbe-4443-a2c1-1c8ee3c68324')\"\n",
              "            title=\"Convert this dataframe to an interactive table.\"\n",
              "            style=\"display:none;\">\n",
              "\n",
              "  <svg xmlns=\"http://www.w3.org/2000/svg\" height=\"24px\" viewBox=\"0 -960 960 960\">\n",
              "    <path d=\"M120-120v-720h720v720H120Zm60-500h600v-160H180v160Zm220 220h160v-160H400v160Zm0 220h160v-160H400v160ZM180-400h160v-160H180v160Zm440 0h160v-160H620v160ZM180-180h160v-160H180v160Zm440 0h160v-160H620v160Z\"/>\n",
              "  </svg>\n",
              "    </button>\n",
              "\n",
              "  <style>\n",
              "    .colab-df-container {\n",
              "      display:flex;\n",
              "      gap: 12px;\n",
              "    }\n",
              "\n",
              "    .colab-df-convert {\n",
              "      background-color: #E8F0FE;\n",
              "      border: none;\n",
              "      border-radius: 50%;\n",
              "      cursor: pointer;\n",
              "      display: none;\n",
              "      fill: #1967D2;\n",
              "      height: 32px;\n",
              "      padding: 0 0 0 0;\n",
              "      width: 32px;\n",
              "    }\n",
              "\n",
              "    .colab-df-convert:hover {\n",
              "      background-color: #E2EBFA;\n",
              "      box-shadow: 0px 1px 2px rgba(60, 64, 67, 0.3), 0px 1px 3px 1px rgba(60, 64, 67, 0.15);\n",
              "      fill: #174EA6;\n",
              "    }\n",
              "\n",
              "    .colab-df-buttons div {\n",
              "      margin-bottom: 4px;\n",
              "    }\n",
              "\n",
              "    [theme=dark] .colab-df-convert {\n",
              "      background-color: #3B4455;\n",
              "      fill: #D2E3FC;\n",
              "    }\n",
              "\n",
              "    [theme=dark] .colab-df-convert:hover {\n",
              "      background-color: #434B5C;\n",
              "      box-shadow: 0px 1px 3px 1px rgba(0, 0, 0, 0.15);\n",
              "      filter: drop-shadow(0px 1px 2px rgba(0, 0, 0, 0.3));\n",
              "      fill: #FFFFFF;\n",
              "    }\n",
              "  </style>\n",
              "\n",
              "    <script>\n",
              "      const buttonEl =\n",
              "        document.querySelector('#df-d73c8457-6dbe-4443-a2c1-1c8ee3c68324 button.colab-df-convert');\n",
              "      buttonEl.style.display =\n",
              "        google.colab.kernel.accessAllowed ? 'block' : 'none';\n",
              "\n",
              "      async function convertToInteractive(key) {\n",
              "        const element = document.querySelector('#df-d73c8457-6dbe-4443-a2c1-1c8ee3c68324');\n",
              "        const dataTable =\n",
              "          await google.colab.kernel.invokeFunction('convertToInteractive',\n",
              "                                                    [key], {});\n",
              "        if (!dataTable) return;\n",
              "\n",
              "        const docLinkHtml = 'Like what you see? Visit the ' +\n",
              "          '<a target=\"_blank\" href=https://colab.research.google.com/notebooks/data_table.ipynb>data table notebook</a>'\n",
              "          + ' to learn more about interactive tables.';\n",
              "        element.innerHTML = '';\n",
              "        dataTable['output_type'] = 'display_data';\n",
              "        await google.colab.output.renderOutput(dataTable, element);\n",
              "        const docLink = document.createElement('div');\n",
              "        docLink.innerHTML = docLinkHtml;\n",
              "        element.appendChild(docLink);\n",
              "      }\n",
              "    </script>\n",
              "  </div>\n",
              "\n",
              "\n",
              "<div id=\"df-08493cb3-1976-4892-b6c0-aea8782de531\">\n",
              "  <button class=\"colab-df-quickchart\" onclick=\"quickchart('df-08493cb3-1976-4892-b6c0-aea8782de531')\"\n",
              "            title=\"Suggest charts\"\n",
              "            style=\"display:none;\">\n",
              "\n",
              "<svg xmlns=\"http://www.w3.org/2000/svg\" height=\"24px\"viewBox=\"0 0 24 24\"\n",
              "     width=\"24px\">\n",
              "    <g>\n",
              "        <path d=\"M19 3H5c-1.1 0-2 .9-2 2v14c0 1.1.9 2 2 2h14c1.1 0 2-.9 2-2V5c0-1.1-.9-2-2-2zM9 17H7v-7h2v7zm4 0h-2V7h2v10zm4 0h-2v-4h2v4z\"/>\n",
              "    </g>\n",
              "</svg>\n",
              "  </button>\n",
              "\n",
              "<style>\n",
              "  .colab-df-quickchart {\n",
              "      --bg-color: #E8F0FE;\n",
              "      --fill-color: #1967D2;\n",
              "      --hover-bg-color: #E2EBFA;\n",
              "      --hover-fill-color: #174EA6;\n",
              "      --disabled-fill-color: #AAA;\n",
              "      --disabled-bg-color: #DDD;\n",
              "  }\n",
              "\n",
              "  [theme=dark] .colab-df-quickchart {\n",
              "      --bg-color: #3B4455;\n",
              "      --fill-color: #D2E3FC;\n",
              "      --hover-bg-color: #434B5C;\n",
              "      --hover-fill-color: #FFFFFF;\n",
              "      --disabled-bg-color: #3B4455;\n",
              "      --disabled-fill-color: #666;\n",
              "  }\n",
              "\n",
              "  .colab-df-quickchart {\n",
              "    background-color: var(--bg-color);\n",
              "    border: none;\n",
              "    border-radius: 50%;\n",
              "    cursor: pointer;\n",
              "    display: none;\n",
              "    fill: var(--fill-color);\n",
              "    height: 32px;\n",
              "    padding: 0;\n",
              "    width: 32px;\n",
              "  }\n",
              "\n",
              "  .colab-df-quickchart:hover {\n",
              "    background-color: var(--hover-bg-color);\n",
              "    box-shadow: 0 1px 2px rgba(60, 64, 67, 0.3), 0 1px 3px 1px rgba(60, 64, 67, 0.15);\n",
              "    fill: var(--button-hover-fill-color);\n",
              "  }\n",
              "\n",
              "  .colab-df-quickchart-complete:disabled,\n",
              "  .colab-df-quickchart-complete:disabled:hover {\n",
              "    background-color: var(--disabled-bg-color);\n",
              "    fill: var(--disabled-fill-color);\n",
              "    box-shadow: none;\n",
              "  }\n",
              "\n",
              "  .colab-df-spinner {\n",
              "    border: 2px solid var(--fill-color);\n",
              "    border-color: transparent;\n",
              "    border-bottom-color: var(--fill-color);\n",
              "    animation:\n",
              "      spin 1s steps(1) infinite;\n",
              "  }\n",
              "\n",
              "  @keyframes spin {\n",
              "    0% {\n",
              "      border-color: transparent;\n",
              "      border-bottom-color: var(--fill-color);\n",
              "      border-left-color: var(--fill-color);\n",
              "    }\n",
              "    20% {\n",
              "      border-color: transparent;\n",
              "      border-left-color: var(--fill-color);\n",
              "      border-top-color: var(--fill-color);\n",
              "    }\n",
              "    30% {\n",
              "      border-color: transparent;\n",
              "      border-left-color: var(--fill-color);\n",
              "      border-top-color: var(--fill-color);\n",
              "      border-right-color: var(--fill-color);\n",
              "    }\n",
              "    40% {\n",
              "      border-color: transparent;\n",
              "      border-right-color: var(--fill-color);\n",
              "      border-top-color: var(--fill-color);\n",
              "    }\n",
              "    60% {\n",
              "      border-color: transparent;\n",
              "      border-right-color: var(--fill-color);\n",
              "    }\n",
              "    80% {\n",
              "      border-color: transparent;\n",
              "      border-right-color: var(--fill-color);\n",
              "      border-bottom-color: var(--fill-color);\n",
              "    }\n",
              "    90% {\n",
              "      border-color: transparent;\n",
              "      border-bottom-color: var(--fill-color);\n",
              "    }\n",
              "  }\n",
              "</style>\n",
              "\n",
              "  <script>\n",
              "    async function quickchart(key) {\n",
              "      const quickchartButtonEl =\n",
              "        document.querySelector('#' + key + ' button');\n",
              "      quickchartButtonEl.disabled = true;  // To prevent multiple clicks.\n",
              "      quickchartButtonEl.classList.add('colab-df-spinner');\n",
              "      try {\n",
              "        const charts = await google.colab.kernel.invokeFunction(\n",
              "            'suggestCharts', [key], {});\n",
              "      } catch (error) {\n",
              "        console.error('Error during call to suggestCharts:', error);\n",
              "      }\n",
              "      quickchartButtonEl.classList.remove('colab-df-spinner');\n",
              "      quickchartButtonEl.classList.add('colab-df-quickchart-complete');\n",
              "    }\n",
              "    (() => {\n",
              "      let quickchartButtonEl =\n",
              "        document.querySelector('#df-08493cb3-1976-4892-b6c0-aea8782de531 button');\n",
              "      quickchartButtonEl.style.display =\n",
              "        google.colab.kernel.accessAllowed ? 'block' : 'none';\n",
              "    })();\n",
              "  </script>\n",
              "</div>\n",
              "\n",
              "    </div>\n",
              "  </div>\n"
            ],
            "application/vnd.google.colaboratory.intrinsic+json": {
              "type": "dataframe",
              "summary": "{\n  \"name\": \"full[['YearBuilt','YearRemodAdd','GarageYrBlt']]\",\n  \"rows\": 5,\n  \"fields\": [\n    {\n      \"column\": \"YearBuilt\",\n      \"properties\": {\n        \"dtype\": \"object\",\n        \"num_unique_values\": 5,\n        \"samples\": [\n          \"1976\",\n          \"2000\",\n          \"2001\"\n        ],\n        \"semantic_type\": \"\",\n        \"description\": \"\"\n      }\n    },\n    {\n      \"column\": \"YearRemodAdd\",\n      \"properties\": {\n        \"dtype\": \"object\",\n        \"num_unique_values\": 5,\n        \"samples\": [\n          \"1976\",\n          \"2000\",\n          \"2002\"\n        ],\n        \"semantic_type\": \"\",\n        \"description\": \"\"\n      }\n    },\n    {\n      \"column\": \"GarageYrBlt\",\n      \"properties\": {\n        \"dtype\": \"string\",\n        \"num_unique_values\": 5,\n        \"samples\": [\n          \"1976.0\",\n          \"2000.0\",\n          \"2001.0\"\n        ],\n        \"semantic_type\": \"\",\n        \"description\": \"\"\n      }\n    }\n  ]\n}"
            }
          },
          "metadata": {},
          "execution_count": 31
        }
      ]
    },
    {
      "cell_type": "code",
      "source": [
        "class labenc(BaseEstimator,TransformerMixin):\n",
        "    def __init__(self):\n",
        "        pass\n",
        "    def fit(self,X,y=None):\n",
        "        return self\n",
        "    def transform(self,X):\n",
        "        label = LabelEncoder()\n",
        "        X['YearBuilt']=label.fit_transform(X['YearBuilt'])\n",
        "        X['YearRemodAdd']=label.fit_transform(X['YearRemodAdd'])\n",
        "        X['GarageYrBlt']=label.fit_transform(X['GarageYrBlt'])\n",
        "        return X\n"
      ],
      "metadata": {
        "trusted": true,
        "id": "p12u2-CqWVVN"
      },
      "execution_count": 32,
      "outputs": []
    },
    {
      "cell_type": "code",
      "source": [
        "class skewness(BaseEstimator,TransformerMixin):\n",
        "    def __init__(self,skew=0.5):\n",
        "        self.skew = skew\n",
        "    def fit(self,X,y=None):\n",
        "        return self\n",
        "    def transform(self,X):\n",
        "        X_numeric=X.select_dtypes(exclude=[\"object\"])\n",
        "        skewness = X_numeric.apply(lambda x: skew(x))\n",
        "        skewness_features = skewness[abs(skewness) >= self.skew].index\n",
        "        X[skewness_features] = np.log1p(X[skewness_features])\n",
        "        return X"
      ],
      "metadata": {
        "trusted": true,
        "id": "pMJALxjZWVVN"
      },
      "execution_count": 33,
      "outputs": []
    },
    {
      "cell_type": "code",
      "source": [
        "class dummies(BaseEstimator,TransformerMixin):\n",
        "    def __init__(self):\n",
        "        pass\n",
        "    def fit(self,X,y=None):\n",
        "        return self\n",
        "    def transform(self,X):\n",
        "        X = pd.get_dummies(X)\n",
        "        return X"
      ],
      "metadata": {
        "trusted": true,
        "id": "2FcGPnWJWVVN"
      },
      "execution_count": 34,
      "outputs": []
    },
    {
      "cell_type": "code",
      "source": [
        "pipeline = Pipeline([('labenc',labenc()),('skewness',skewness(skew =1)),('dummies',dummies())])"
      ],
      "metadata": {
        "trusted": true,
        "id": "nKOHxjuFWVVO"
      },
      "execution_count": 35,
      "outputs": []
    },
    {
      "cell_type": "code",
      "source": [
        "full_copy = full.copy()\n",
        "data_pipeline = pipeline.fit_transform(full_copy)"
      ],
      "metadata": {
        "trusted": true,
        "id": "vcoD40shWVVO"
      },
      "execution_count": 36,
      "outputs": []
    },
    {
      "cell_type": "code",
      "source": [
        "robust_scaler = RobustScaler()"
      ],
      "metadata": {
        "trusted": true,
        "id": "sxRrOrB0WVVO"
      },
      "execution_count": 37,
      "outputs": []
    },
    {
      "cell_type": "code",
      "source": [
        "n_train = train.shape[0]\n",
        "n_train"
      ],
      "metadata": {
        "trusted": true,
        "colab": {
          "base_uri": "https://localhost:8080/"
        },
        "id": "aZM08sXfWVVO",
        "outputId": "7923f029-f5fa-4952-ebda-313137466143"
      },
      "execution_count": 38,
      "outputs": [
        {
          "output_type": "execute_result",
          "data": {
            "text/plain": [
              "1458"
            ]
          },
          "metadata": {},
          "execution_count": 38
        }
      ]
    },
    {
      "cell_type": "code",
      "source": [
        "X= data_pipeline[:n_train]\n",
        "y = train.SalePrice\n",
        "test_X = data_pipeline[n_train:]\n",
        "X.shape,y.shape,test_X.shape"
      ],
      "metadata": {
        "trusted": true,
        "colab": {
          "base_uri": "https://localhost:8080/"
        },
        "id": "5AFULMSmWVVP",
        "outputId": "2ba31b1e-2ebf-4cc5-a962-e916884fda52"
      },
      "execution_count": 39,
      "outputs": [
        {
          "output_type": "execute_result",
          "data": {
            "text/plain": [
              "((1458, 405), (1458,), (1459, 405))"
            ]
          },
          "metadata": {},
          "execution_count": 39
        }
      ]
    },
    {
      "cell_type": "code",
      "source": [
        "X_scaled = robust_scaler.fit(X).transform(X)\n",
        "y_log = np.log(train.SalePrice)\n",
        "test_X_scaled = robust_scaler.transform(test_X)"
      ],
      "metadata": {
        "trusted": true,
        "id": "PHWL6gqGWVVP"
      },
      "execution_count": 40,
      "outputs": []
    },
    {
      "cell_type": "code",
      "source": [
        "X_scaled.shape,y_log.shape,test_X.shape"
      ],
      "metadata": {
        "trusted": true,
        "colab": {
          "base_uri": "https://localhost:8080/"
        },
        "id": "oikoR_UVWVVP",
        "outputId": "e7c34b3a-5fed-4221-b37c-e193a4cdace6"
      },
      "execution_count": 41,
      "outputs": [
        {
          "output_type": "execute_result",
          "data": {
            "text/plain": [
              "((1458, 405), (1458,), (1459, 405))"
            ]
          },
          "metadata": {},
          "execution_count": 41
        }
      ]
    },
    {
      "cell_type": "code",
      "source": [
        "class add_feature(BaseEstimator, TransformerMixin):\n",
        "    def __init__(self,additional=1):\n",
        "        self.additional = additional\n",
        "\n",
        "    def fit(self,X,y=None):\n",
        "        return self\n",
        "\n",
        "    def transform(self,X):\n",
        "        if self.additional==1:\n",
        "            X[\"TotalHouse\"] = X[\"TotalBsmtSF\"] + X[\"1stFlrSF\"] + X[\"2ndFlrSF\"]\n",
        "            X[\"TotalArea\"] = X[\"TotalBsmtSF\"] + X[\"1stFlrSF\"] + X[\"2ndFlrSF\"] + X[\"GarageArea\"]\n",
        "\n",
        "        else:\n",
        "            X[\"TotalHouse\"] = X[\"TotalBsmtSF\"] + X[\"1stFlrSF\"] + X[\"2ndFlrSF\"]\n",
        "            X[\"TotalArea\"] = X[\"TotalBsmtSF\"] + X[\"1stFlrSF\"] + X[\"2ndFlrSF\"] + X[\"GarageArea\"]\n",
        "\n",
        "            X[\"+_TotalHouse_OverallQual\"] = X[\"TotalHouse\"] * X[\"OverallQual\"]\n",
        "            X[\"+_GrLivArea_OverallQual\"] = X[\"GrLivArea\"] * X[\"OverallQual\"]\n",
        "            X[\"+_oMSZoning_TotalHouse\"] = X[\"oMSZoning\"] * X[\"TotalHouse\"]\n",
        "            X[\"+_oMSZoning_OverallQual\"] = X[\"oMSZoning\"] + X[\"OverallQual\"]\n",
        "            X[\"+_oMSZoning_YearBuilt\"] = X[\"oMSZoning\"] + X[\"YearBuilt\"]\n",
        "            X[\"+_oNeighborhood_TotalHouse\"] = X[\"oNeighborhood\"] * X[\"TotalHouse\"]\n",
        "            X[\"+_oNeighborhood_OverallQual\"] = X[\"oNeighborhood\"] + X[\"OverallQual\"]\n",
        "            X[\"+_oNeighborhood_YearBuilt\"] = X[\"oNeighborhood\"] + X[\"YearBuilt\"]\n",
        "            X[\"+_BsmtFinSF1_OverallQual\"] = X[\"BsmtFinSF1\"] * X[\"OverallQual\"]\n",
        "\n",
        "            X[\"-_oFunctional_TotalHouse\"] = X[\"oFunctional\"] * X[\"TotalHouse\"]\n",
        "            X[\"-_oFunctional_OverallQual\"] = X[\"oFunctional\"] + X[\"OverallQual\"]\n",
        "            X[\"-_LotArea_OverallQual\"] = X[\"LotArea\"] * X[\"OverallQual\"]\n",
        "            X[\"-_TotalHouse_LotArea\"] = X[\"TotalHouse\"] + X[\"LotArea\"]\n",
        "            X[\"-_oCondition1_TotalHouse\"] = X[\"oCondition1\"] * X[\"TotalHouse\"]\n",
        "            X[\"-_oCondition1_OverallQual\"] = X[\"oCondition1\"] + X[\"OverallQual\"]\n",
        "\n",
        "\n",
        "            X[\"Bsmt\"] = X[\"BsmtFinSF1\"] + X[\"BsmtFinSF2\"] + X[\"BsmtUnfSF\"]\n",
        "            X[\"Rooms\"] = X[\"FullBath\"]+X[\"TotRmsAbvGrd\"]\n",
        "            X[\"PorchArea\"] = X[\"OpenPorchSF\"]+X[\"EnclosedPorch\"]+X[\"3SsnPorch\"]+X[\"ScreenPorch\"]\n",
        "            X[\"TotalPlace\"] = X[\"TotalBsmtSF\"] + X[\"1stFlrSF\"] + X[\"2ndFlrSF\"] + X[\"GarageArea\"] + X[\"OpenPorchSF\"]+X[\"EnclosedPorch\"]+X[\"3SsnPorch\"]+X[\"ScreenPorch\"]\n",
        "\n",
        "\n",
        "            return X"
      ],
      "metadata": {
        "trusted": true,
        "id": "BNbr3dw5WVVP"
      },
      "execution_count": 42,
      "outputs": []
    },
    {
      "cell_type": "code",
      "source": [
        "pipeline = Pipeline([('labenc',labenc()),('add_feature', add_feature(additional=2)),\n",
        "                     ('skewness',skewness(skew =1)),('dummies',dummies())])\n",
        "\n",
        "full_pipe = pipeline.fit_transform(full)\n",
        "full_pipe.shape"
      ],
      "metadata": {
        "trusted": true,
        "colab": {
          "base_uri": "https://localhost:8080/"
        },
        "id": "ENcTz7RAWVVQ",
        "outputId": "5ff2ca56-df04-40d9-b81d-e6b2f19959bb"
      },
      "execution_count": 43,
      "outputs": [
        {
          "output_type": "execute_result",
          "data": {
            "text/plain": [
              "(2917, 426)"
            ]
          },
          "metadata": {},
          "execution_count": 43
        }
      ]
    },
    {
      "cell_type": "code",
      "source": [
        "n_train=train.shape[0]\n",
        "X = full_pipe[:n_train]\n",
        "test_X = full_pipe[n_train:]\n",
        "y= train.SalePrice\n",
        "\n",
        "X_scaled = robust_scaler.fit(X).transform(X)\n",
        "y_log = np.log(train.SalePrice)\n",
        "test_X_scaled = robust_scaler.transform(test_X)"
      ],
      "metadata": {
        "trusted": true,
        "id": "kO30c4gCWVVQ"
      },
      "execution_count": 44,
      "outputs": []
    },
    {
      "cell_type": "code",
      "source": [
        "print(X_scaled.shape)"
      ],
      "metadata": {
        "trusted": true,
        "colab": {
          "base_uri": "https://localhost:8080/"
        },
        "id": "GGQe-lpvWVVQ",
        "outputId": "1ad5f213-b118-48d8-95f4-6d0cd0744035"
      },
      "execution_count": 45,
      "outputs": [
        {
          "output_type": "stream",
          "name": "stdout",
          "text": [
            "(1458, 426)\n"
          ]
        }
      ]
    },
    {
      "cell_type": "code",
      "source": [
        "# Root Mean Square Error\n",
        "def rmse_cv(model,X,y):\n",
        "    rmse = np.sqrt(-cross_val_score(model,X,y,scoring=\"neg_mean_squared_error\",cv=5))\n",
        "    return rmse"
      ],
      "metadata": {
        "trusted": true,
        "id": "F3zHQvHeWVVQ"
      },
      "execution_count": 46,
      "outputs": []
    },
    {
      "cell_type": "markdown",
      "source": [
        "### Modelos incluem alguns clássicos vistos em sala como LinearRegression e outros como Ridge, Lasso e Random Forest, que valem a pena conhecer.\n",
        "\n",
        "   - LinearRegression\n",
        "   - Ridge\n",
        "   - Lasso\n",
        "   - Random Forest"
      ],
      "metadata": {
        "id": "a4jQ54-KWVVQ"
      }
    },
    {
      "cell_type": "code",
      "source": [
        "models = [LinearRegression(),\n",
        "             Ridge(),\n",
        "             Lasso(alpha=0.01,max_iter=10000),\n",
        "             RandomForestRegressor(),\n",
        "             GradientBoostingRegressor(),\n",
        "             SVR(),\n",
        "             LinearSVR(),\n",
        "             ElasticNet(alpha = 0.001,max_iter=10000),\n",
        "             SGDRegressor(max_iter=1000, tol = 1e-3),\n",
        "             BayesianRidge(),\n",
        "             KernelRidge(alpha=0.6,kernel='polynomial',degree = 2,coef0=2.5),\n",
        "             ExtraTreesRegressor(),\n",
        "             XGBRegressor()\n",
        "             ]"
      ],
      "metadata": {
        "trusted": true,
        "id": "nAi-q4wHWVVQ"
      },
      "execution_count": 47,
      "outputs": []
    },
    {
      "cell_type": "code",
      "source": [
        "names = ['LR','Ridge','Lasso','RF','GBR','SVR','LSVR','ENet','SGDR','BayRidge','Kernel','XTreeR','XGBR']"
      ],
      "metadata": {
        "trusted": true,
        "id": "vKSJ8QuAWVVR"
      },
      "execution_count": 48,
      "outputs": []
    },
    {
      "cell_type": "code",
      "source": [
        "for model,name in zip(models,names):\n",
        "    score = rmse_cv(model,X_scaled,y_log)\n",
        "    print(\"{}: {:.6f}, {:4f}\".format(name,score.mean(),score.std()))"
      ],
      "metadata": {
        "trusted": true,
        "colab": {
          "base_uri": "https://localhost:8080/"
        },
        "id": "bYCAEq80WVVR",
        "outputId": "1cdc7318-2436-4307-e9c6-bc63364ee51b"
      },
      "execution_count": 49,
      "outputs": [
        {
          "output_type": "stream",
          "name": "stdout",
          "text": [
            "LR: 2362226781.982901, 4250360616.544543\n",
            "Ridge: 0.117596, 0.009054\n",
            "Lasso: 0.120932, 0.005813\n",
            "RF: 0.131029, 0.007191\n",
            "GBR: 0.121335, 0.004460\n",
            "SVR: 0.131747, 0.010868\n",
            "LSVR: 0.126264, 0.007887\n",
            "ENet: 0.108729, 0.005422\n",
            "SGDR: 0.298565, 0.008996\n",
            "BayRidge: 0.110576, 0.005997\n",
            "Kernel: 0.109421, 0.005545\n",
            "XTreeR: 0.125309, 0.007176\n",
            "XGBR: 0.132300, 0.004476\n"
          ]
        }
      ]
    },
    {
      "cell_type": "code",
      "source": [
        "class AverageWeight(BaseEstimator, RegressorMixin):\n",
        "    def __init__(self,model,weight):\n",
        "        self.model = model\n",
        "        self.weight = weight\n",
        "\n",
        "    def fit(self,X,y):\n",
        "        self.models_ = [clone(x) for x in self.model]\n",
        "        for model in self.models_:\n",
        "            model.fit(X,y)\n",
        "        return self\n",
        "\n",
        "    def predict(self,X):\n",
        "        w = list()\n",
        "        pred = np.array([model.predict(X) for model in self.models_])\n",
        "\n",
        "        for data in range(pred.shape[1]):\n",
        "            single = [pred[model,data]*weight for model,weight in zip(range(pred.shape[0]),self.weight)]\n",
        "            w.append(np.sum(single))\n",
        "        return w"
      ],
      "metadata": {
        "trusted": true,
        "id": "WRqRpKOZWVVR"
      },
      "execution_count": 50,
      "outputs": []
    },
    {
      "cell_type": "code",
      "source": [
        "lasso = Lasso(alpha= 0.0005, max_iter= 10000)\n",
        "ridge = Ridge(alpha=45, max_iter= 10000)\n",
        "svr = SVR(C = 0.2, epsilon= 0.025, gamma = 0.0004, kernel = 'rbf')\n",
        "ker = KernelRidge(alpha=0.15 ,kernel='polynomial',degree=3 , coef0=0.9)\n",
        "ela = ElasticNet(alpha=0.0065,l1_ratio=0.075,max_iter=10000)\n",
        "bay = BayesianRidge()"
      ],
      "metadata": {
        "trusted": true,
        "id": "NpJLmVEVWVVR"
      },
      "execution_count": 51,
      "outputs": []
    },
    {
      "cell_type": "markdown",
      "source": [
        "#### Finally to calculate the average weights let us look at the following code"
      ],
      "metadata": {
        "id": "LfDjqtrLWVVR"
      }
    },
    {
      "cell_type": "code",
      "source": [
        "w1 = 0.047\n",
        "w2 = 0.2\n",
        "w3 = 0.25\n",
        "w4 = 0.3\n",
        "w5 = 0.003\n",
        "w6 = 0.2\n",
        "\n",
        "weight_avg = AverageWeight(model = [lasso,ridge,svr,ker,ela,bay],weight=[w1,w2,w3,w4,w5,w6])\n",
        "score = rmse_cv(weight_avg,X_scaled,y_log)\n",
        "print(score.mean())"
      ],
      "metadata": {
        "trusted": true,
        "id": "4_KwAZmeWVVR",
        "colab": {
          "base_uri": "https://localhost:8080/"
        },
        "outputId": "f826852a-7de7-46c4-82e6-d21f13dad9d8"
      },
      "execution_count": 52,
      "outputs": [
        {
          "output_type": "stream",
          "name": "stdout",
          "text": [
            "0.1092439889607518\n"
          ]
        }
      ]
    },
    {
      "cell_type": "markdown",
      "source": [
        "If we consider only two models then the score will vary"
      ],
      "metadata": {
        "id": "MRI8LpHIWVVS"
      }
    },
    {
      "cell_type": "code",
      "source": [
        "weight_avg = AverageWeight(model = [svr,ker],weight=[0.50,0.50])\n",
        "score = rmse_cv(weight_avg,X_scaled,y_log)\n",
        "print(score.mean())"
      ],
      "metadata": {
        "trusted": true,
        "id": "lY1vsmGCWVVS",
        "colab": {
          "base_uri": "https://localhost:8080/"
        },
        "outputId": "f7786b06-cd3e-499e-d748-c7c2bac587c5"
      },
      "execution_count": 53,
      "outputs": [
        {
          "output_type": "stream",
          "name": "stdout",
          "text": [
            "0.11166439558199082\n"
          ]
        }
      ]
    },
    {
      "cell_type": "markdown",
      "source": [
        "## 2.4 Stacking <a id=\"2.4\"></a> <br>\n",
        "\n",
        "![](https://www.researchgate.net/publication/324552457/figure/fig3/AS:616245728645121@1523935839872/An-example-scheme-of-stacking-ensemble-learning.png)\n",
        "\n",
        "\n",
        "![](https://cdn.analyticsvidhya.com/wp-content/uploads/2018/05/image-11-300x217.png)\n",
        "\n",
        "![](https://cdn.analyticsvidhya.com/wp-content/uploads/2018/05/image-10-300x249.png)\n",
        "\n",
        "![](https://cdn.analyticsvidhya.com/wp-content/uploads/2018/05/image-2-300x225.png)\n",
        "\n",
        "![](https://cdn.analyticsvidhya.com/wp-content/uploads/2018/05/image-3-300x224.png)\n",
        "\n",
        "![](https://cdn.analyticsvidhya.com/wp-content/uploads/2018/05/image12-292x300.png)\n"
      ],
      "metadata": {
        "id": "AHhVIDQwWVVS"
      }
    },
    {
      "cell_type": "code",
      "source": [
        "class stacking(BaseEstimator, RegressorMixin, TransformerMixin):\n",
        "    def __init__(self,mod,meta_model):\n",
        "        self.mod = mod\n",
        "        self.meta_model = meta_model\n",
        "        self.kf = KFold(n_splits=5, random_state=42, shuffle=True)\n",
        "\n",
        "    def fit(self,X,y):\n",
        "        self.saved_model = [list() for i in self.mod]\n",
        "        oof_train = np.zeros((X.shape[0], len(self.mod)))\n",
        "\n",
        "        for i,model in enumerate(self.mod):\n",
        "            for train_index, val_index in self.kf.split(X,y):\n",
        "                renew_model = clone(model)\n",
        "                renew_model.fit(X[train_index], y[train_index])\n",
        "                self.saved_model[i].append(renew_model)\n",
        "                oof_train[val_index,i] = renew_model.predict(X[val_index])\n",
        "\n",
        "        self.meta_model.fit(oof_train,y)\n",
        "        return self\n",
        "\n",
        "    def predict(self,X):\n",
        "        whole_test = np.column_stack([np.column_stack(model.predict(X) for model in single_model).mean(axis=1)\n",
        "                                      for single_model in self.saved_model])\n",
        "        return self.meta_model.predict(whole_test)\n",
        "\n",
        "    def get_oof(self,X,y,test_X):\n",
        "        oof = np.zeros((X.shape[0],len(self.mod)))\n",
        "        test_single = np.zeros((test_X.shape[0],5))\n",
        "        test_mean = np.zeros((test_X.shape[0],len(self.mod)))\n",
        "        for i,model in enumerate(self.mod):\n",
        "            for j, (train_index,val_index) in enumerate(self.kf.split(X,y)):\n",
        "                clone_model = clone(model)\n",
        "                clone_model.fit(X[train_index],y[train_index])\n",
        "                oof[val_index,i] = clone_model.predict(X[val_index])\n",
        "                test_single[:,j] = clone_model.predict(test_X)\n",
        "            test_mean[:,i] = test_single.mean(axis=1)\n",
        "        return oof, test_mean"
      ],
      "metadata": {
        "trusted": true,
        "id": "f2KvYwRZWVVS"
      },
      "execution_count": 54,
      "outputs": []
    },
    {
      "cell_type": "code",
      "source": [
        "from sklearn.impute import SimpleImputer"
      ],
      "metadata": {
        "trusted": true,
        "id": "vIDpU8q3WVVS"
      },
      "execution_count": 55,
      "outputs": []
    },
    {
      "cell_type": "code",
      "source": [
        "X_scaled_imputed = SimpleImputer().fit_transform(X_scaled)\n",
        "y_log_imputed = SimpleImputer().fit_transform(y_log.values.reshape(-1,1)).ravel()"
      ],
      "metadata": {
        "trusted": true,
        "id": "Yomf4m3sWVVT"
      },
      "execution_count": 56,
      "outputs": []
    },
    {
      "cell_type": "code",
      "source": [
        "stack_model = stacking(mod=[lasso,ridge,svr,ker,ela,bay],meta_model=ker)"
      ],
      "metadata": {
        "trusted": true,
        "id": "H9_oV78-WVVT"
      },
      "execution_count": 57,
      "outputs": []
    },
    {
      "cell_type": "code",
      "source": [
        "score = rmse_cv(stack_model,X_scaled_imputed,y_log_imputed)"
      ],
      "metadata": {
        "trusted": true,
        "id": "w1lDEYH2WVVT"
      },
      "execution_count": 58,
      "outputs": []
    },
    {
      "cell_type": "code",
      "source": [
        "print(score.mean())"
      ],
      "metadata": {
        "trusted": true,
        "id": "7rMkM5GgWVVT",
        "colab": {
          "base_uri": "https://localhost:8080/"
        },
        "outputId": "de78f8ce-dcc2-4560-cf32-b1c17f532ad0"
      },
      "execution_count": 59,
      "outputs": [
        {
          "output_type": "stream",
          "name": "stdout",
          "text": [
            "nan\n"
          ]
        }
      ]
    },
    {
      "cell_type": "markdown",
      "source": [
        "## 2.5 Blending <a id=\"2.5\"></a> <br>\n",
        "\n",
        "![](https://cdn.analyticsvidhya.com/wp-content/uploads/2018/05/image-7-300x226.png)\n",
        "\n",
        "![](https://cdn.analyticsvidhya.com/wp-content/uploads/2018/05/image-5-300x228.png)"
      ],
      "metadata": {
        "id": "MMARq11vWVVT"
      }
    },
    {
      "cell_type": "code",
      "source": [
        "from sklearn.datasets import load_wine\n",
        "X,y = load_wine().data,load_wine().target"
      ],
      "metadata": {
        "trusted": true,
        "id": "htxpgE5dWVVU"
      },
      "execution_count": 60,
      "outputs": []
    },
    {
      "cell_type": "code",
      "source": [
        "X_train, X_test, y_train, y_test = train_test_split(\n",
        "    X, y, test_size=0.2, random_state=1)\n",
        "X_train, X_val, y_train, y_val = train_test_split(\n",
        "    X_train, y_train, test_size=0.25, random_state=1)"
      ],
      "metadata": {
        "trusted": true,
        "id": "sFhnFdqmWVVU"
      },
      "execution_count": 61,
      "outputs": []
    },
    {
      "cell_type": "code",
      "source": [
        "x_val=pd.DataFrame(X_val)\n",
        "x_test=pd.DataFrame(X_test)"
      ],
      "metadata": {
        "trusted": true,
        "id": "CiQnFdFCWVVU"
      },
      "execution_count": 62,
      "outputs": []
    },
    {
      "cell_type": "code",
      "source": [
        "model1 = DecisionTreeClassifier()\n",
        "model1.fit(X_train, y_train)\n",
        "val_pred1=model1.predict(X_val)\n",
        "test_pred1=model1.predict(X_test)\n",
        "val_pred1=pd.DataFrame(val_pred1)\n",
        "test_pred1=pd.DataFrame(test_pred1)\n",
        "\n",
        "model2 = KNeighborsClassifier()\n",
        "model2.fit(X_train,y_train)\n",
        "val_pred2=model2.predict(X_val)\n",
        "test_pred2=model2.predict(X_test)\n",
        "val_pred2=pd.DataFrame(val_pred2)\n",
        "test_pred2=pd.DataFrame(test_pred2)"
      ],
      "metadata": {
        "trusted": true,
        "id": "u4io7tT5WVVU"
      },
      "execution_count": 63,
      "outputs": []
    },
    {
      "cell_type": "code",
      "source": [
        "df_val=pd.concat([x_val, val_pred1,val_pred2],axis=1)\n",
        "df_test=pd.concat([x_test, test_pred1,test_pred2],axis=1)\n",
        "\n",
        "model = LogisticRegression()\n",
        "model.fit(df_val,y_val)\n",
        "model.score(df_test,y_test)"
      ],
      "metadata": {
        "trusted": true,
        "id": "4mqmsJhJWVVU",
        "colab": {
          "base_uri": "https://localhost:8080/"
        },
        "outputId": "9f96fe19-01d4-480a-e609-75cfd7adadf0"
      },
      "execution_count": 64,
      "outputs": [
        {
          "output_type": "execute_result",
          "data": {
            "text/plain": [
              "0.9166666666666666"
            ]
          },
          "metadata": {},
          "execution_count": 64
        }
      ]
    },
    {
      "cell_type": "markdown",
      "source": [
        "## 2.6 Bagging <a id=\"2.6\"></a> <br>\n",
        "![](https://miro.medium.com/max/700/1*DFHUbdz6EyOuMYP4pDnFlw.jpeg)\n",
        "\n",
        "![](https://miro.medium.com/max/866/1*JksRZ1E72Rsx2s8lQbNR1w.jpeg)\n",
        "\n",
        "![](https://cdn.analyticsvidhya.com/wp-content/uploads/2018/05/image20-768x289.png)\n",
        "\n",
        "![](https://cdn.analyticsvidhya.com/wp-content/uploads/2018/05/Screenshot-from-2018-05-08-13-11-49-768x580.png)"
      ],
      "metadata": {
        "id": "qMI3wKb5WVVV"
      }
    },
    {
      "cell_type": "code",
      "source": [
        "from sklearn.datasets import load_wine\n",
        "# definindo o dataset\n",
        "X,y = load_wine().data,load_wine().target"
      ],
      "metadata": {
        "trusted": true,
        "id": "Srg9D66OWVVV"
      },
      "execution_count": 65,
      "outputs": []
    },
    {
      "cell_type": "code",
      "source": [
        "# Criando classificadores\n",
        "rf = RandomForestClassifier()\n",
        "et = ExtraTreesClassifier()\n",
        "knn = KNeighborsClassifier()\n",
        "svc = SVC()\n",
        "rg = RidgeClassifier()\n",
        "clf_array = [rf, et, knn, svc, rg]\n",
        "for clf in clf_array:\n",
        "    vanilla_scores = cross_val_score(clf, X, y, cv=10, n_jobs=-1)\n",
        "    bagging_clf = BaggingClassifier(clf,max_samples=0.4, max_features=10, random_state=seed)\n",
        "    bagging_scores = cross_val_score(bagging_clf, X, y, cv=10,n_jobs=-1)\n",
        "\n",
        "    print (\"Mean of: {1:.3f}, std: (+/-) {2:.3f} [{0}]\".format(clf.__class__.__name__,vanilla_scores.mean(), vanilla_scores.std()))\n",
        "    print (\"Mean of: {1:.3f}, std: (+/-) {2:.3f} [Bagging {0}]\\n\".format(clf.__class__.__name__,bagging_scores.mean(), bagging_scores.std()))"
      ],
      "metadata": {
        "trusted": true,
        "id": "ZPOD69YXWVVV",
        "colab": {
          "base_uri": "https://localhost:8080/"
        },
        "outputId": "57476cc0-a1b9-4b21-94a5-e3744aa4d266"
      },
      "execution_count": 66,
      "outputs": [
        {
          "output_type": "stream",
          "name": "stdout",
          "text": [
            "Mean of: 0.978, std: (+/-) 0.027 [RandomForestClassifier]\n",
            "Mean of: 0.972, std: (+/-) 0.028 [Bagging RandomForestClassifier]\n",
            "\n",
            "Mean of: 0.972, std: (+/-) 0.028 [ExtraTreesClassifier]\n",
            "Mean of: 0.983, std: (+/-) 0.025 [Bagging ExtraTreesClassifier]\n",
            "\n",
            "Mean of: 0.675, std: (+/-) 0.070 [KNeighborsClassifier]\n",
            "Mean of: 0.764, std: (+/-) 0.068 [Bagging KNeighborsClassifier]\n",
            "\n",
            "Mean of: 0.681, std: (+/-) 0.087 [SVC]\n",
            "Mean of: 0.664, std: (+/-) 0.056 [Bagging SVC]\n",
            "\n",
            "Mean of: 0.983, std: (+/-) 0.025 [RidgeClassifier]\n",
            "Mean of: 0.983, std: (+/-) 0.025 [Bagging RidgeClassifier]\n",
            "\n"
          ]
        }
      ]
    },
    {
      "cell_type": "code",
      "source": [
        "from sklearn.ensemble import VotingClassifier\n",
        "clf = [rf, et, knn, svc, rg]\n",
        "eclf = VotingClassifier(estimators=[('Random Forests', rf), ('Extra Trees', et), ('KNeighbors', knn), ('SVC', svc), ('Ridge Classifier', rg)], voting='hard')\n",
        "for clf, label in zip([rf, et, knn, svc, rg, eclf], ['Random Forest', 'Extra Trees', 'KNeighbors', 'SVC', 'Ridge Classifier', 'Ensemble']):\n",
        "    scores = cross_val_score(clf, X, y, cv=10, scoring='accuracy')\n",
        "    print(\"Accuracy: %0.2f (+/- %0.2f) [%s]\" % (scores.mean(), scores.std(), label))"
      ],
      "metadata": {
        "trusted": true,
        "id": "NNYanwOKWVVW",
        "colab": {
          "base_uri": "https://localhost:8080/"
        },
        "outputId": "8fe059f1-16d7-442f-a813-61143c1fecc6"
      },
      "execution_count": 67,
      "outputs": [
        {
          "output_type": "stream",
          "name": "stdout",
          "text": [
            "Accuracy: 0.98 (+/- 0.03) [Random Forest]\n",
            "Accuracy: 0.99 (+/- 0.02) [Extra Trees]\n",
            "Accuracy: 0.68 (+/- 0.07) [KNeighbors]\n",
            "Accuracy: 0.68 (+/- 0.09) [SVC]\n",
            "Accuracy: 0.98 (+/- 0.03) [Ridge Classifier]\n",
            "Accuracy: 0.99 (+/- 0.02) [Ensemble]\n"
          ]
        }
      ]
    },
    {
      "cell_type": "markdown",
      "source": [
        "## 2.7 Boosting <a id=\"2.7\"></a> <br>\n",
        "![](https://miro.medium.com/max/2936/1*jbncjeM4CfpobEnDO0ZTjw.png)"
      ],
      "metadata": {
        "id": "MASSavWHWVVW"
      }
    },
    {
      "cell_type": "code",
      "source": [
        "from sklearn.datasets import load_wine\n",
        "# definindo o dataset\n",
        "X,y = load_wine().data,load_wine().target\n",
        "X_train, X_test, y_train, y_test = train_test_split(X, y, test_size=0.2, random_state=1)"
      ],
      "metadata": {
        "trusted": true,
        "id": "yTRRyR5kWVVW"
      },
      "execution_count": 68,
      "outputs": []
    },
    {
      "cell_type": "code",
      "source": [
        "ada_boost = AdaBoostClassifier(random_state=1)\n",
        "ada_boost.fit(X_train, y_train)\n",
        "ada_boost.score(X_test,y_test)"
      ],
      "metadata": {
        "trusted": true,
        "id": "nY840OpHWVVW",
        "colab": {
          "base_uri": "https://localhost:8080/"
        },
        "outputId": "f0a51d0a-79a2-4fdd-cc7f-a222b15018a6"
      },
      "execution_count": 69,
      "outputs": [
        {
          "output_type": "execute_result",
          "data": {
            "text/plain": [
              "0.8333333333333334"
            ]
          },
          "metadata": {},
          "execution_count": 69
        }
      ]
    },
    {
      "cell_type": "code",
      "source": [
        "grad_boost= GradientBoostingClassifier(learning_rate=0.01,random_state=1)\n",
        "grad_boost.fit(X_train, y_train)\n",
        "grad_boost.score(X_test,y_test)"
      ],
      "metadata": {
        "trusted": true,
        "id": "Xt9KfPS1WVVX",
        "colab": {
          "base_uri": "https://localhost:8080/"
        },
        "outputId": "346938a5-51a9-4d04-f18b-b8259718b46a"
      },
      "execution_count": 70,
      "outputs": [
        {
          "output_type": "execute_result",
          "data": {
            "text/plain": [
              "0.9444444444444444"
            ]
          },
          "metadata": {},
          "execution_count": 70
        }
      ]
    },
    {
      "cell_type": "code",
      "source": [
        "xgb_boost=xgb.XGBClassifier(random_state=1,learning_rate=0.01)\n",
        "xgb_boost.fit(X_train, y_train)\n",
        "xgb_boost.score(X_test,y_test)"
      ],
      "metadata": {
        "trusted": true,
        "id": "wy8UDPJFWVVX",
        "colab": {
          "base_uri": "https://localhost:8080/"
        },
        "outputId": "a104c10e-8067-4aff-e40f-6af7dfdeb704"
      },
      "execution_count": 71,
      "outputs": [
        {
          "output_type": "execute_result",
          "data": {
            "text/plain": [
              "0.9166666666666666"
            ]
          },
          "metadata": {},
          "execution_count": 71
        }
      ]
    },
    {
      "cell_type": "code",
      "source": [
        "eclf = VotingClassifier(estimators=[('Ada Boost', ada_boost), ('Grad Boost', grad_boost), ('XG Boost', xgb_boost)], voting='hard')\n",
        "clf = [rf, et, knn, svc, rg]\n",
        "for clf, label in zip([ada_boost, grad_boost, xgb_boost,eclf], ['Ada Boost','Grad Boost','XG Boost','Ensemble']):\n",
        "    scores = cross_val_score(clf, X, y, cv=10, scoring='accuracy')\n",
        "    print(\"Acuracia: %0.2f (+/- %0.2f) [%s]\" % (scores.mean(), scores.std(), label))\n"
      ],
      "metadata": {
        "trusted": true,
        "id": "7ZTc4Q45WVVY",
        "colab": {
          "base_uri": "https://localhost:8080/"
        },
        "outputId": "26fee965-7b58-46f8-c3ff-8642aa78ccf3"
      },
      "execution_count": 72,
      "outputs": [
        {
          "output_type": "stream",
          "name": "stdout",
          "text": [
            "Acuracia: 0.92 (+/- 0.12) [Ada Boost]\n",
            "Acuracia: 0.91 (+/- 0.08) [Grad Boost]\n",
            "Acuracia: 0.93 (+/- 0.07) [XG Boost]\n",
            "Acuracia: 0.93 (+/- 0.07) [Ensemble]\n"
          ]
        }
      ]
    }
  ]
}