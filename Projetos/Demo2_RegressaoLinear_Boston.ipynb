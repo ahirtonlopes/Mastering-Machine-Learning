{
  "nbformat": 4,
  "nbformat_minor": 0,
  "metadata": {
    "kernelspec": {
      "display_name": "Python 3",
      "language": "python",
      "name": "python3"
    },
    "language_info": {
      "codemirror_mode": {
        "name": "ipython",
        "version": 3
      },
      "file_extension": ".py",
      "mimetype": "text/x-python",
      "name": "python",
      "nbconvert_exporter": "python",
      "pygments_lexer": "ipython3",
      "version": "3.6.3"
    },
    "colab": {
      "provenance": []
    }
  },
  "cells": [
    {
      "cell_type": "markdown",
      "metadata": {
        "id": "wsU-cv-I23XE"
      },
      "source": [
        "# Aula 2 - Machine Learning\n",
        "\n",
        "## Demo 2 - Aprendizagem Supervisionada e Regressão Linear\n",
        "\n",
        "Ref. https://www.kaggle.com/datasets/vikrishnan/boston-house-prices\n"
      ]
    },
    {
      "cell_type": "markdown",
      "metadata": {
        "id": "HmA8JSm22Y46"
      },
      "source": [
        "Nosso segundo exercício é uma regressão linear simples,"
      ]
    },
    {
      "cell_type": "code",
      "metadata": {
        "id": "GdDOAXEj2Y47"
      },
      "source": [
        "import matplotlib.pyplot as plt\n",
        "import seaborn as sns\n",
        "import numpy as np\n",
        "import pandas as pd\n",
        "from sklearn.linear_model import LinearRegression\n",
        "from sklearn.metrics import mean_squared_error\n",
        "%matplotlib inline\n",
        "from sklearn.tree import DecisionTreeClassifier"
      ],
      "execution_count": null,
      "outputs": []
    },
    {
      "cell_type": "markdown",
      "metadata": {
        "id": "nuN3gm792Y6P"
      },
      "source": [
        "Neste exercício vamos prever o valor mediano de uma casa na redondeza de Boston dados determinados atributos. Para isso utilizamos a base de dados 'boston.csv'."
      ]
    },
    {
      "cell_type": "code",
      "metadata": {
        "id": "nKzgNCSU9tvJ",
        "colab": {
          "base_uri": "https://localhost:8080/",
          "height": 38
        },
        "outputId": "cc39a511-8389-413c-9d2c-d836b6781a34"
      },
      "source": [
        "from google.colab import files\n",
        "\n",
        "uploaded = files.upload()\n",
        "\n",
        "for fn in uploaded.keys():\n",
        "  print('User uploaded file \"{name}\" with length {length} bytes'.format(\n",
        "      name=fn, length=len(uploaded[fn])))"
      ],
      "execution_count": null,
      "outputs": [
        {
          "output_type": "display_data",
          "data": {
            "text/plain": [
              "<IPython.core.display.HTML object>"
            ],
            "text/html": [
              "\n",
              "     <input type=\"file\" id=\"files-2ad5a8f8-5ac0-4fa4-b4e0-f57f7ee4ccaa\" name=\"files[]\" multiple disabled\n",
              "        style=\"border:none\" />\n",
              "     <output id=\"result-2ad5a8f8-5ac0-4fa4-b4e0-f57f7ee4ccaa\">\n",
              "      Upload widget is only available when the cell has been executed in the\n",
              "      current browser session. Please rerun this cell to enable.\n",
              "      </output>\n",
              "      <script>// Copyright 2017 Google LLC\n",
              "//\n",
              "// Licensed under the Apache License, Version 2.0 (the \"License\");\n",
              "// you may not use this file except in compliance with the License.\n",
              "// You may obtain a copy of the License at\n",
              "//\n",
              "//      http://www.apache.org/licenses/LICENSE-2.0\n",
              "//\n",
              "// Unless required by applicable law or agreed to in writing, software\n",
              "// distributed under the License is distributed on an \"AS IS\" BASIS,\n",
              "// WITHOUT WARRANTIES OR CONDITIONS OF ANY KIND, either express or implied.\n",
              "// See the License for the specific language governing permissions and\n",
              "// limitations under the License.\n",
              "\n",
              "/**\n",
              " * @fileoverview Helpers for google.colab Python module.\n",
              " */\n",
              "(function(scope) {\n",
              "function span(text, styleAttributes = {}) {\n",
              "  const element = document.createElement('span');\n",
              "  element.textContent = text;\n",
              "  for (const key of Object.keys(styleAttributes)) {\n",
              "    element.style[key] = styleAttributes[key];\n",
              "  }\n",
              "  return element;\n",
              "}\n",
              "\n",
              "// Max number of bytes which will be uploaded at a time.\n",
              "const MAX_PAYLOAD_SIZE = 100 * 1024;\n",
              "\n",
              "function _uploadFiles(inputId, outputId) {\n",
              "  const steps = uploadFilesStep(inputId, outputId);\n",
              "  const outputElement = document.getElementById(outputId);\n",
              "  // Cache steps on the outputElement to make it available for the next call\n",
              "  // to uploadFilesContinue from Python.\n",
              "  outputElement.steps = steps;\n",
              "\n",
              "  return _uploadFilesContinue(outputId);\n",
              "}\n",
              "\n",
              "// This is roughly an async generator (not supported in the browser yet),\n",
              "// where there are multiple asynchronous steps and the Python side is going\n",
              "// to poll for completion of each step.\n",
              "// This uses a Promise to block the python side on completion of each step,\n",
              "// then passes the result of the previous step as the input to the next step.\n",
              "function _uploadFilesContinue(outputId) {\n",
              "  const outputElement = document.getElementById(outputId);\n",
              "  const steps = outputElement.steps;\n",
              "\n",
              "  const next = steps.next(outputElement.lastPromiseValue);\n",
              "  return Promise.resolve(next.value.promise).then((value) => {\n",
              "    // Cache the last promise value to make it available to the next\n",
              "    // step of the generator.\n",
              "    outputElement.lastPromiseValue = value;\n",
              "    return next.value.response;\n",
              "  });\n",
              "}\n",
              "\n",
              "/**\n",
              " * Generator function which is called between each async step of the upload\n",
              " * process.\n",
              " * @param {string} inputId Element ID of the input file picker element.\n",
              " * @param {string} outputId Element ID of the output display.\n",
              " * @return {!Iterable<!Object>} Iterable of next steps.\n",
              " */\n",
              "function* uploadFilesStep(inputId, outputId) {\n",
              "  const inputElement = document.getElementById(inputId);\n",
              "  inputElement.disabled = false;\n",
              "\n",
              "  const outputElement = document.getElementById(outputId);\n",
              "  outputElement.innerHTML = '';\n",
              "\n",
              "  const pickedPromise = new Promise((resolve) => {\n",
              "    inputElement.addEventListener('change', (e) => {\n",
              "      resolve(e.target.files);\n",
              "    });\n",
              "  });\n",
              "\n",
              "  const cancel = document.createElement('button');\n",
              "  inputElement.parentElement.appendChild(cancel);\n",
              "  cancel.textContent = 'Cancel upload';\n",
              "  const cancelPromise = new Promise((resolve) => {\n",
              "    cancel.onclick = () => {\n",
              "      resolve(null);\n",
              "    };\n",
              "  });\n",
              "\n",
              "  // Wait for the user to pick the files.\n",
              "  const files = yield {\n",
              "    promise: Promise.race([pickedPromise, cancelPromise]),\n",
              "    response: {\n",
              "      action: 'starting',\n",
              "    }\n",
              "  };\n",
              "\n",
              "  cancel.remove();\n",
              "\n",
              "  // Disable the input element since further picks are not allowed.\n",
              "  inputElement.disabled = true;\n",
              "\n",
              "  if (!files) {\n",
              "    return {\n",
              "      response: {\n",
              "        action: 'complete',\n",
              "      }\n",
              "    };\n",
              "  }\n",
              "\n",
              "  for (const file of files) {\n",
              "    const li = document.createElement('li');\n",
              "    li.append(span(file.name, {fontWeight: 'bold'}));\n",
              "    li.append(span(\n",
              "        `(${file.type || 'n/a'}) - ${file.size} bytes, ` +\n",
              "        `last modified: ${\n",
              "            file.lastModifiedDate ? file.lastModifiedDate.toLocaleDateString() :\n",
              "                                    'n/a'} - `));\n",
              "    const percent = span('0% done');\n",
              "    li.appendChild(percent);\n",
              "\n",
              "    outputElement.appendChild(li);\n",
              "\n",
              "    const fileDataPromise = new Promise((resolve) => {\n",
              "      const reader = new FileReader();\n",
              "      reader.onload = (e) => {\n",
              "        resolve(e.target.result);\n",
              "      };\n",
              "      reader.readAsArrayBuffer(file);\n",
              "    });\n",
              "    // Wait for the data to be ready.\n",
              "    let fileData = yield {\n",
              "      promise: fileDataPromise,\n",
              "      response: {\n",
              "        action: 'continue',\n",
              "      }\n",
              "    };\n",
              "\n",
              "    // Use a chunked sending to avoid message size limits. See b/62115660.\n",
              "    let position = 0;\n",
              "    do {\n",
              "      const length = Math.min(fileData.byteLength - position, MAX_PAYLOAD_SIZE);\n",
              "      const chunk = new Uint8Array(fileData, position, length);\n",
              "      position += length;\n",
              "\n",
              "      const base64 = btoa(String.fromCharCode.apply(null, chunk));\n",
              "      yield {\n",
              "        response: {\n",
              "          action: 'append',\n",
              "          file: file.name,\n",
              "          data: base64,\n",
              "        },\n",
              "      };\n",
              "\n",
              "      let percentDone = fileData.byteLength === 0 ?\n",
              "          100 :\n",
              "          Math.round((position / fileData.byteLength) * 100);\n",
              "      percent.textContent = `${percentDone}% done`;\n",
              "\n",
              "    } while (position < fileData.byteLength);\n",
              "  }\n",
              "\n",
              "  // All done.\n",
              "  yield {\n",
              "    response: {\n",
              "      action: 'complete',\n",
              "    }\n",
              "  };\n",
              "}\n",
              "\n",
              "scope.google = scope.google || {};\n",
              "scope.google.colab = scope.google.colab || {};\n",
              "scope.google.colab._files = {\n",
              "  _uploadFiles,\n",
              "  _uploadFilesContinue,\n",
              "};\n",
              "})(self);\n",
              "</script> "
            ]
          },
          "metadata": {}
        }
      ]
    },
    {
      "cell_type": "code",
      "metadata": {
        "id": "C696UR7iDBir"
      },
      "source": [
        "data = pd.read_csv('boston.csv', sep=';', decimal=',')"
      ],
      "execution_count": null,
      "outputs": []
    },
    {
      "cell_type": "markdown",
      "metadata": {
        "id": "kGDMfNx72Y6T"
      },
      "source": [
        "Vamos analisar as 5 primeiras linhas dos nossos dados com o método head()"
      ]
    },
    {
      "cell_type": "code",
      "metadata": {
        "id": "P1yVxRAp2Y6T"
      },
      "source": [
        "data.head()"
      ],
      "execution_count": null,
      "outputs": []
    },
    {
      "cell_type": "markdown",
      "metadata": {
        "id": "uDsr0k5-2Y6V"
      },
      "source": [
        "De acordo com nosso conjunto de dados, temos então 14 colunas:<br>\n",
        "    <b>CRIM</b>: taxa de crimes per capta na cidade <br>\n",
        "    <b>ZN</b>: proporção de terrenos residenciais zoneada para lotes acima de 25.000<br>\n",
        "    <b>INDUS</b>: proporção de zonas de negócios não varejistas na cidade<br>\n",
        "    <b>CHAS</b>: proximidade ao rio Charles 1 se próximo, 0 se não<br>\n",
        "    <b>NOX</b>: concentração de oxido nitrico (ppm)<br>\n",
        "    <b>RM</b>: número médio de cômodos por residência<br>\n",
        "    <b>AGE</b>: proporção de unidades ocupadas pelo proprietário construídas antes de 1940<br>\n",
        "    <b>DIS</b>: distância ponderada aos 5 centros financeiros de Boston<br>\n",
        "    <b>RAD</b>: índice de acessibilidade às rodoviais <br>\n",
        "    <b>TAX</b>: taxa de imposto predial de valor integral por USS 10.000 <br>\n",
        "    <b>PT</b>: relação aluno-professor por cidade<br>\n",
        "    <b>LSTAT</b>: menor status da população <br>\n",
        "    <b>MV</b>: Valor mediano de casas ocupadas pelo proprietário em USS 1000s"
      ]
    },
    {
      "cell_type": "markdown",
      "metadata": {
        "id": "h3YkPgL72Y6W"
      },
      "source": [
        "A fim de obtermos mais detalhes sobre os dados numéricos, podemos usar o método describe():"
      ]
    },
    {
      "cell_type": "code",
      "metadata": {
        "id": "p2Oe5Iwo2Y6W"
      },
      "source": [
        "data.describe()"
      ],
      "execution_count": null,
      "outputs": []
    },
    {
      "cell_type": "markdown",
      "metadata": {
        "id": "vt1mjXpO2Y6a"
      },
      "source": [
        "Podemos visualizar a distribuição dos dados por meio de um histograma:"
      ]
    },
    {
      "cell_type": "code",
      "metadata": {
        "id": "ZaFoLtYv2Y6c"
      },
      "source": [
        "data.hist(bins=50, figsize=(20,15))"
      ],
      "execution_count": null,
      "outputs": []
    },
    {
      "cell_type": "markdown",
      "metadata": {
        "id": "6BY_r0zb2Y6d"
      },
      "source": [
        "Agora que conhecemos os dados, podemos aplicar o método de regressão linear. Para isso especificamos qual será nossa varável dependente (y) e as variáveis independetes (X), ou atributos."
      ]
    },
    {
      "cell_type": "code",
      "metadata": {
        "id": "QuIu4qYZ2Y6e"
      },
      "source": [
        "y = data['MV']\n",
        "X = data.drop('MV', axis=1)"
      ],
      "execution_count": null,
      "outputs": []
    },
    {
      "cell_type": "code",
      "metadata": {
        "id": "L59Dbvut2Y6h"
      },
      "source": [
        "lin_reg = LinearRegression()\n",
        "lin_reg.fit(X, y)"
      ],
      "execution_count": null,
      "outputs": []
    },
    {
      "cell_type": "markdown",
      "metadata": {
        "id": "nDislgYP2Y6k"
      },
      "source": [
        "Agora que temos um modelo treinado, podemos prever o valor de um novo exemplo:"
      ]
    },
    {
      "cell_type": "code",
      "metadata": {
        "id": "vyb8dCqp2Y6k"
      },
      "source": [
        "x_new = [[0.02731, 0.0, 7.07, 0, 0.469, 6.421,\n",
        "          78.900002, 4.9671, 2, 242, 17.799999, 396.899994, 9.14]]"
      ],
      "execution_count": null,
      "outputs": []
    },
    {
      "cell_type": "code",
      "metadata": {
        "id": "hswH0qGi2Y6m"
      },
      "source": [
        "lin_reg.predict(x_new)"
      ],
      "execution_count": null,
      "outputs": []
    },
    {
      "cell_type": "markdown",
      "metadata": {
        "id": "Ag7s_DHL2Y6p"
      },
      "source": [
        "Também podemos prever uma lista de valores de uma única vez:"
      ]
    },
    {
      "cell_type": "code",
      "metadata": {
        "id": "R4MHrmoH2Y6p"
      },
      "source": [
        "X_new = [[0.02731, 0.0, 7.07, 0, 0.469, 6.421, 78.900002, 4.9671, 2,\n",
        "          242, 17.799999, 396.899994, 9.14],\n",
        "         [0.67671, 0.8, 5.56, 0, 0.567, 3.132, 60.678976, 2.3465, 3,\n",
        "          432,  9.546666, 342.435664, 3.23],\n",
        "         [0.05641, 0.0, 1.04, 1, 0.232, 4.322, 67.564646, 1.5678, 5,\n",
        "          567, 15.898006, 224.655678, 5.84]]"
      ],
      "execution_count": null,
      "outputs": []
    },
    {
      "cell_type": "code",
      "metadata": {
        "id": "BaT4URV92Y6s"
      },
      "source": [
        "lin_reg.predict(X_new)"
      ],
      "execution_count": null,
      "outputs": []
    },
    {
      "cell_type": "markdown",
      "metadata": {
        "id": "_HCwAVDG2Y6v"
      },
      "source": [
        "Também é possível visualizarmos os coeficientes da reta para cada atributo"
      ]
    },
    {
      "cell_type": "code",
      "metadata": {
        "id": "4DusJ5962Y6w"
      },
      "source": [
        "lin_reg.coef_"
      ],
      "execution_count": null,
      "outputs": []
    },
    {
      "cell_type": "markdown",
      "metadata": {
        "id": "J-h8FIXR2Y6x"
      },
      "source": [
        "e o valor do bias:"
      ]
    },
    {
      "cell_type": "code",
      "metadata": {
        "id": "qcZgvwpK2Y6y"
      },
      "source": [
        "lin_reg.intercept_"
      ],
      "execution_count": null,
      "outputs": []
    },
    {
      "cell_type": "markdown",
      "metadata": {
        "id": "ruecb0q32Y6z"
      },
      "source": [
        "Também podemos calcular o erro médio quadrado (MSE) do nosso modelo durante o treinamento"
      ]
    },
    {
      "cell_type": "code",
      "metadata": {
        "id": "qeyZzn1L2Y60"
      },
      "source": [
        "mean_squared_error(lin_reg.predict(X), y)"
      ],
      "execution_count": null,
      "outputs": []
    },
    {
      "cell_type": "markdown",
      "metadata": {
        "id": "1KvAKN5y6IFT"
      },
      "source": [
        "\n",
        "**[Desafio]** Agora que vimos um exemplo de uso de regressão linear, será que conseguiríamos adaptar o exposto para uso de alguma técnica de árvore de decisão? (ex. scikitlearn - https://scikit-learn.org/stable/modules/tree.html)"
      ]
    }
  ]
}