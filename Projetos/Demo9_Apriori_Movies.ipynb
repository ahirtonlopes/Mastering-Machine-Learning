{
  "nbformat": 4,
  "nbformat_minor": 0,
  "metadata": {
    "kernelspec": {
      "display_name": "Python 3",
      "language": "python",
      "name": "python3"
    },
    "language_info": {
      "codemirror_mode": {
        "name": "ipython",
        "version": 3
      },
      "file_extension": ".py",
      "mimetype": "text/x-python",
      "name": "python",
      "nbconvert_exporter": "python",
      "pygments_lexer": "ipython3",
      "version": "3.7.0"
    },
    "colab": {
      "provenance": []
    }
  },
  "cells": [
    {
      "cell_type": "markdown",
      "metadata": {
        "id": "i0muWbKzubQj"
      },
      "source": [
        "# Aula 4 - Machine Learning\n",
        "\n",
        "# Demo 9 - Algoritmo Apriori - Minerando a Escolha de Filmes"
      ]
    },
    {
      "cell_type": "markdown",
      "metadata": {
        "id": "F_8UlLyNubQo"
      },
      "source": [
        "Como visto em aula, o algoritmo Apriori é baseado na noção de Regras de Associação. Tais regras são usadas, principalmente, para a correta identificação de relações subjacentes entre diferentes itens. Nesta demo trabalhamos com um exemplo de uma plataforma de filmes, na qual os clientes têm por opção o aluguel e (ou) compra de filmes.\n",
        "\n",
        "Assim temos então uma premissa: geralmente vai existir um padrão no que os clientes compram; por exemplo, o tema Super-herói junto a filmes da categoria Crianças. Pensem então que, num caso de uso real, maior lucro poderia ser gerado a medida que forem melhor identificadas as relações entre os diferentes filmes. Ou seja, se os filmes A e B são frequentemente comprados juntos, esse padrão pode ser explorado para se aumentar o lucro.\n",
        "\n",
        "Assim, a partir do padrão encontrado, as pessoas que compram ou alugam um desses dois filmes em particular podem ser levadas a alugar ou comprar o outro, por meio de campanhas ou sugestões na plataforma. Hoje epecialmente, estamos cada vez mais familiarizados com esses mecanismos de recomendação, principalmente na Netflix e Amazon, para citar os mais importantes.\n",
        "\n"
      ]
    },
    {
      "cell_type": "markdown",
      "metadata": {
        "id": "8qxujqpnubQs"
      },
      "source": [
        "## Teoria do Algoritmo Apriori"
      ]
    },
    {
      "cell_type": "markdown",
      "metadata": {
        "id": "C3HRWQ13ubQs"
      },
      "source": [
        "Existem três componentes principais do algoritmo Apriori:\n",
        "\n",
        "- Suporte (*support*)\n",
        "- Confiança (*confidence*)\n",
        "- Lift\n",
        "\n",
        "Vamos analisar cada componente. Antes de começarmos, precisamos verificar qual a janela de tempo que faz sentido de acordo com nosso regra de negócios. Então, em nosso exemplo, vão ser usados todos os filmes comprados ou alugados por clientes individuais em um mês ou um ano."
      ]
    },
    {
      "cell_type": "markdown",
      "metadata": {
        "id": "d1PsSmKqubQt"
      },
      "source": [
        "### Support\n",
        "\n",
        "O suporte, para nosso caso de uso, refere-se então à popularidade de um filme e é calculado de acordo com o número de vezes que um determinado filme é assistido, dividido pelo número total de transações.\n",
        "\n",
        "Por exemplo, se em 100 transações, 25 transações contiverem o filme \"Blade Runner\", o suporte para pode ser calculado como:\n",
        "\n",
        "Suporte (\"Blade Runner\") = (Transações que contêm \"Blade Runner\") / (Total de transações)\n",
        "\n",
        "Suporte (\"Blade Runner\") = 25/100 = 25%"
      ]
    },
    {
      "cell_type": "markdown",
      "metadata": {
        "id": "9bUBuk3CubQu"
      },
      "source": [
        "### Confidence\n",
        "\n",
        "Confiança refere-se à probabilidade de o filme \"Blade Runner\" ser comprado ou alugado se o filme \"Eu Robô\" for comprado ou alugado. Pode ser calculado ao se encontrar o número de transações em que \"Blade Runner\" e \"Eu Robô\" foram comprados juntos, dividido pelo número total de transações em que \"Eu Robô\" é comprado ou alugado.\n",
        "\n",
        "Confiança (\"Eu Robô\" → \"Blade Runner\") = (Transações contendo ambos (\"Eu Robô\" e \"Blade Runner\")) / (Transações contendo \"Eu Robô\")\n",
        "\n",
        "Se tivéssemos 10 transações em que os clientes assistiram \"Eu Robô\" e \"Blade Runner\", enquanto em 20 transações, \"Eu Robô\" é comprado ou alugado. Então podemos encontrar as chances de que \"Blade Runner\" seja comprado/alugado quando  \"Eu Robô\" é comprado.\n",
        "\n",
        "Confiança (\"Eu Robô\" → \"Blade Runner\") = 20/20\n",
        "                             = 50%"
      ]
    },
    {
      "cell_type": "markdown",
      "metadata": {
        "id": "WQsv_MDyubQu"
      },
      "source": [
        "#### Lift\n",
        "\n",
        "Em nosso caso, quando falamos de lift, estamos falando do aumento na venda de um determinado item quando algum outro também é vendido junto a este.\n",
        "\n",
        "Por exemplo, o Lift (\"Eu Robô\" -> \"Blade Runner\") refere-se ao aumento na proporção da venda/aluguel do filme \"Blade Runner\" quando \"Eu Robô\" é vendido. Assim, o Lift pode ser calculado dividindo-se Confiança (\"Eu Robô\" -> \"Blade Runner\") dividido pelo Suporte (\"Blade Runner\").\n",
        "\n",
        "Matematicamente, temos a seguinte representação:\n",
        "\n",
        "Lift (\"Eu Robô\" → \"Blade Runner\") = (Confiança (\"Eu Robô\" → \"Blade Runner\")) / (Suporte (\"Blade Runner\"))\n",
        "Pode ser calculado como:\n",
        "\n",
        "Podemos ter, por exemplo:\n",
        "\n",
        "Lift (\"Eu Robô\" → \"Blade Runner\") = 50% / 25%\n",
        "                      = 2\n",
        "\n",
        "Então, basicamente, o Lift nos diz que a probabilidade de compra/aluguel dos filmes \"Eu Robô\" e \"Blade Runer\" juntos é 2 vezes maior do que a probabilidade de compra/aluguel apenas do filme \"Blade Runner\".\n",
        "\n",
        "Lembrete: Um aumento de 1 significa que não há associação entre produtos. Um valor de Lift superior a 1 significa que os produtos têm maior probabilidade de serem comprados juntos. Por fim, Lift inferior a 1 refere-se ao caso em que é improvável que dois produtos sejam comprados juntos."
      ]
    },
    {
      "cell_type": "markdown",
      "metadata": {
        "id": "nmNG0ufuubQv"
      },
      "source": [
        "### Etapas no Algoritmo Apriori\n",
        "\n",
        "Para grandes conjuntos de dados, podem haver centenas de itens em centenas de milhares de transações. O algoritmo Apriori tenta extrair regras para cada combinação possível de itens. Por exemplo, o aumento pode ser calculado para o item 1 e item 2, item 1 e item 3, item 1 e item 4 e, em seguida, item 2 e item 3, item 2 e item 4 e, em seguida, combinações de itens, por exemplo. item 1, item 2 e item 3; Da mesma forma, item 1, item2 e item 4, e assim por diante.\n",
        "\n",
        "Como você já deve ter pensado, esse processo pode ser extremamente lento, principalmente dado ao número de combinações.\n",
        "\n",
        "Para que esse processo seja mais rápido, precisamos executar as seguintes etapas:\n",
        "\n",
        "1. Define-se um valor mínimo para suporte e confiança.\n",
        "\n",
        "Isso significa que estamos interessados apenas em encontrar regras para os itens que possuem certa existência padrão (por exemplo, suporte) e têm um valor mínimo para co-ocorrência com outros itens (confiança).\n",
        "\n",
        "2. Extraiem-se todos os subconjuntos com maior valor de suporte que o limite mínimo.\n",
        "\n",
        "3. Selecionam-se então todas as regras dos subconjuntos com valor de confiança maior que o limite mínimo.\n",
        "\n",
        "4. Ordenam-se as regras por ordem decrescente de valor de Lift.\n",
        "\n"
      ]
    },
    {
      "cell_type": "markdown",
      "metadata": {
        "id": "1SgNM6mjubQw"
      },
      "source": [
        "### Implementação de nosso Algoritmo Apriori\n",
        "\n",
        "Agora, como visto em sala, usaremos o algoritmo Apriori para encontrar regras que descrevam associações entre diferentes produtos, dadas 7500 transações ao longo de um mês. O conjunto de dados dos filmes é escolhido aleatoriamente, não sendo dados reais.\n",
        "\n",
        "Tendo em vista o cálculo de suporte, confiança e lift para todas as combinações possíveis de itens usaremos uma biblioteca chamada apyori, a qual é instalada em nosso ambiente do Google Colab por meio do seguinte trecho de código:"
      ]
    },
    {
      "cell_type": "code",
      "metadata": {
        "id": "-bgbuEzAgM_k",
        "colab": {
          "base_uri": "https://localhost:8080/"
        },
        "outputId": "31cfb74a-6875-4f19-d05f-07fad1aef2b3"
      },
      "source": [
        "!pip3 install apyori"
      ],
      "execution_count": 1,
      "outputs": [
        {
          "output_type": "stream",
          "name": "stdout",
          "text": [
            "Collecting apyori\n",
            "  Downloading apyori-1.1.2.tar.gz (8.6 kB)\n",
            "  Preparing metadata (setup.py) ... \u001b[?25l\u001b[?25hdone\n",
            "Building wheels for collected packages: apyori\n",
            "  Building wheel for apyori (setup.py) ... \u001b[?25l\u001b[?25hdone\n",
            "  Created wheel for apyori: filename=apyori-1.1.2-py3-none-any.whl size=5955 sha256=e505396c5a455f999889588eacb6fa98cfe4d6bfd02e2944fd137fc374155380\n",
            "  Stored in directory: /root/.cache/pip/wheels/c4/1a/79/20f55c470a50bb3702a8cb7c94d8ada15573538c7f4baebe2d\n",
            "Successfully built apyori\n",
            "Installing collected packages: apyori\n",
            "Successfully installed apyori-1.1.2\n"
          ]
        }
      ]
    },
    {
      "cell_type": "markdown",
      "metadata": {
        "id": "Au6OJ9BsubQ2"
      },
      "source": [
        "#### Importando nossas bibliotecas"
      ]
    },
    {
      "cell_type": "code",
      "metadata": {
        "id": "XNm7IHv6ubQ4"
      },
      "source": [
        "import numpy as np\n",
        "import matplotlib.pyplot as plt\n",
        "import pandas as pd\n",
        "from apyori import apriori"
      ],
      "execution_count": 2,
      "outputs": []
    },
    {
      "cell_type": "markdown",
      "metadata": {
        "id": "Dkf259Q_ubQ7"
      },
      "source": [
        "#### Importando nosso dataset"
      ]
    },
    {
      "cell_type": "code",
      "metadata": {
        "id": "G4GrLTUFggyE",
        "colab": {
          "base_uri": "https://localhost:8080/",
          "height": 91
        },
        "outputId": "faade7c3-446e-4cd0-9dc3-28c9b570fb05"
      },
      "source": [
        "from google.colab import files\n",
        "\n",
        "uploaded = files.upload()\n",
        "\n",
        "for fn in uploaded.keys():\n",
        "\n",
        "\n",
        "  print('User uploaded file \"{name}\" with length {length} bytes'.format(\n",
        "      name=fn, length=len(uploaded[fn])))"
      ],
      "execution_count": 3,
      "outputs": [
        {
          "output_type": "display_data",
          "data": {
            "text/plain": [
              "<IPython.core.display.HTML object>"
            ],
            "text/html": [
              "\n",
              "     <input type=\"file\" id=\"files-212b9262-3cd0-4789-8b1f-6720ef464eb6\" name=\"files[]\" multiple disabled\n",
              "        style=\"border:none\" />\n",
              "     <output id=\"result-212b9262-3cd0-4789-8b1f-6720ef464eb6\">\n",
              "      Upload widget is only available when the cell has been executed in the\n",
              "      current browser session. Please rerun this cell to enable.\n",
              "      </output>\n",
              "      <script>// Copyright 2017 Google LLC\n",
              "//\n",
              "// Licensed under the Apache License, Version 2.0 (the \"License\");\n",
              "// you may not use this file except in compliance with the License.\n",
              "// You may obtain a copy of the License at\n",
              "//\n",
              "//      http://www.apache.org/licenses/LICENSE-2.0\n",
              "//\n",
              "// Unless required by applicable law or agreed to in writing, software\n",
              "// distributed under the License is distributed on an \"AS IS\" BASIS,\n",
              "// WITHOUT WARRANTIES OR CONDITIONS OF ANY KIND, either express or implied.\n",
              "// See the License for the specific language governing permissions and\n",
              "// limitations under the License.\n",
              "\n",
              "/**\n",
              " * @fileoverview Helpers for google.colab Python module.\n",
              " */\n",
              "(function(scope) {\n",
              "function span(text, styleAttributes = {}) {\n",
              "  const element = document.createElement('span');\n",
              "  element.textContent = text;\n",
              "  for (const key of Object.keys(styleAttributes)) {\n",
              "    element.style[key] = styleAttributes[key];\n",
              "  }\n",
              "  return element;\n",
              "}\n",
              "\n",
              "// Max number of bytes which will be uploaded at a time.\n",
              "const MAX_PAYLOAD_SIZE = 100 * 1024;\n",
              "\n",
              "function _uploadFiles(inputId, outputId) {\n",
              "  const steps = uploadFilesStep(inputId, outputId);\n",
              "  const outputElement = document.getElementById(outputId);\n",
              "  // Cache steps on the outputElement to make it available for the next call\n",
              "  // to uploadFilesContinue from Python.\n",
              "  outputElement.steps = steps;\n",
              "\n",
              "  return _uploadFilesContinue(outputId);\n",
              "}\n",
              "\n",
              "// This is roughly an async generator (not supported in the browser yet),\n",
              "// where there are multiple asynchronous steps and the Python side is going\n",
              "// to poll for completion of each step.\n",
              "// This uses a Promise to block the python side on completion of each step,\n",
              "// then passes the result of the previous step as the input to the next step.\n",
              "function _uploadFilesContinue(outputId) {\n",
              "  const outputElement = document.getElementById(outputId);\n",
              "  const steps = outputElement.steps;\n",
              "\n",
              "  const next = steps.next(outputElement.lastPromiseValue);\n",
              "  return Promise.resolve(next.value.promise).then((value) => {\n",
              "    // Cache the last promise value to make it available to the next\n",
              "    // step of the generator.\n",
              "    outputElement.lastPromiseValue = value;\n",
              "    return next.value.response;\n",
              "  });\n",
              "}\n",
              "\n",
              "/**\n",
              " * Generator function which is called between each async step of the upload\n",
              " * process.\n",
              " * @param {string} inputId Element ID of the input file picker element.\n",
              " * @param {string} outputId Element ID of the output display.\n",
              " * @return {!Iterable<!Object>} Iterable of next steps.\n",
              " */\n",
              "function* uploadFilesStep(inputId, outputId) {\n",
              "  const inputElement = document.getElementById(inputId);\n",
              "  inputElement.disabled = false;\n",
              "\n",
              "  const outputElement = document.getElementById(outputId);\n",
              "  outputElement.innerHTML = '';\n",
              "\n",
              "  const pickedPromise = new Promise((resolve) => {\n",
              "    inputElement.addEventListener('change', (e) => {\n",
              "      resolve(e.target.files);\n",
              "    });\n",
              "  });\n",
              "\n",
              "  const cancel = document.createElement('button');\n",
              "  inputElement.parentElement.appendChild(cancel);\n",
              "  cancel.textContent = 'Cancel upload';\n",
              "  const cancelPromise = new Promise((resolve) => {\n",
              "    cancel.onclick = () => {\n",
              "      resolve(null);\n",
              "    };\n",
              "  });\n",
              "\n",
              "  // Wait for the user to pick the files.\n",
              "  const files = yield {\n",
              "    promise: Promise.race([pickedPromise, cancelPromise]),\n",
              "    response: {\n",
              "      action: 'starting',\n",
              "    }\n",
              "  };\n",
              "\n",
              "  cancel.remove();\n",
              "\n",
              "  // Disable the input element since further picks are not allowed.\n",
              "  inputElement.disabled = true;\n",
              "\n",
              "  if (!files) {\n",
              "    return {\n",
              "      response: {\n",
              "        action: 'complete',\n",
              "      }\n",
              "    };\n",
              "  }\n",
              "\n",
              "  for (const file of files) {\n",
              "    const li = document.createElement('li');\n",
              "    li.append(span(file.name, {fontWeight: 'bold'}));\n",
              "    li.append(span(\n",
              "        `(${file.type || 'n/a'}) - ${file.size} bytes, ` +\n",
              "        `last modified: ${\n",
              "            file.lastModifiedDate ? file.lastModifiedDate.toLocaleDateString() :\n",
              "                                    'n/a'} - `));\n",
              "    const percent = span('0% done');\n",
              "    li.appendChild(percent);\n",
              "\n",
              "    outputElement.appendChild(li);\n",
              "\n",
              "    const fileDataPromise = new Promise((resolve) => {\n",
              "      const reader = new FileReader();\n",
              "      reader.onload = (e) => {\n",
              "        resolve(e.target.result);\n",
              "      };\n",
              "      reader.readAsArrayBuffer(file);\n",
              "    });\n",
              "    // Wait for the data to be ready.\n",
              "    let fileData = yield {\n",
              "      promise: fileDataPromise,\n",
              "      response: {\n",
              "        action: 'continue',\n",
              "      }\n",
              "    };\n",
              "\n",
              "    // Use a chunked sending to avoid message size limits. See b/62115660.\n",
              "    let position = 0;\n",
              "    do {\n",
              "      const length = Math.min(fileData.byteLength - position, MAX_PAYLOAD_SIZE);\n",
              "      const chunk = new Uint8Array(fileData, position, length);\n",
              "      position += length;\n",
              "\n",
              "      const base64 = btoa(String.fromCharCode.apply(null, chunk));\n",
              "      yield {\n",
              "        response: {\n",
              "          action: 'append',\n",
              "          file: file.name,\n",
              "          data: base64,\n",
              "        },\n",
              "      };\n",
              "\n",
              "      let percentDone = fileData.byteLength === 0 ?\n",
              "          100 :\n",
              "          Math.round((position / fileData.byteLength) * 100);\n",
              "      percent.textContent = `${percentDone}% done`;\n",
              "\n",
              "    } while (position < fileData.byteLength);\n",
              "  }\n",
              "\n",
              "  // All done.\n",
              "  yield {\n",
              "    response: {\n",
              "      action: 'complete',\n",
              "    }\n",
              "  };\n",
              "}\n",
              "\n",
              "scope.google = scope.google || {};\n",
              "scope.google.colab = scope.google.colab || {};\n",
              "scope.google.colab._files = {\n",
              "  _uploadFiles,\n",
              "  _uploadFilesContinue,\n",
              "};\n",
              "})(self);\n",
              "</script> "
            ]
          },
          "metadata": {}
        },
        {
          "output_type": "stream",
          "name": "stdout",
          "text": [
            "Saving movie_dataset.csv to movie_dataset.csv\n",
            "User uploaded file \"movie_dataset.csv\" with length 462989 bytes\n"
          ]
        }
      ]
    },
    {
      "cell_type": "code",
      "metadata": {
        "id": "JRq0KZiNubQ8",
        "colab": {
          "base_uri": "https://localhost:8080/"
        },
        "outputId": "9e1ab6f1-5eea-4354-c45b-99653c865720"
      },
      "source": [
        "movie_data = pd.read_csv('movie_dataset.csv', header = None)\n",
        "num_records = len(movie_data)\n",
        "print(num_records)"
      ],
      "execution_count": 4,
      "outputs": [
        {
          "output_type": "stream",
          "name": "stdout",
          "text": [
            "7501\n"
          ]
        }
      ]
    },
    {
      "cell_type": "markdown",
      "metadata": {
        "id": "lMaw0gLtubRC"
      },
      "source": [
        "Agora, usaremos o algoritmo Apriori para descobrir quais itens são comumente vendidos juntos, para que o proprietário da loja possa tomar medidas para colocar os itens relacionados juntos ou fazer publicidade de forma conjunto, tendo em vista aumentar o lucro."
      ]
    },
    {
      "cell_type": "markdown",
      "metadata": {
        "id": "Y9zFYJ-rubRC"
      },
      "source": [
        "#### Pré-processamento de Dados\n",
        "\n",
        "A biblioteca Apriori que vamos usar exige que nosso conjunto de dados esteja na forma de uma lista de listas, onde todo o conjunto de dados é uma grande lista, e cada transação no conjunto de dados é uma lista interna da grande lista externa.\n",
        "\n",
        "Atualmente, temos dados na forma de um dataframe pandas. Para converter nosso dataframe do pandas em uma lista de listas, execute o seguinte:"
      ]
    },
    {
      "cell_type": "code",
      "metadata": {
        "id": "KjwF5ncFubRD"
      },
      "source": [
        "records = []\n",
        "for i in range(0, num_records):\n",
        "    records.append([str(movie_data.values[i,j]) for j in range(0, 20)])"
      ],
      "execution_count": 5,
      "outputs": []
    },
    {
      "cell_type": "markdown",
      "metadata": {
        "id": "mjh75X4hubRG"
      },
      "source": [
        "#### Aplicando o Apriori\n",
        "\n",
        "Agora podemos especificar os parâmetros da classe apriori.\n",
        "\n",
        "- A lista\n",
        "- min_support\n",
        "- min_confidence\n",
        "- min_lift\n",
        "- min_length (o número mínimo de itens que você deseja em suas regras, geralmente 2)\n",
        "\n",
        "Vamos supor que queremos apenas filmes comprados pelo menos 30 vezes em um mês. O suporte para esses itens pode ser calculado como 30/7500 = 0,004. A confiança mínima para as regras é de 20% ou 0,2. Da mesma forma, especificamos o valor de lift como 3 e, finalmente, min_length é 2, pois queremos pelo menos dois produtos em nossas regras.\n",
        "\n",
        "Lembrete: Como falado em aula, esses valores geralmente são escolhidos de forma arbitrária e precisam ser ajustados empiricamente.\n",
        "\n",
        "Agora, execute a seguinte célula"
      ]
    },
    {
      "cell_type": "code",
      "metadata": {
        "id": "zt4O7vaXubRI"
      },
      "source": [
        "association_rules = apriori(records, min_support=0.004, min_confidence=0.20, min_lift=3, min_length=2)\n",
        "association_results = list(association_rules)"
      ],
      "execution_count": 6,
      "outputs": []
    },
    {
      "cell_type": "markdown",
      "metadata": {
        "id": "LSUmbIswubRO"
      },
      "source": [
        "Na segunda linha aqui, podem observar que convertemos as regras encontradas pela classe apriori em uma lista, pois é mais fácil visualizar os resultados neste formato.\n",
        "\n",
        "#### Visualizando os resultados:\n",
        "\n",
        "Agora, vamos primeiro encontrar o número total de regras extraídas pela classe apriori, de acordo com o seguinte script:"
      ]
    },
    {
      "cell_type": "code",
      "metadata": {
        "id": "i2ds_krjubRP",
        "colab": {
          "base_uri": "https://localhost:8080/"
        },
        "outputId": "f74bd07a-41e6-4593-913c-0b3de150d5bc"
      },
      "source": [
        "print(len(association_results))"
      ],
      "execution_count": 7,
      "outputs": [
        {
          "output_type": "stream",
          "name": "stdout",
          "text": [
            "58\n"
          ]
        }
      ]
    },
    {
      "cell_type": "markdown",
      "metadata": {
        "id": "o_2wroajubRS"
      },
      "source": [
        "O script acima deve retornar 56. Cada item correspondendo a uma regra.\n",
        "\n",
        "Vamos imprimir o primeiro item na lista association_rules para ver a primeira regra gerada:"
      ]
    },
    {
      "cell_type": "code",
      "metadata": {
        "id": "8h4usFwCubRT",
        "colab": {
          "base_uri": "https://localhost:8080/"
        },
        "outputId": "f7468e90-c5cc-4b6c-b5f4-d975b79b024a"
      },
      "source": [
        "print(association_results[0])"
      ],
      "execution_count": 8,
      "outputs": [
        {
          "output_type": "stream",
          "name": "stdout",
          "text": [
            "RelationRecord(items=frozenset({'London Has Fallen', 'Captain America'}), support=0.004532728969470737, ordered_statistics=[OrderedStatistic(items_base=frozenset({'London Has Fallen'}), items_add=frozenset({'Captain America'}), confidence=0.29059829059829057, lift=4.84395061728395)])\n"
          ]
        }
      ]
    },
    {
      "cell_type": "markdown",
      "metadata": {
        "id": "Ew7S91SIubRW"
      },
      "source": [
        "O primeiro item da lista é uma lista em si que contém três itens. O primeiro item da lista mostra os filmes na regra.\n",
        "\n",
        "Por exemplo, desde o primeiro item, podemos ver que \"London Has Fallen\"\" e \"Captain America\" são comumente comprados juntos.\n",
        "\n",
        "O valor do suporte para a primeira regra é 0,0045. Esse número é calculado dividindo-se o número de transações que contêm \"London Has Fallen\", dividido pelo número total de transações.\n",
        "\n",
        "O nível de confiança para a regra é 0,2905 o que mostra que, de todas as transações que contêm \"London Has Fallen\", quase 30% das transações também contêm \"Captain America\".\n",
        "\n",
        "Por fim, o aumento de 4,84 nos diz que o \"Captain America\" é 4,84 vezes mais provável de ser comprado pelos clientes que compram \"London Has Fallen\" em comparação com a probabilidade padrão de venda do \"Captain America\"."
      ]
    },
    {
      "cell_type": "markdown",
      "metadata": {
        "id": "d9G43E4LubRX"
      },
      "source": [
        "O script a seguir exibe a regra em um dataframe, de maneira mais legível:\n",
        "\n"
      ]
    },
    {
      "cell_type": "code",
      "metadata": {
        "id": "QXHAxWSMubRZ",
        "colab": {
          "base_uri": "https://localhost:8080/"
        },
        "outputId": "8694f56a-3ecc-43d8-f16a-8f9cb6462c28"
      },
      "source": [
        "results = []\n",
        "for item in association_results:\n",
        "\n",
        "    pair = item[0] #primeiro indice da lista interna\n",
        "    items = [x for x in pair] #contem item base e adiciona item\n",
        "\n",
        "    value0 = str(items[0])\n",
        "    value1 = str(items[1])\n",
        "\n",
        "    #indice da lista interna\n",
        "    value2 = str(item[1])[:7]\n",
        "\n",
        "    #primeiro indice da lista localizada na posicao 0\n",
        "    #do tercerio indice da lista interna\n",
        "\n",
        "    value3 = str(item[2][0][2])[:7]\n",
        "    value4 = str(item[2][0][3])[:7]\n",
        "\n",
        "    rows = (value0, value1,value2,value3,value4)\n",
        "    results.append(rows)\n",
        "\n",
        "labels = ['Titulo 1','Titulo 2','Support','Confidence','Lift']\n",
        "movie_suggestion = pd.DataFrame.from_records(results, columns = labels)\n",
        "\n",
        "print(movie_suggestion)"
      ],
      "execution_count": 9,
      "outputs": [
        {
          "output_type": "stream",
          "name": "stdout",
          "text": [
            "             Titulo 1               Titulo 2  Support Confidence     Lift\n",
            "0   London Has Fallen        Captain America  0.00453    0.29059  4.84395\n",
            "1         Red Sparrow          Green Lantern  0.00573    0.30069  3.79083\n",
            "2           Star Wars          Green Lantern  0.00586    0.37288  4.70081\n",
            "3       Kung Fu Panda                Jumanji  0.01599    0.32345  3.29199\n",
            "4        Wonder Woman                Jumanji  0.00533    0.37735  3.84065\n",
            "5         Spiderman 3  The Spy Who Dumped Me  0.00799    0.27149  4.12241\n",
            "6        The Revenant              Star Wars  0.00506    0.32203  4.50667\n",
            "7                 nan      London Has Fallen  0.00453    0.29059  4.84395\n",
            "8        The Revenant                 Intern  0.00533    0.23255  3.25451\n",
            "9          Tomb Rider        Fantastic Beast  0.00479    0.57142  3.28199\n",
            "10      Kung Fu Panda                Get Out  0.00413    0.20666  4.17845\n",
            "11                nan            Red Sparrow  0.00573    0.30069  3.79083\n",
            "12                nan              Star Wars  0.00586    0.37288  4.70081\n",
            "13         Tomb Rider                 Intern  0.00866    0.31100  3.16532\n",
            "14        Spiderman 3                  Moana  0.00479    0.20338  3.08831\n",
            "15        World War Z                  Moana  0.00413    0.29523  3.09731\n",
            "16       The Revenant                 Intern  0.00719    0.30508  3.20061\n",
            "17         Tomb Rider            Spiderman 3  0.00573    0.20574  3.12402\n",
            "18         Tomb Rider           The Revenant  0.00599    0.21531  3.01314\n",
            "19         Tomb Rider            World War Z  0.00666    0.23923  3.49804\n",
            "20         Tomb Rider               Iron Man  0.00533    0.32258  3.28314\n",
            "21      Ninja Turtles          Kung Fu Panda  0.00666    0.39062  3.97568\n",
            "22         Tomb Rider          Kung Fu Panda  0.00639    0.39344  4.00435\n",
            "23                nan          Kung Fu Panda  0.01599    0.32345  3.29199\n",
            "24        Spiderman 3                  Moana  0.00493    0.22424  3.40494\n",
            "25         Tomb Rider           The Revenant  0.00599    0.52325  3.00531\n",
            "26                nan           Wonder Woman  0.00533    0.37735  3.84065\n",
            "27         Tomb Rider            Spiderman 3  0.00719    0.20300  3.08250\n",
            "28               Thor            Spiderman 3  0.00519    0.22543  3.42303\n",
            "29         Tomb Rider              Spotlight  0.00506    0.20105  3.05291\n",
            "30                nan            Spiderman 3  0.00799    0.27149  4.13077\n",
            "31         Tomb Rider            Spiderman 3  0.00439    0.61111  3.50991\n",
            "32                nan           The Revenant  0.00506    0.32203  4.51509\n",
            "33                nan           The Revenant  0.00533    0.23255  3.26059\n",
            "34         Tomb Rider        Fantastic Beast  0.00479    0.57142  3.28199\n",
            "35                nan          Kung Fu Panda  0.00413    0.20666  4.17845\n",
            "36      Ninja Turtles             Tomb Rider  0.00439    0.25984  4.35062\n",
            "37         Tomb Rider                    nan  0.00866    0.31100  3.16532\n",
            "38         Tomb Rider                  Moana  0.00453    0.28813  3.02280\n",
            "39                nan            Spiderman 3  0.00479    0.20338  3.09457\n",
            "40        World War Z                    nan  0.00413    0.29523  3.09731\n",
            "41                nan           The Revenant  0.00719    0.30508  3.20061\n",
            "42         Tomb Rider                    nan  0.00573    0.20574  3.13036\n",
            "43         Tomb Rider                    nan  0.00599    0.21531  3.01878\n",
            "44         Tomb Rider                    nan  0.00666    0.23923  3.49804\n",
            "45         Tomb Rider                    nan  0.00533    0.32258  3.28314\n",
            "46      Ninja Turtles                    nan  0.00666    0.39062  3.97568\n",
            "47         Tomb Rider                    nan  0.00639    0.39344  4.00435\n",
            "48      Ninja Turtles                  Moana  0.00439        0.2  3.34866\n",
            "49                nan            Spiderman 3  0.00493    0.22424  3.41185\n",
            "50         Tomb Rider                    nan  0.00599    0.52325  3.00531\n",
            "51         Tomb Rider                    nan  0.00719    0.20300  3.08876\n",
            "52               Thor                    nan  0.00519    0.22543  3.42997\n",
            "53         Tomb Rider              Spotlight  0.00506    0.20105  3.05910\n",
            "54         Tomb Rider                    nan  0.00439    0.61111  3.50991\n",
            "55         Tomb Rider                 Intern  0.00439    0.25984  4.35062\n",
            "56         Tomb Rider                 Intern  0.00453    0.28813  3.02280\n",
            "57         Tomb Rider                    nan  0.00439        0.2  3.34866\n"
          ]
        }
      ]
    }
  ]
}