{
  "nbformat": 4,
  "nbformat_minor": 0,
  "metadata": {
    "kernelspec": {
      "display_name": "Python 3",
      "language": "python",
      "name": "python3"
    },
    "language_info": {
      "codemirror_mode": {
        "name": "ipython",
        "version": 3
      },
      "file_extension": ".py",
      "mimetype": "text/x-python",
      "name": "python",
      "nbconvert_exporter": "python",
      "pygments_lexer": "ipython3",
      "version": "3.6.3"
    },
    "colab": {
      "provenance": []
    }
  },
  "cells": [
    {
      "cell_type": "markdown",
      "metadata": {
        "id": "0g_H9vjcBRkH"
      },
      "source": [
        "# Aula 1 - Machine Learning\n",
        "\n",
        "## Demo 1 - Algoritmo Genético para construção de frase alvo"
      ]
    },
    {
      "cell_type": "markdown",
      "metadata": {
        "id": "cDOLZx24AydH"
      },
      "source": [
        "Começamos com um conjunto genérico de letras como nosso set de genes e uma \"alvo\" de destino, no caso uma frase. Poderiam ser também caracteres dentre outros tipos de dados.\n",
        "\n",
        "Exemplo:\n",
        "\n",
        "https://www.researchgate.net/publication/334279473_Aplicacao_de_Algoritmo_Genetico_para_Reconhecimento_de_Padroes_Roletas_de_Las_Vegas_e_Atlantic_City_a_Computacao_Natural)"
      ]
    },
    {
      "cell_type": "code",
      "metadata": {
        "id": "5CXLyy82AydI"
      },
      "source": [
        "geneSet = \" abcdefghijklmnopqrstuvwxyzABCDEFGHIJKLMNOPQRSTUVWXYZ!.\"\n",
        "target = \"hello world!\""
      ],
      "execution_count": 1,
      "outputs": []
    },
    {
      "cell_type": "markdown",
      "metadata": {
        "id": "8LLSm_6dAydL"
      },
      "source": [
        "## Generando um \"palpite\"\n",
        "\n",
        "Em seguida, precisamos de uma maneira de gerar uma seqüência aleatória de letras a partir do conjunto de genes."
      ]
    },
    {
      "cell_type": "code",
      "metadata": {
        "id": "r3fxv_hRAydL"
      },
      "source": [
        "import random\n",
        "\n",
        "def generate_parent(length):\n",
        "    genes = []\n",
        "    while len(genes) < length:\n",
        "        sampleSize = min(length - len(genes), len(geneSet))\n",
        "        genes.extend(random.sample(geneSet, sampleSize))\n",
        "    return ''.join(genes)"
      ],
      "execution_count": 2,
      "outputs": []
    },
    {
      "cell_type": "markdown",
      "metadata": {
        "id": "ToPiT63aAydN"
      },
      "source": [
        "random.sample pega valores sampleSize da entrada sem substituição. Isso significa que não haverá duplicatas no pai gerado, a menos que o geneSet contenha duplicatas ou o tamanho seja maior que len (geneSet). A implementação acima nos permite gerar uma longa string com um pequeno conjunto de genes, usando o maior número possível de genes únicos."
      ]
    },
    {
      "cell_type": "markdown",
      "metadata": {
        "id": "LUiApuHBAydO"
      },
      "source": [
        "## Fitness\n",
        "\n",
        "O valor de adequação ou adaptação que o algoritmo genético fornece é o único feedback que o mecanismo obtém para guiá-lo em direção\n",
        "a uma solução. Nesse problema, nosso valor de adequação é o número total de letras no palpite que correspondem à letra\n",
        "na mesma posição da senha."
      ]
    },
    {
      "cell_type": "code",
      "metadata": {
        "id": "kUkICUSIAydP"
      },
      "source": [
        "def get_fitness(guess):\n",
        "    return sum(1 for expected, actual in zip(target, guess)\n",
        "               if expected == actual)"
      ],
      "execution_count": 3,
      "outputs": []
    },
    {
      "cell_type": "markdown",
      "metadata": {
        "id": "JL5-rEyZAydR"
      },
      "source": [
        "## Mutação\n",
        "\n",
        "Também precisamos de uma maneira de produzir um novo palpite, alterando o atual. A implementação a seguir converte a string pai em uma matriz com list (parent), em seguida, substitui 1 letra na matriz selecionada aleatoriamente de geneSet e, em seguida, recombina o resultado em uma string com '' .join (genes)."
      ]
    },
    {
      "cell_type": "code",
      "metadata": {
        "id": "bivU8kmPAydR"
      },
      "source": [
        "def mutate(parent):\n",
        "    index = random.randrange(0, len(parent))\n",
        "    childGenes = list(parent)\n",
        "    newGene, alternate = random.sample(geneSet, 2)\n",
        "    childGenes[index] = alternate \\\n",
        "        if newGene == childGenes[index] \\\n",
        "        else newGene\n",
        "    return ''.join(childGenes)"
      ],
      "execution_count": 4,
      "outputs": []
    },
    {
      "cell_type": "markdown",
      "metadata": {
        "id": "vKvEYmI9AydT"
      },
      "source": [
        "Essa implementação usa uma substituição alternativa se o newGene selecionado aleatoriamente for o mesmo que o que\n",
        "deve substituir, o que pode economizar uma quantidade significativa de sobrecarga."
      ]
    },
    {
      "cell_type": "markdown",
      "metadata": {
        "id": "Xsca0WRpAydU"
      },
      "source": [
        "## Display\n",
        "\n",
        "Em seguida, é importante monitorar o que está acontecendo, para que possamos parar o mecanismo se ele ficar preso. Também nos permite aprender o que funciona e o que não funciona para que possamos melhorar o algoritmo.\n",
        "\n",
        "Vamos exibir uma representação visual da sequência do gene, que pode não ser a seqüência do gene literal, seu valor de adequação e quanto tempo se passou."
      ]
    },
    {
      "cell_type": "code",
      "metadata": {
        "id": "LvJOjaToAydV"
      },
      "source": [
        "import datetime\n",
        "\n",
        "def display(guess):\n",
        "    timeDiff = datetime.datetime.now() - startTime\n",
        "    fitness = get_fitness(guess)\n",
        "    print(\"{0}\\t{1}\\t{2}\".format(guess, fitness, str(timeDiff)))"
      ],
      "execution_count": 5,
      "outputs": []
    },
    {
      "cell_type": "markdown",
      "metadata": {
        "id": "HqHkMjKYAydX"
      },
      "source": [
        "## Main\n",
        "\n",
        "Agora estamos prontos para escrever o programa principal. Começamos inicializando o bestParent com uma sequência aleatória de letras."
      ]
    },
    {
      "cell_type": "code",
      "metadata": {
        "id": "X_Cz81sWAydX",
        "outputId": "fe70013f-a48d-43e5-a037-38c49c86ab30",
        "colab": {
          "base_uri": "https://localhost:8080/"
        }
      },
      "source": [
        "random.seed()\n",
        "startTime = datetime.datetime.now()\n",
        "bestParent = generate_parent(len(target))\n",
        "bestFitness = get_fitness(bestParent)\n",
        "display(bestParent)"
      ],
      "execution_count": 6,
      "outputs": [
        {
          "output_type": "stream",
          "name": "stdout",
          "text": [
            "qVplIxZ!PzeN\t1\t0:00:00.000187\n"
          ]
        }
      ]
    },
    {
      "cell_type": "markdown",
      "metadata": {
        "id": "rtsgq953Aydb"
      },
      "source": [
        "Então nós adicionamos o coração do motor genético. É um loop que gera um palpite, solicita a adequação para esse palpite, compara-o ao do palpite anterior e mantém o melhor dos dois. Este ciclo se repete até que todas as letras coincidam com as do alvo."
      ]
    },
    {
      "cell_type": "code",
      "metadata": {
        "id": "dF-zE_8lAydc",
        "outputId": "0032a0f4-2437-417a-9e9a-dbf59a916c12",
        "colab": {
          "base_uri": "https://localhost:8080/"
        }
      },
      "source": [
        "i = 0\n",
        "while True:\n",
        "    i=i+1\n",
        "    child = mutate(bestParent)\n",
        "    childFitness = get_fitness(child)\n",
        "\n",
        "    if bestFitness >= childFitness:\n",
        "        continue\n",
        "    display(child)\n",
        "    if childFitness >= len(bestParent):\n",
        "        break\n",
        "    bestFitness = childFitness\n",
        "    bestParent = child\n",
        "print(i)"
      ],
      "execution_count": 7,
      "outputs": [
        {
          "output_type": "stream",
          "name": "stdout",
          "text": [
            "qVplIxw!PzeN\t2\t0:00:00.009479\n",
            "qVplIxw!rzeN\t3\t0:00:00.010213\n",
            "qVplI w!rzeN\t4\t0:00:00.011110\n",
            "qVplI w!rleN\t5\t0:00:00.014172\n",
            "hVplI w!rleN\t6\t0:00:00.014606\n",
            "hVllI w!rleN\t7\t0:00:00.016241\n",
            "hVllI w!rle!\t8\t0:00:00.017443\n",
            "hVllI worle!\t9\t0:00:00.019303\n",
            "hVllI world!\t10\t0:00:00.019542\n",
            "hVllo world!\t11\t0:00:00.020878\n",
            "hello world!\t12\t0:00:00.023943\n",
            "1487\n"
          ]
        }
      ]
    },
    {
      "cell_type": "markdown",
      "metadata": {
        "collapsed": true,
        "id": "tDLLQkzUAyde"
      },
      "source": [
        "Sucesso!\n",
        "\n",
        "Parabéns, você acaba de construir seu primeiro Algoritmo Genético em Python."
      ]
    }
  ]
}